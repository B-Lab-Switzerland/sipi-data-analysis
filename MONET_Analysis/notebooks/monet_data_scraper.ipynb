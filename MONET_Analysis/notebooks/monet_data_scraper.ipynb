{
 "cells": [
  {
   "cell_type": "markdown",
   "id": "c9b778b8-7a3b-4838-b5d0-069e78bd853b",
   "metadata": {},
   "source": [
    "# MONET2030 - Data Scraping/ETL"
   ]
  },
  {
   "cell_type": "code",
   "execution_count": null,
   "id": "07ec5a19-35ce-4493-a4f9-56895f587a15",
   "metadata": {},
   "outputs": [],
   "source": [
    "# Stdlib imports\n",
    "import re\n",
    "from pathlib import Path\n",
    "\n",
    "# 3rd party imports\n",
    "import pandas as pd\n",
    "import numpy as np\n",
    "import matplotlib.pyplot as plt\n",
    "import seaborn as sns\n",
    "\n",
    "# Local imports\n",
    "from pymonet import monet_scraper as scraper\n",
    "from pymonet import monet_consts as const\n",
    "from sipi_da_utils import utils"
   ]
  },
  {
   "cell_type": "markdown",
   "id": "d52ca24e-68e4-4d96-b985-8d9ea24017a4",
   "metadata": {},
   "source": [
    "## 1) List of all MONET2030 indicators\n",
    "\n",
    "First, let's scrape a list of all indicators and their meta information (e.g. the URLs pointing to the indicator-specific subpages). Let's write this info to a dataframe and store it to disk."
   ]
  },
  {
   "cell_type": "code",
   "execution_count": null,
   "id": "74418e6c-c611-4940-b65b-744238157d41",
   "metadata": {},
   "outputs": [],
   "source": [
    "itl = scraper.IndicatorTableLoader(const.url_all_monet2030_indicators, \n",
    "                                   const.indicator_table_path\n",
    "                                  )\n",
    "await itl.get_table()"
   ]
  },
  {
   "cell_type": "code",
   "execution_count": null,
   "id": "745a2ba9-f195-45d0-8901-89fd48920611",
   "metadata": {},
   "outputs": [],
   "source": [
    "itl.table.head()"
   ]
  },
  {
   "cell_type": "markdown",
   "id": "81d1a191-03f3-455e-8b37-99b84907e811",
   "metadata": {},
   "source": [
    "## 2) List of all data files for all MONET2030 indicators\n",
    "\n",
    "Given a list of all subpages related to the MONET2030 indicators (see Step 1), we can now go a step further and scrape each of these subpages. Doing so we can find yet a new set of URLs that point to the actual indicator-specific data files. It is the data in these files we are ultimately interested in."
   ]
  },
  {
   "cell_type": "code",
   "execution_count": null,
   "id": "2478b3d9-2906-49f2-a671-a14c813697f3",
   "metadata": {},
   "outputs": [],
   "source": [
    "mitl = scraper.MetaInfoTableLoader(itl.table,\n",
    "                                   const.metainfo_table_path\n",
    "                                  )\n",
    "await mitl.get_table()"
   ]
  },
  {
   "cell_type": "code",
   "execution_count": null,
   "id": "22d7a3da-d341-422c-8f9a-018a02925aa0",
   "metadata": {},
   "outputs": [],
   "source": [
    "mitl.table.head()"
   ]
  },
  {
   "cell_type": "markdown",
   "id": "82234b78-374e-4b2b-993e-a82695c47295",
   "metadata": {},
   "source": [
    "## 3) Download all the data files"
   ]
  },
  {
   "cell_type": "code",
   "execution_count": null,
   "id": "66af8fa5-1769-4820-ab52-3560dd409880",
   "metadata": {},
   "outputs": [],
   "source": [
    "dfl = scraper.DataFileLoader(mitl.table, const.raw_data_dir, const.processed_data_dir)"
   ]
  },
  {
   "cell_type": "code",
   "execution_count": null,
   "id": "faf99de6-438a-415c-ad0f-8e3b831b2e23",
   "metadata": {},
   "outputs": [],
   "source": [
    "dfl.get_data(force_download=True)"
   ]
  },
  {
   "cell_type": "markdown",
   "id": "19aed79e-a1fa-4a5f-bb29-ff8f95024714",
   "metadata": {},
   "source": [
    "## 4) Data Cleaning"
   ]
  },
  {
   "cell_type": "code",
   "execution_count": null,
   "id": "dc4f145c-1156-4dfc-82ca-eb8f21434ac7",
   "metadata": {},
   "outputs": [],
   "source": [
    "monet_data = dfl.processed_data_list[\"stage3\"][\"metrics\"]"
   ]
  },
  {
   "cell_type": "code",
   "execution_count": null,
   "id": "2a88633f-0a2d-45d5-82ee-ea36e947b927",
   "metadata": {},
   "outputs": [],
   "source": [
    "monet_data.head()"
   ]
  },
  {
   "cell_type": "markdown",
   "id": "e781a630-a136-44e3-b71e-c0e3a734e092",
   "metadata": {},
   "source": [
    "### 4.1) Data set specific cleaning - Remove indicators not relevant for Agenda 2030"
   ]
  },
  {
   "cell_type": "code",
   "execution_count": null,
   "id": "c7c14012-76b1-4814-8696-bba26e52dccf",
   "metadata": {},
   "outputs": [],
   "source": [
    "merged = itl.table.merge(mitl.table, left_on=\"id\", right_on=\"indicator_id\")\n",
    "unrelevant_observables = set(merged.loc[merged[\"agenda2030_relevant\"]==0, \"dam_id\"].values)"
   ]
  },
  {
   "cell_type": "code",
   "execution_count": null,
   "id": "e3d8dada-8e30-43ec-8178-99d64e10e35b",
   "metadata": {},
   "outputs": [],
   "source": [
    "unrelevant_metrics = [c for c in monet_data.columns if int(c.split(\"_\")[0][:-1]) in unrelevant_observables]"
   ]
  },
  {
   "cell_type": "code",
   "execution_count": null,
   "id": "d8969e8f-9045-4959-8cdd-386f2c344be5",
   "metadata": {},
   "outputs": [],
   "source": [
    "# Consistency check\n",
    "set([int(m.split(\"_\")[0][:-1]) for m in unrelevant_metrics]) == set(unrelevant_observables)"
   ]
  },
  {
   "cell_type": "code",
   "execution_count": null,
   "id": "85972fb3-641a-48d7-8a34-c91259f7275a",
   "metadata": {},
   "outputs": [],
   "source": [
    "relevant_monet_df = monet_data.drop(unrelevant_metrics, axis=1).copy()\n",
    "relevant_monet_df.head()"
   ]
  },
  {
   "cell_type": "code",
   "execution_count": null,
   "id": "75cd0973-88fa-4dec-beba-3286bdfe679d",
   "metadata": {},
   "outputs": [],
   "source": [
    "fig, ax = utils.visualize_data_availability(relevant_monet_df.transpose(), \n",
    "                                      title = \"Data availablity for MONET2030\",\n",
    "                                      x_label = \"Years\",\n",
    "                                      y_label = \"Metric IDs\"\n",
    "                                     )"
   ]
  },
  {
   "cell_type": "markdown",
   "id": "e652e9f4-3997-419f-a71a-a9ce11e1235f",
   "metadata": {},
   "source": [
    "### 4.2) Standard data cleaning"
   ]
  },
  {
   "cell_type": "code",
   "execution_count": null,
   "id": "84f774bd-ebac-4f9f-ad74-4e49f690134c",
   "metadata": {},
   "outputs": [],
   "source": [
    "cleaner = utils.DataCleaner(relevant_monet_df, verbose=2)\n",
    "cleaner.remove_constant_columns()\n",
    "cleaner.apply_time_filter(max_year = 2025)\n",
    "cleaner.drop_sparse_columns(n_notnull_min = 4)"
   ]
  },
  {
   "cell_type": "code",
   "execution_count": null,
   "id": "ec5b0107-108d-4750-803f-ffcdc837fe68",
   "metadata": {},
   "outputs": [],
   "source": [
    "monet_clean = cleaner.df"
   ]
  },
  {
   "cell_type": "markdown",
   "id": "4c9b2445-b0e5-4d92-bd6b-03cd1098207f",
   "metadata": {},
   "source": [
    "## 5) Data Imputation \n",
    "Impute missing values through linear interpolation wherever possible"
   ]
  },
  {
   "cell_type": "code",
   "execution_count": null,
   "id": "0c28ee0e-d69e-414d-99fd-4d59bfbf9ed0",
   "metadata": {},
   "outputs": [],
   "source": [
    "monet_interp = utils.interpolate_data(monet_clean)"
   ]
  },
  {
   "cell_type": "code",
   "execution_count": null,
   "id": "8ed99ab0-8ef5-4d56-a345-71008ba14877",
   "metadata": {},
   "outputs": [],
   "source": [
    "fig, ax = utils.visualize_data_availability(monet_interp.transpose(), \n",
    "                                      title = \"Data availablity for MONET2030\",\n",
    "                                      x_label = \"Years\",\n",
    "                                      y_label = \"Metric IDs\"\n",
    "                                     )"
   ]
  },
  {
   "cell_type": "markdown",
   "id": "f5328857-a6c9-47e4-845a-f7f8bf18c3b6",
   "metadata": {},
   "source": [
    "## 6) Correlation analysis"
   ]
  },
  {
   "cell_type": "code",
   "execution_count": null,
   "id": "98ed27e5-3b5d-41cb-a417-26a4385b0eed",
   "metadata": {},
   "outputs": [],
   "source": [
    "monet_ca = utils.CorrelationAnalysis(monet_interp, timeseries=True)\n",
    "monet_ca.compute_correlation()\n",
    "monet_ca.plot_corr_heatmap(title=\"\")"
   ]
  },
  {
   "cell_type": "code",
   "execution_count": null,
   "id": "bb5f27e6-90aa-4aff-af0d-b26895a9efb8",
   "metadata": {},
   "outputs": [],
   "source": [
    "non_redundant_metrics = monet_ca.drop_strong_correlations(threshold=0.9)\n",
    "len(non_redundant_metrics)"
   ]
  },
  {
   "cell_type": "code",
   "execution_count": null,
   "id": "2422f949-b484-40c2-9b02-54e8f024c24e",
   "metadata": {},
   "outputs": [],
   "source": [
    "monet_ca2 = utils.CorrelationAnalysis(monet_interp.loc[:, monet_interp.columns.isin(non_redundant_metrics)], timeseries=True)\n",
    "monet_ca2.compute_correlation()\n",
    "monet_ca2.plot_corr_heatmap(title=\"\")"
   ]
  },
  {
   "cell_type": "code",
   "execution_count": null,
   "id": "4fda19c1-9e3d-46cc-957c-c68544eb275b",
   "metadata": {},
   "outputs": [],
   "source": [
    "# Map non-redundant metrics to non-redundant observables/dam_ids\n",
    "non_redundant_dam_ids = set([int(mtr.split(\"_\")[0][:-1]) for mtr in non_redundant_metrics])\n",
    "print(len(non_redundant_dam_ids))\n",
    "mitl.table[mitl.table[\"dam_id\"].isin(non_redundant_dam_ids)]"
   ]
  },
  {
   "cell_type": "code",
   "execution_count": null,
   "id": "2f61eb2d-b6ea-4b4b-a9b2-461caa6c9352",
   "metadata": {},
   "outputs": [],
   "source": [
    "# Map non-redundant metrics to non-redundant observables/dam_ids\n",
    "non_redundant_indicators = mitl.table.loc[mitl.table[\"dam_id\"].isin(non_redundant_dam_ids), \"indicator_id\"].unique()\n",
    "len(non_redundant_indicators)"
   ]
  },
  {
   "cell_type": "code",
   "execution_count": null,
   "id": "f78c170b-13b6-433e-ad72-ced66306e76c",
   "metadata": {},
   "outputs": [],
   "source": [
    "itl.table[itl.table[\"id\"].isin(non_redundant_indicators)]"
   ]
  }
 ],
 "metadata": {
  "kernelspec": {
   "display_name": "Python 3 (ipykernel)",
   "language": "python",
   "name": "python3"
  },
  "language_info": {
   "codemirror_mode": {
    "name": "ipython",
    "version": 3
   },
   "file_extension": ".py",
   "mimetype": "text/x-python",
   "name": "python",
   "nbconvert_exporter": "python",
   "pygments_lexer": "ipython3",
   "version": "3.13.5"
  }
 },
 "nbformat": 4,
 "nbformat_minor": 5
}
