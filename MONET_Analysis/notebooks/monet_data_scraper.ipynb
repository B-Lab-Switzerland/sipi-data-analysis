{
 "cells": [
  {
   "cell_type": "markdown",
   "id": "c9b778b8-7a3b-4838-b5d0-069e78bd853b",
   "metadata": {},
   "source": [
    "# MONET2030 - Data Scraping/ETL"
   ]
  },
  {
   "cell_type": "code",
   "execution_count": null,
   "id": "07ec5a19-35ce-4493-a4f9-56895f587a15",
   "metadata": {},
   "outputs": [],
   "source": [
    "# Stdlib imports\n",
    "import re\n",
    "from pathlib import Path\n",
    "\n",
    "\n",
    "# 3rd party imports\n",
    "import pandas as pd\n",
    "import numpy as np\n",
    "\n",
    "# Local imports\n",
    "from pymonet import monet_scraper as scraper\n",
    "from pymonet import monet_consts as const"
   ]
  },
  {
   "cell_type": "markdown",
   "id": "d52ca24e-68e4-4d96-b985-8d9ea24017a4",
   "metadata": {},
   "source": [
    "## 1) List of all MONET2030 indicators\n",
    "\n",
    "First, let's scrape a list of all indicators and their meta information (e.g. the URLs pointing to the indicator-specific subpages). Let's write this info to a dataframe and store it to disk."
   ]
  },
  {
   "cell_type": "code",
   "execution_count": null,
   "id": "74418e6c-c611-4940-b65b-744238157d41",
   "metadata": {},
   "outputs": [],
   "source": [
    "itl = scraper.IndicatorTableLoader(const.url_all_monet2030_indicators, \n",
    "                                   const.indicator_table_path\n",
    "                                  )\n",
    "await itl.get_table()"
   ]
  },
  {
   "cell_type": "code",
   "execution_count": null,
   "id": "745a2ba9-f195-45d0-8901-89fd48920611",
   "metadata": {},
   "outputs": [],
   "source": [
    "itl.table.head()"
   ]
  },
  {
   "cell_type": "markdown",
   "id": "81d1a191-03f3-455e-8b37-99b84907e811",
   "metadata": {},
   "source": [
    "## 2) List of all data files for all MONET2030 indicators\n",
    "\n",
    "Given a list of all subpages related to the MONET2030 indicators (see Step 1), we can now go a step further and scrape each of these subpages. Doing so we can find yet a new set of URLs that point to the actual indicator-specific data files. It is the data in these files we are ultimately interested in."
   ]
  },
  {
   "cell_type": "code",
   "execution_count": null,
   "id": "2478b3d9-2906-49f2-a671-a14c813697f3",
   "metadata": {},
   "outputs": [],
   "source": [
    "mitl = scraper.MetaInfoTableLoader(itl.table,\n",
    "                                   const.metainfo_table_path\n",
    "                                  )\n",
    "await mitl.get_table(force_download=True)"
   ]
  },
  {
   "cell_type": "code",
   "execution_count": null,
   "id": "22d7a3da-d341-422c-8f9a-018a02925aa0",
   "metadata": {},
   "outputs": [],
   "source": [
    "mitl.table.head()"
   ]
  },
  {
   "cell_type": "markdown",
   "id": "82234b78-374e-4b2b-993e-a82695c47295",
   "metadata": {},
   "source": [
    "## 3) Download all the data files"
   ]
  },
  {
   "cell_type": "code",
   "execution_count": null,
   "id": "66af8fa5-1769-4820-ab52-3560dd409880",
   "metadata": {},
   "outputs": [],
   "source": [
    "dfl = scraper.DataFileLoader(mitl.table, const.raw_data_dir, const.processed_data_dir)"
   ]
  },
  {
   "cell_type": "code",
   "execution_count": null,
   "id": "faf99de6-438a-415c-ad0f-8e3b831b2e23",
   "metadata": {},
   "outputs": [],
   "source": [
    "dfl.get_data(force_download=True)"
   ]
  },
  {
   "cell_type": "code",
   "execution_count": null,
   "id": "6adf886a-8170-47e0-8bf6-2bef8e8358c3",
   "metadata": {},
   "outputs": [],
   "source": []
  },
  {
   "cell_type": "code",
   "execution_count": null,
   "id": "fa8edfd6-e33f-4fab-aeeb-ebca206cde23",
   "metadata": {},
   "outputs": [],
   "source": []
  }
 ],
 "metadata": {
  "kernelspec": {
   "display_name": "Python 3 (ipykernel)",
   "language": "python",
   "name": "python3"
  },
  "language_info": {
   "codemirror_mode": {
    "name": "ipython",
    "version": 3
   },
   "file_extension": ".py",
   "mimetype": "text/x-python",
   "name": "python",
   "nbconvert_exporter": "python",
   "pygments_lexer": "ipython3",
   "version": "3.13.5"
  }
 },
 "nbformat": 4,
 "nbformat_minor": 5
}
