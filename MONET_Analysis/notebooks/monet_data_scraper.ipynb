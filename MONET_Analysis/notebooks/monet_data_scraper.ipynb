{
 "cells": [
  {
   "cell_type": "markdown",
   "id": "c9b778b8-7a3b-4838-b5d0-069e78bd853b",
   "metadata": {},
   "source": [
    "# MONET2030 - Data Scraping/ETL"
   ]
  },
  {
   "cell_type": "code",
   "execution_count": 1,
   "id": "07ec5a19-35ce-4493-a4f9-56895f587a15",
   "metadata": {},
   "outputs": [],
   "source": [
    "# Stdlib imports\n",
    "import re\n",
    "from pathlib import Path\n",
    "from collections import namedtuple\n",
    "\n",
    "# 3rd party imports\n",
    "import pandas as pd\n",
    "import numpy as np\n",
    "import matplotlib.pyplot as plt\n",
    "import seaborn as sns\n",
    "\n",
    "# Local imports\n",
    "from pymonet import monet_scraper as scraper\n",
    "from pymonet import monet_processor as processor\n",
    "from pymonet import monet_consts as const\n",
    "from sipi_da_utils import utils, plot"
   ]
  },
  {
   "cell_type": "markdown",
   "id": "d52ca24e-68e4-4d96-b985-8d9ea24017a4",
   "metadata": {},
   "source": [
    "## 1) List of all MONET2030 indicators\n",
    "\n",
    "First, let's scrape a list of all indicators and their meta information (e.g. the URLs pointing to the indicator-specific subpages). Let's write this info to a dataframe and store it to disk."
   ]
  },
  {
   "cell_type": "code",
   "execution_count": 2,
   "id": "74418e6c-c611-4940-b65b-744238157d41",
   "metadata": {},
   "outputs": [
    {
     "name": "stdout",
     "output_type": "stream",
     "text": [
      "Reading from disk...\n",
      "-> done!\n"
     ]
    }
   ],
   "source": [
    "itl = scraper.IndicatorTableLoader(const.url_all_monet2030_indicators, \n",
    "                                   const.indicator_table_path\n",
    "                                  )\n",
    "await itl.get_table()"
   ]
  },
  {
   "cell_type": "code",
   "execution_count": 3,
   "id": "745a2ba9-f195-45d0-8901-89fd48920611",
   "metadata": {},
   "outputs": [
    {
     "data": {
      "text/html": [
       "<div>\n",
       "<style scoped>\n",
       "    .dataframe tbody tr th:only-of-type {\n",
       "        vertical-align: middle;\n",
       "    }\n",
       "\n",
       "    .dataframe tbody tr th {\n",
       "        vertical-align: top;\n",
       "    }\n",
       "\n",
       "    .dataframe thead th {\n",
       "        text-align: right;\n",
       "    }\n",
       "</style>\n",
       "<table border=\"1\" class=\"dataframe\">\n",
       "  <thead>\n",
       "    <tr style=\"text-align: right;\">\n",
       "      <th></th>\n",
       "      <th>id</th>\n",
       "      <th>sdg</th>\n",
       "      <th>topic</th>\n",
       "      <th>indicator</th>\n",
       "      <th>hyperlink</th>\n",
       "      <th>agenda2030_relevant</th>\n",
       "    </tr>\n",
       "  </thead>\n",
       "  <tbody>\n",
       "    <tr>\n",
       "      <th>0</th>\n",
       "      <td>monet-1.1</td>\n",
       "      <td>1</td>\n",
       "      <td>No poverty</td>\n",
       "      <td>Poverty rate</td>\n",
       "      <td>https://www.bfs.admin.ch/bfs/en/home/statistik...</td>\n",
       "      <td>1</td>\n",
       "    </tr>\n",
       "    <tr>\n",
       "      <th>1</th>\n",
       "      <td>monet-1.2</td>\n",
       "      <td>1</td>\n",
       "      <td>No poverty</td>\n",
       "      <td>Total social security expenditure</td>\n",
       "      <td>https://www.bfs.admin.ch/bfs/en/home/statistik...</td>\n",
       "      <td>1</td>\n",
       "    </tr>\n",
       "    <tr>\n",
       "      <th>2</th>\n",
       "      <td>monet-1.3</td>\n",
       "      <td>1</td>\n",
       "      <td>No poverty</td>\n",
       "      <td>Fatalities caused by natural events</td>\n",
       "      <td>https://www.bfs.admin.ch/bfs/en/home/statistik...</td>\n",
       "      <td>1</td>\n",
       "    </tr>\n",
       "    <tr>\n",
       "      <th>3</th>\n",
       "      <td>monet-2.1</td>\n",
       "      <td>2</td>\n",
       "      <td>Zero hunger</td>\n",
       "      <td>Fruit and vegetables consumption</td>\n",
       "      <td>https://www.bfs.admin.ch/bfs/en/home/statistik...</td>\n",
       "      <td>1</td>\n",
       "    </tr>\n",
       "    <tr>\n",
       "      <th>4</th>\n",
       "      <td>monet-2.2</td>\n",
       "      <td>2</td>\n",
       "      <td>Zero hunger</td>\n",
       "      <td>Nitrogen balance from agriculture</td>\n",
       "      <td>https://www.bfs.admin.ch/bfs/en/home/statistik...</td>\n",
       "      <td>1</td>\n",
       "    </tr>\n",
       "  </tbody>\n",
       "</table>\n",
       "</div>"
      ],
      "text/plain": [
       "          id  sdg        topic                            indicator  \\\n",
       "0  monet-1.1    1   No poverty                         Poverty rate   \n",
       "1  monet-1.2    1   No poverty    Total social security expenditure   \n",
       "2  monet-1.3    1   No poverty  Fatalities caused by natural events   \n",
       "3  monet-2.1    2  Zero hunger     Fruit and vegetables consumption   \n",
       "4  monet-2.2    2  Zero hunger    Nitrogen balance from agriculture   \n",
       "\n",
       "                                           hyperlink  agenda2030_relevant  \n",
       "0  https://www.bfs.admin.ch/bfs/en/home/statistik...                    1  \n",
       "1  https://www.bfs.admin.ch/bfs/en/home/statistik...                    1  \n",
       "2  https://www.bfs.admin.ch/bfs/en/home/statistik...                    1  \n",
       "3  https://www.bfs.admin.ch/bfs/en/home/statistik...                    1  \n",
       "4  https://www.bfs.admin.ch/bfs/en/home/statistik...                    1  "
      ]
     },
     "execution_count": 3,
     "metadata": {},
     "output_type": "execute_result"
    }
   ],
   "source": [
    "itl.table.head()"
   ]
  },
  {
   "cell_type": "code",
   "execution_count": 4,
   "id": "d3ead53c-d637-4566-a9a2-68d6c0bf099a",
   "metadata": {},
   "outputs": [
    {
     "data": {
      "text/plain": [
       "109"
      ]
     },
     "execution_count": 4,
     "metadata": {},
     "output_type": "execute_result"
    }
   ],
   "source": [
    "len(itl.table)"
   ]
  },
  {
   "cell_type": "markdown",
   "id": "aacd3979-5e2c-47e0-947a-6e90496be190",
   "metadata": {},
   "source": [
    "### Adding capitals information\n",
    "\n",
    "**Important remark:** The capitals mapping file (corresponding to const.capmap_path) is a manually created file. If it does no longer contain the same ids as itl.table, it has to be recreated manually."
   ]
  },
  {
   "cell_type": "code",
   "execution_count": 5,
   "id": "c7458b55-cd5a-40dd-85aa-0ea6d4c7bf78",
   "metadata": {},
   "outputs": [
    {
     "data": {
      "text/html": [
       "<div>\n",
       "<style scoped>\n",
       "    .dataframe tbody tr th:only-of-type {\n",
       "        vertical-align: middle;\n",
       "    }\n",
       "\n",
       "    .dataframe tbody tr th {\n",
       "        vertical-align: top;\n",
       "    }\n",
       "\n",
       "    .dataframe thead th {\n",
       "        text-align: right;\n",
       "    }\n",
       "</style>\n",
       "<table border=\"1\" class=\"dataframe\">\n",
       "  <thead>\n",
       "    <tr style=\"text-align: right;\">\n",
       "      <th></th>\n",
       "      <th>id</th>\n",
       "      <th>Capital - Primary</th>\n",
       "      <th>Capital - Secondary</th>\n",
       "    </tr>\n",
       "  </thead>\n",
       "  <tbody>\n",
       "    <tr>\n",
       "      <th>0</th>\n",
       "      <td>monet-1.1</td>\n",
       "      <td>Social</td>\n",
       "      <td>Economic</td>\n",
       "    </tr>\n",
       "    <tr>\n",
       "      <th>1</th>\n",
       "      <td>monet-1.2</td>\n",
       "      <td>Social</td>\n",
       "      <td>Economic</td>\n",
       "    </tr>\n",
       "    <tr>\n",
       "      <th>2</th>\n",
       "      <td>monet-1.3</td>\n",
       "      <td>Human</td>\n",
       "      <td>Natural</td>\n",
       "    </tr>\n",
       "    <tr>\n",
       "      <th>3</th>\n",
       "      <td>monet-2.1</td>\n",
       "      <td>Human</td>\n",
       "      <td>NaN</td>\n",
       "    </tr>\n",
       "    <tr>\n",
       "      <th>4</th>\n",
       "      <td>monet-2.2</td>\n",
       "      <td>Natural</td>\n",
       "      <td>NaN</td>\n",
       "    </tr>\n",
       "  </tbody>\n",
       "</table>\n",
       "</div>"
      ],
      "text/plain": [
       "          id Capital - Primary Capital - Secondary\n",
       "0  monet-1.1            Social            Economic\n",
       "1  monet-1.2            Social            Economic\n",
       "2  monet-1.3             Human             Natural\n",
       "3  monet-2.1             Human                 NaN\n",
       "4  monet-2.2           Natural                 NaN"
      ]
     },
     "execution_count": 5,
     "metadata": {},
     "output_type": "execute_result"
    }
   ],
   "source": [
    "capmap = pd.read_csv(const.capmap_path).drop(\"Unnamed: 0\", axis=1)\n",
    "capmap.head()"
   ]
  },
  {
   "cell_type": "code",
   "execution_count": 6,
   "id": "e10e19f0-968e-4432-a966-81884895a54f",
   "metadata": {},
   "outputs": [
    {
     "name": "stdout",
     "output_type": "stream",
     "text": [
      "109 109\n",
      "109\n"
     ]
    }
   ],
   "source": [
    "print(len(itl.table), len(capmap))\n",
    "itl.table = itl.table.merge(capmap, on=\"id\", how=\"outer\")\n",
    "print(len(itl.table))"
   ]
  },
  {
   "cell_type": "code",
   "execution_count": 7,
   "id": "3c360e23-1768-4573-b9f7-4e3cc4de5b66",
   "metadata": {},
   "outputs": [
    {
     "data": {
      "text/html": [
       "<div>\n",
       "<style scoped>\n",
       "    .dataframe tbody tr th:only-of-type {\n",
       "        vertical-align: middle;\n",
       "    }\n",
       "\n",
       "    .dataframe tbody tr th {\n",
       "        vertical-align: top;\n",
       "    }\n",
       "\n",
       "    .dataframe thead th {\n",
       "        text-align: right;\n",
       "    }\n",
       "</style>\n",
       "<table border=\"1\" class=\"dataframe\">\n",
       "  <thead>\n",
       "    <tr style=\"text-align: right;\">\n",
       "      <th></th>\n",
       "      <th>id</th>\n",
       "      <th>sdg</th>\n",
       "      <th>topic</th>\n",
       "      <th>indicator</th>\n",
       "      <th>hyperlink</th>\n",
       "      <th>agenda2030_relevant</th>\n",
       "      <th>Capital - Primary</th>\n",
       "      <th>Capital - Secondary</th>\n",
       "    </tr>\n",
       "  </thead>\n",
       "  <tbody>\n",
       "    <tr>\n",
       "      <th>0</th>\n",
       "      <td>monet-1.1</td>\n",
       "      <td>1</td>\n",
       "      <td>No poverty</td>\n",
       "      <td>Poverty rate</td>\n",
       "      <td>https://www.bfs.admin.ch/bfs/en/home/statistik...</td>\n",
       "      <td>1</td>\n",
       "      <td>Social</td>\n",
       "      <td>Economic</td>\n",
       "    </tr>\n",
       "    <tr>\n",
       "      <th>1</th>\n",
       "      <td>monet-1.2</td>\n",
       "      <td>1</td>\n",
       "      <td>No poverty</td>\n",
       "      <td>Total social security expenditure</td>\n",
       "      <td>https://www.bfs.admin.ch/bfs/en/home/statistik...</td>\n",
       "      <td>1</td>\n",
       "      <td>Social</td>\n",
       "      <td>Economic</td>\n",
       "    </tr>\n",
       "    <tr>\n",
       "      <th>2</th>\n",
       "      <td>monet-1.3</td>\n",
       "      <td>1</td>\n",
       "      <td>No poverty</td>\n",
       "      <td>Fatalities caused by natural events</td>\n",
       "      <td>https://www.bfs.admin.ch/bfs/en/home/statistik...</td>\n",
       "      <td>1</td>\n",
       "      <td>Human</td>\n",
       "      <td>Natural</td>\n",
       "    </tr>\n",
       "    <tr>\n",
       "      <th>3</th>\n",
       "      <td>monet-10.1</td>\n",
       "      <td>10</td>\n",
       "      <td>Reduced inequalities</td>\n",
       "      <td>Distribution of equivalised primary income (S8...</td>\n",
       "      <td>https://www.bfs.admin.ch/bfs/en/home/statistik...</td>\n",
       "      <td>1</td>\n",
       "      <td>Economic</td>\n",
       "      <td>Social</td>\n",
       "    </tr>\n",
       "    <tr>\n",
       "      <th>4</th>\n",
       "      <td>monet-10.10</td>\n",
       "      <td>10</td>\n",
       "      <td>Reduced inequalities</td>\n",
       "      <td>Disparities in fiscal capacities of the cantons</td>\n",
       "      <td>https://www.bfs.admin.ch/bfs/en/home/statistik...</td>\n",
       "      <td>0</td>\n",
       "      <td>Economic</td>\n",
       "      <td>Social</td>\n",
       "    </tr>\n",
       "  </tbody>\n",
       "</table>\n",
       "</div>"
      ],
      "text/plain": [
       "            id  sdg                 topic  \\\n",
       "0    monet-1.1    1            No poverty   \n",
       "1    monet-1.2    1            No poverty   \n",
       "2    monet-1.3    1            No poverty   \n",
       "3   monet-10.1   10  Reduced inequalities   \n",
       "4  monet-10.10   10  Reduced inequalities   \n",
       "\n",
       "                                           indicator  \\\n",
       "0                                       Poverty rate   \n",
       "1                  Total social security expenditure   \n",
       "2                Fatalities caused by natural events   \n",
       "3  Distribution of equivalised primary income (S8...   \n",
       "4    Disparities in fiscal capacities of the cantons   \n",
       "\n",
       "                                           hyperlink  agenda2030_relevant  \\\n",
       "0  https://www.bfs.admin.ch/bfs/en/home/statistik...                    1   \n",
       "1  https://www.bfs.admin.ch/bfs/en/home/statistik...                    1   \n",
       "2  https://www.bfs.admin.ch/bfs/en/home/statistik...                    1   \n",
       "3  https://www.bfs.admin.ch/bfs/en/home/statistik...                    1   \n",
       "4  https://www.bfs.admin.ch/bfs/en/home/statistik...                    0   \n",
       "\n",
       "  Capital - Primary Capital - Secondary  \n",
       "0            Social            Economic  \n",
       "1            Social            Economic  \n",
       "2             Human             Natural  \n",
       "3          Economic              Social  \n",
       "4          Economic              Social  "
      ]
     },
     "execution_count": 7,
     "metadata": {},
     "output_type": "execute_result"
    }
   ],
   "source": [
    "itl.table.head()"
   ]
  },
  {
   "cell_type": "markdown",
   "id": "81d1a191-03f3-455e-8b37-99b84907e811",
   "metadata": {},
   "source": [
    "## 2) List of all data files for all MONET2030 indicators\n",
    "\n",
    "Given a list of all subpages related to the MONET2030 indicators (see Step 1), we can now go a step further and scrape each of these subpages. Doing so we can find yet a new set of URLs that point to the actual indicator-specific data files. It is the data in these files we are ultimately interested in."
   ]
  },
  {
   "cell_type": "code",
   "execution_count": 8,
   "id": "2478b3d9-2906-49f2-a671-a14c813697f3",
   "metadata": {},
   "outputs": [
    {
     "name": "stdout",
     "output_type": "stream",
     "text": [
      "Reading from disk...\n",
      "-> done!\n"
     ]
    }
   ],
   "source": [
    "mitl = scraper.MetaInfoTableLoader(itl.table,\n",
    "                                   const.metainfo_table_path\n",
    "                                  )\n",
    "await mitl.get_table()"
   ]
  },
  {
   "cell_type": "code",
   "execution_count": 9,
   "id": "22d7a3da-d341-422c-8f9a-018a02925aa0",
   "metadata": {},
   "outputs": [
    {
     "data": {
      "text/html": [
       "<div>\n",
       "<style scoped>\n",
       "    .dataframe tbody tr th:only-of-type {\n",
       "        vertical-align: middle;\n",
       "    }\n",
       "\n",
       "    .dataframe tbody tr th {\n",
       "        vertical-align: top;\n",
       "    }\n",
       "\n",
       "    .dataframe thead th {\n",
       "        text-align: right;\n",
       "    }\n",
       "</style>\n",
       "<table border=\"1\" class=\"dataframe\">\n",
       "  <thead>\n",
       "    <tr style=\"text-align: right;\">\n",
       "      <th></th>\n",
       "      <th>dam_id</th>\n",
       "      <th>indicator_id</th>\n",
       "      <th>sdg</th>\n",
       "      <th>topic</th>\n",
       "      <th>indicator</th>\n",
       "      <th>observable</th>\n",
       "      <th>description</th>\n",
       "      <th>units</th>\n",
       "      <th>data_file_url</th>\n",
       "    </tr>\n",
       "  </thead>\n",
       "  <tbody>\n",
       "    <tr>\n",
       "      <th>0</th>\n",
       "      <td>33188530</td>\n",
       "      <td>monet-1.1</td>\n",
       "      <td>1</td>\n",
       "      <td>No poverty</td>\n",
       "      <td>Poverty rate</td>\n",
       "      <td>Poverty rate</td>\n",
       "      <td>Share of people affected by income poverty in ...</td>\n",
       "      <td>In percent</td>\n",
       "      <td>https://dam-api.bfs.admin.ch/hub/api/dam/asset...</td>\n",
       "    </tr>\n",
       "    <tr>\n",
       "      <th>1</th>\n",
       "      <td>33188571</td>\n",
       "      <td>monet-1.1</td>\n",
       "      <td>1</td>\n",
       "      <td>No poverty</td>\n",
       "      <td>Poverty rate</td>\n",
       "      <td>Poverty rate by sex</td>\n",
       "      <td>Share of people affected by income poverty in ...</td>\n",
       "      <td>In percent</td>\n",
       "      <td>https://dam-api.bfs.admin.ch/hub/api/dam/asset...</td>\n",
       "    </tr>\n",
       "    <tr>\n",
       "      <th>2</th>\n",
       "      <td>33188575</td>\n",
       "      <td>monet-1.2</td>\n",
       "      <td>1</td>\n",
       "      <td>No poverty</td>\n",
       "      <td>Total social security expenditure</td>\n",
       "      <td>Total social security expenditure</td>\n",
       "      <td>As a percentage of gross domestic product</td>\n",
       "      <td>NaN</td>\n",
       "      <td>https://dam-api.bfs.admin.ch/hub/api/dam/asset...</td>\n",
       "    </tr>\n",
       "    <tr>\n",
       "      <th>3</th>\n",
       "      <td>33188574</td>\n",
       "      <td>monet-1.3</td>\n",
       "      <td>1</td>\n",
       "      <td>No poverty</td>\n",
       "      <td>Fatalities caused by natural events</td>\n",
       "      <td>Fatalities caused by natural events</td>\n",
       "      <td>Floods, debris flows, landslides, rockfall, ro...</td>\n",
       "      <td>NaN</td>\n",
       "      <td>https://dam-api.bfs.admin.ch/hub/api/dam/asset...</td>\n",
       "    </tr>\n",
       "    <tr>\n",
       "      <th>4</th>\n",
       "      <td>28325312</td>\n",
       "      <td>monet-2.1</td>\n",
       "      <td>2</td>\n",
       "      <td>Zero hunger</td>\n",
       "      <td>Fruit and vegetables consumption</td>\n",
       "      <td>Fruit and vegetable consumption</td>\n",
       "      <td>Percentage of the population that eats at leas...</td>\n",
       "      <td>In percent</td>\n",
       "      <td>https://dam-api.bfs.admin.ch/hub/api/dam/asset...</td>\n",
       "    </tr>\n",
       "  </tbody>\n",
       "</table>\n",
       "</div>"
      ],
      "text/plain": [
       "     dam_id indicator_id  sdg        topic  \\\n",
       "0  33188530    monet-1.1    1   No poverty   \n",
       "1  33188571    monet-1.1    1   No poverty   \n",
       "2  33188575    monet-1.2    1   No poverty   \n",
       "3  33188574    monet-1.3    1   No poverty   \n",
       "4  28325312    monet-2.1    2  Zero hunger   \n",
       "\n",
       "                             indicator                           observable  \\\n",
       "0                         Poverty rate                         Poverty rate   \n",
       "1                         Poverty rate                  Poverty rate by sex   \n",
       "2    Total social security expenditure    Total social security expenditure   \n",
       "3  Fatalities caused by natural events  Fatalities caused by natural events   \n",
       "4     Fruit and vegetables consumption      Fruit and vegetable consumption   \n",
       "\n",
       "                                         description       units  \\\n",
       "0  Share of people affected by income poverty in ...  In percent   \n",
       "1  Share of people affected by income poverty in ...  In percent   \n",
       "2          As a percentage of gross domestic product         NaN   \n",
       "3  Floods, debris flows, landslides, rockfall, ro...         NaN   \n",
       "4  Percentage of the population that eats at leas...  In percent   \n",
       "\n",
       "                                       data_file_url  \n",
       "0  https://dam-api.bfs.admin.ch/hub/api/dam/asset...  \n",
       "1  https://dam-api.bfs.admin.ch/hub/api/dam/asset...  \n",
       "2  https://dam-api.bfs.admin.ch/hub/api/dam/asset...  \n",
       "3  https://dam-api.bfs.admin.ch/hub/api/dam/asset...  \n",
       "4  https://dam-api.bfs.admin.ch/hub/api/dam/asset...  "
      ]
     },
     "execution_count": 9,
     "metadata": {},
     "output_type": "execute_result"
    }
   ],
   "source": [
    "mitl.table.head()"
   ]
  },
  {
   "cell_type": "markdown",
   "id": "82234b78-374e-4b2b-993e-a82695c47295",
   "metadata": {},
   "source": [
    "## 3) Download all the data files"
   ]
  },
  {
   "cell_type": "code",
   "execution_count": 10,
   "id": "66af8fa5-1769-4820-ab52-3560dd409880",
   "metadata": {},
   "outputs": [],
   "source": [
    "dfl = scraper.DataFileLoader(mitl.table, const.raw_dir)"
   ]
  },
  {
   "cell_type": "code",
   "execution_count": 11,
   "id": "faf99de6-438a-415c-ad0f-8e3b831b2e23",
   "metadata": {},
   "outputs": [
    {
     "name": "stdout",
     "output_type": "stream",
     "text": [
      "paths_exist: True\n",
      "dirs_not_empty: True\n",
      "Reading raw data from disk...\n",
      "-> done!\n"
     ]
    }
   ],
   "source": [
    "dfl.get_data()"
   ]
  },
  {
   "cell_type": "markdown",
   "id": "79619bb4-9692-4536-81d1-43c960f874e3",
   "metadata": {},
   "source": [
    "## 4) Process/Transform Data"
   ]
  },
  {
   "cell_type": "code",
   "execution_count": 12,
   "id": "8b9ff6d5-03d2-4340-b7bc-6c1ebf6459f9",
   "metadata": {},
   "outputs": [
    {
     "name": "stdout",
     "output_type": "stream",
     "text": [
      "> Stage 1:\n",
      "-> done!\n",
      "> Stage 2:\n",
      "-> done!\n",
      "> Stage 3:\n",
      "-> done!\n",
      "> Stage 4:\n",
      "-> done!\n",
      "> Stage 5:\n",
      "-> done!\n",
      "> Stage 6:\n",
      "-> done!\n",
      "> Stage 7:\n",
      "-> done!\n"
     ]
    }
   ],
   "source": [
    "pipeline = processor.TransformationPipeline(dfl.raw_data_list, itl.table, mitl.table)\n",
    "final_output = pipeline.run()"
   ]
  },
  {
   "cell_type": "markdown",
   "id": "257a8b22-d2b5-4339-8e85-d0badfd92d0a",
   "metadata": {},
   "source": [
    "## 5) Analysis"
   ]
  },
  {
   "cell_type": "markdown",
   "id": "e3e53b22-eee9-41cc-b81e-6a6616cf2a37",
   "metadata": {},
   "source": [
    "### 5.1) Analysis of raw data availability"
   ]
  },
  {
   "cell_type": "code",
   "execution_count": 14,
   "id": "8a74cdc5-894c-434a-8dc5-0927324ce15c",
   "metadata": {},
   "outputs": [
    {
     "data": {
      "text/html": [
       "<div>\n",
       "<style scoped>\n",
       "    .dataframe tbody tr th:only-of-type {\n",
       "        vertical-align: middle;\n",
       "    }\n",
       "\n",
       "    .dataframe tbody tr th {\n",
       "        vertical-align: top;\n",
       "    }\n",
       "\n",
       "    .dataframe thead th {\n",
       "        text-align: right;\n",
       "    }\n",
       "</style>\n",
       "<table border=\"1\" class=\"dataframe\">\n",
       "  <thead>\n",
       "    <tr style=\"text-align: right;\">\n",
       "      <th></th>\n",
       "      <th>metric_id</th>\n",
       "      <th>metric_name</th>\n",
       "      <th>metric_description</th>\n",
       "    </tr>\n",
       "  </thead>\n",
       "  <tbody>\n",
       "    <tr>\n",
       "      <th>0</th>\n",
       "      <td>05626316a_metr</td>\n",
       "      <td>Structure of watercourses [In percent]</td>\n",
       "      <td>Share of the total length of watercourses in a...</td>\n",
       "    </tr>\n",
       "    <tr>\n",
       "      <th>1</th>\n",
       "      <td>14711940a_metr</td>\n",
       "      <td>Nitrogen load exported [Thousand tonnes]</td>\n",
       "      <td>Total nitrogen load on the Rhine at Basel</td>\n",
       "    </tr>\n",
       "    <tr>\n",
       "      <th>2</th>\n",
       "      <td>19804061a_metr</td>\n",
       "      <td>Time spent on professional activity and on dom...</td>\n",
       "      <td>Permanent resident population between 15 and 6...</td>\n",
       "    </tr>\n",
       "    <tr>\n",
       "      <th>3</th>\n",
       "      <td>19804061b_metr</td>\n",
       "      <td>Time spent on professional activity and on dom...</td>\n",
       "      <td>Permanent resident population between 15 and 6...</td>\n",
       "    </tr>\n",
       "    <tr>\n",
       "      <th>4</th>\n",
       "      <td>19804061c_metr</td>\n",
       "      <td>Time spent on professional activity and on dom...</td>\n",
       "      <td>Permanent resident population between 15 and 6...</td>\n",
       "    </tr>\n",
       "    <tr>\n",
       "      <th>...</th>\n",
       "      <td>...</td>\n",
       "      <td>...</td>\n",
       "      <td>...</td>\n",
       "    </tr>\n",
       "    <tr>\n",
       "      <th>230</th>\n",
       "      <td>33707241a_metr</td>\n",
       "      <td>Official development assistance for poor count...</td>\n",
       "      <td>Net official development assistance for the le...</td>\n",
       "    </tr>\n",
       "    <tr>\n",
       "      <th>231</th>\n",
       "      <td>33707241b_metr</td>\n",
       "      <td>Official development assistance for poor count...</td>\n",
       "      <td>Net official development assistance for the le...</td>\n",
       "    </tr>\n",
       "    <tr>\n",
       "      <th>232</th>\n",
       "      <td>33707243a_metr</td>\n",
       "      <td>Official Development Assistance [In percent]</td>\n",
       "      <td>In proportion to gross national income (GNI)</td>\n",
       "    </tr>\n",
       "    <tr>\n",
       "      <th>233</th>\n",
       "      <td>33707244a_metr</td>\n",
       "      <td>Independent use of public transport by people ...</td>\n",
       "      <td>Percentage of people with severe disabilities ...</td>\n",
       "    </tr>\n",
       "    <tr>\n",
       "      <th>234</th>\n",
       "      <td>33707244a_ci</td>\n",
       "      <td>Independent use of public transport by people ...</td>\n",
       "      <td>Percentage of people with severe disabilities ...</td>\n",
       "    </tr>\n",
       "  </tbody>\n",
       "</table>\n",
       "<p>235 rows × 3 columns</p>\n",
       "</div>"
      ],
      "text/plain": [
       "          metric_id                                        metric_name  \\\n",
       "0    05626316a_metr             Structure of watercourses [In percent]   \n",
       "1    14711940a_metr           Nitrogen load exported [Thousand tonnes]   \n",
       "2    19804061a_metr  Time spent on professional activity and on dom...   \n",
       "3    19804061b_metr  Time spent on professional activity and on dom...   \n",
       "4    19804061c_metr  Time spent on professional activity and on dom...   \n",
       "..              ...                                                ...   \n",
       "230  33707241a_metr  Official development assistance for poor count...   \n",
       "231  33707241b_metr  Official development assistance for poor count...   \n",
       "232  33707243a_metr       Official Development Assistance [In percent]   \n",
       "233  33707244a_metr  Independent use of public transport by people ...   \n",
       "234    33707244a_ci  Independent use of public transport by people ...   \n",
       "\n",
       "                                    metric_description  \n",
       "0    Share of the total length of watercourses in a...  \n",
       "1            Total nitrogen load on the Rhine at Basel  \n",
       "2    Permanent resident population between 15 and 6...  \n",
       "3    Permanent resident population between 15 and 6...  \n",
       "4    Permanent resident population between 15 and 6...  \n",
       "..                                                 ...  \n",
       "230  Net official development assistance for the le...  \n",
       "231  Net official development assistance for the le...  \n",
       "232       In proportion to gross national income (GNI)  \n",
       "233  Percentage of people with severe disabilities ...  \n",
       "234  Percentage of people with severe disabilities ...  \n",
       "\n",
       "[235 rows x 3 columns]"
      ]
     },
     "execution_count": 14,
     "metadata": {},
     "output_type": "execute_result"
    }
   ],
   "source": [
    "pipeline.stages[1].additional_results['metric_id2name_map']"
   ]
  },
  {
   "cell_type": "code",
   "execution_count": 26,
   "id": "f31d6947-c89e-4897-9ba4-0eb905f16754",
   "metadata": {},
   "outputs": [
    {
     "data": {
      "text/html": [
       "<div>\n",
       "<style scoped>\n",
       "    .dataframe tbody tr th:only-of-type {\n",
       "        vertical-align: middle;\n",
       "    }\n",
       "\n",
       "    .dataframe tbody tr th {\n",
       "        vertical-align: top;\n",
       "    }\n",
       "\n",
       "    .dataframe thead th {\n",
       "        text-align: right;\n",
       "    }\n",
       "</style>\n",
       "<table border=\"1\" class=\"dataframe\">\n",
       "  <thead>\n",
       "    <tr style=\"text-align: right;\">\n",
       "      <th></th>\n",
       "      <th>33188530a_metr</th>\n",
       "      <th>33188571a_metr</th>\n",
       "      <th>33188571b_metr</th>\n",
       "      <th>33188575a_metr</th>\n",
       "      <th>33188574a_metr</th>\n",
       "      <th>33188590a_metr</th>\n",
       "      <th>33188583a_metr</th>\n",
       "      <th>33188593a_metr</th>\n",
       "      <th>33188593b_metr</th>\n",
       "      <th>33188593c_metr</th>\n",
       "      <th>...</th>\n",
       "      <th>23567403a_metr</th>\n",
       "      <th>33188909a_metr</th>\n",
       "      <th>33188910a_metr</th>\n",
       "      <th>33188914a_metr</th>\n",
       "      <th>33188914b_metr</th>\n",
       "      <th>33188932a_metr</th>\n",
       "      <th>33188931a_metr</th>\n",
       "      <th>33707243a_metr</th>\n",
       "      <th>33188938a_metr</th>\n",
       "      <th>33188938b_metr</th>\n",
       "    </tr>\n",
       "    <tr>\n",
       "      <th>year</th>\n",
       "      <th></th>\n",
       "      <th></th>\n",
       "      <th></th>\n",
       "      <th></th>\n",
       "      <th></th>\n",
       "      <th></th>\n",
       "      <th></th>\n",
       "      <th></th>\n",
       "      <th></th>\n",
       "      <th></th>\n",
       "      <th></th>\n",
       "      <th></th>\n",
       "      <th></th>\n",
       "      <th></th>\n",
       "      <th></th>\n",
       "      <th></th>\n",
       "      <th></th>\n",
       "      <th></th>\n",
       "      <th></th>\n",
       "      <th></th>\n",
       "      <th></th>\n",
       "    </tr>\n",
       "  </thead>\n",
       "  <tbody>\n",
       "    <tr>\n",
       "      <th>1946</th>\n",
       "      <td>NaN</td>\n",
       "      <td>NaN</td>\n",
       "      <td>NaN</td>\n",
       "      <td>NaN</td>\n",
       "      <td>6.0</td>\n",
       "      <td>NaN</td>\n",
       "      <td>NaN</td>\n",
       "      <td>NaN</td>\n",
       "      <td>NaN</td>\n",
       "      <td>NaN</td>\n",
       "      <td>...</td>\n",
       "      <td>NaN</td>\n",
       "      <td>NaN</td>\n",
       "      <td>NaN</td>\n",
       "      <td>NaN</td>\n",
       "      <td>NaN</td>\n",
       "      <td>NaN</td>\n",
       "      <td>NaN</td>\n",
       "      <td>NaN</td>\n",
       "      <td>NaN</td>\n",
       "      <td>NaN</td>\n",
       "    </tr>\n",
       "    <tr>\n",
       "      <th>1947</th>\n",
       "      <td>NaN</td>\n",
       "      <td>NaN</td>\n",
       "      <td>NaN</td>\n",
       "      <td>NaN</td>\n",
       "      <td>7.0</td>\n",
       "      <td>NaN</td>\n",
       "      <td>NaN</td>\n",
       "      <td>NaN</td>\n",
       "      <td>NaN</td>\n",
       "      <td>NaN</td>\n",
       "      <td>...</td>\n",
       "      <td>NaN</td>\n",
       "      <td>NaN</td>\n",
       "      <td>NaN</td>\n",
       "      <td>NaN</td>\n",
       "      <td>NaN</td>\n",
       "      <td>NaN</td>\n",
       "      <td>NaN</td>\n",
       "      <td>NaN</td>\n",
       "      <td>NaN</td>\n",
       "      <td>NaN</td>\n",
       "    </tr>\n",
       "    <tr>\n",
       "      <th>1948</th>\n",
       "      <td>NaN</td>\n",
       "      <td>NaN</td>\n",
       "      <td>NaN</td>\n",
       "      <td>NaN</td>\n",
       "      <td>1.0</td>\n",
       "      <td>NaN</td>\n",
       "      <td>NaN</td>\n",
       "      <td>NaN</td>\n",
       "      <td>NaN</td>\n",
       "      <td>NaN</td>\n",
       "      <td>...</td>\n",
       "      <td>NaN</td>\n",
       "      <td>NaN</td>\n",
       "      <td>NaN</td>\n",
       "      <td>NaN</td>\n",
       "      <td>NaN</td>\n",
       "      <td>NaN</td>\n",
       "      <td>NaN</td>\n",
       "      <td>NaN</td>\n",
       "      <td>NaN</td>\n",
       "      <td>NaN</td>\n",
       "    </tr>\n",
       "    <tr>\n",
       "      <th>1949</th>\n",
       "      <td>NaN</td>\n",
       "      <td>NaN</td>\n",
       "      <td>NaN</td>\n",
       "      <td>NaN</td>\n",
       "      <td>4.0</td>\n",
       "      <td>NaN</td>\n",
       "      <td>NaN</td>\n",
       "      <td>NaN</td>\n",
       "      <td>NaN</td>\n",
       "      <td>NaN</td>\n",
       "      <td>...</td>\n",
       "      <td>NaN</td>\n",
       "      <td>NaN</td>\n",
       "      <td>NaN</td>\n",
       "      <td>NaN</td>\n",
       "      <td>NaN</td>\n",
       "      <td>NaN</td>\n",
       "      <td>NaN</td>\n",
       "      <td>NaN</td>\n",
       "      <td>NaN</td>\n",
       "      <td>NaN</td>\n",
       "    </tr>\n",
       "    <tr>\n",
       "      <th>1950</th>\n",
       "      <td>NaN</td>\n",
       "      <td>NaN</td>\n",
       "      <td>NaN</td>\n",
       "      <td>NaN</td>\n",
       "      <td>5.0</td>\n",
       "      <td>NaN</td>\n",
       "      <td>NaN</td>\n",
       "      <td>NaN</td>\n",
       "      <td>NaN</td>\n",
       "      <td>NaN</td>\n",
       "      <td>...</td>\n",
       "      <td>NaN</td>\n",
       "      <td>NaN</td>\n",
       "      <td>NaN</td>\n",
       "      <td>NaN</td>\n",
       "      <td>NaN</td>\n",
       "      <td>NaN</td>\n",
       "      <td>NaN</td>\n",
       "      <td>NaN</td>\n",
       "      <td>NaN</td>\n",
       "      <td>NaN</td>\n",
       "    </tr>\n",
       "  </tbody>\n",
       "</table>\n",
       "<p>5 rows × 115 columns</p>\n",
       "</div>"
      ],
      "text/plain": [
       "      33188530a_metr  33188571a_metr  33188571b_metr  33188575a_metr  \\\n",
       "year                                                                   \n",
       "1946             NaN             NaN             NaN             NaN   \n",
       "1947             NaN             NaN             NaN             NaN   \n",
       "1948             NaN             NaN             NaN             NaN   \n",
       "1949             NaN             NaN             NaN             NaN   \n",
       "1950             NaN             NaN             NaN             NaN   \n",
       "\n",
       "      33188574a_metr  33188590a_metr  33188583a_metr  33188593a_metr  \\\n",
       "year                                                                   \n",
       "1946             6.0             NaN             NaN             NaN   \n",
       "1947             7.0             NaN             NaN             NaN   \n",
       "1948             1.0             NaN             NaN             NaN   \n",
       "1949             4.0             NaN             NaN             NaN   \n",
       "1950             5.0             NaN             NaN             NaN   \n",
       "\n",
       "      33188593b_metr  33188593c_metr  ...  23567403a_metr  33188909a_metr  \\\n",
       "year                                  ...                                   \n",
       "1946             NaN             NaN  ...             NaN             NaN   \n",
       "1947             NaN             NaN  ...             NaN             NaN   \n",
       "1948             NaN             NaN  ...             NaN             NaN   \n",
       "1949             NaN             NaN  ...             NaN             NaN   \n",
       "1950             NaN             NaN  ...             NaN             NaN   \n",
       "\n",
       "      33188910a_metr  33188914a_metr  33188914b_metr  33188932a_metr  \\\n",
       "year                                                                   \n",
       "1946             NaN             NaN             NaN             NaN   \n",
       "1947             NaN             NaN             NaN             NaN   \n",
       "1948             NaN             NaN             NaN             NaN   \n",
       "1949             NaN             NaN             NaN             NaN   \n",
       "1950             NaN             NaN             NaN             NaN   \n",
       "\n",
       "      33188931a_metr  33707243a_metr  33188938a_metr  33188938b_metr  \n",
       "year                                                                  \n",
       "1946             NaN             NaN             NaN             NaN  \n",
       "1947             NaN             NaN             NaN             NaN  \n",
       "1948             NaN             NaN             NaN             NaN  \n",
       "1949             NaN             NaN             NaN             NaN  \n",
       "1950             NaN             NaN             NaN             NaN  \n",
       "\n",
       "[5 rows x 115 columns]"
      ]
     },
     "execution_count": 26,
     "metadata": {},
     "output_type": "execute_result"
    }
   ],
   "source": [
    "monet_clean = pipeline.stages[3].output\n",
    "monet_clean.head()"
   ]
  },
  {
   "cell_type": "code",
   "execution_count": 19,
   "id": "b5508a03-cca4-45fb-af29-38d3dd6a745f",
   "metadata": {},
   "outputs": [
    {
     "data": {
      "image/png": "[encoded data removed]",
      "text/plain": [
       "<Figure size 1000x800 with 1 Axes>"
      ]
     },
     "metadata": {},
     "output_type": "display_data"
    }
   ],
   "source": [
    "fig, ax = plot.visualize_data_availability(monet_clean.transpose(), \n",
    "                                      title = \"Data availablity for MONET2030\",\n",
    "                                      x_label = \"Years\",\n",
    "                                      y_label = \"Metric IDs\"\n",
    "                                     )"
   ]
  },
  {
   "cell_type": "code",
   "execution_count": 25,
   "id": "beb59287-a962-448d-a282-ad8674b47137",
   "metadata": {},
   "outputs": [
    {
     "data": {
      "image/png": "[encoded data removed]",
      "text/plain": [
       "<Figure size 1700x400 with 1 Axes>"
      ]
     },
     "metadata": {},
     "output_type": "display_data"
    }
   ],
   "source": [
    "fig, ax = plt.subplots(figsize=(17,4))\n",
    "sns.barplot(monet_clean.count().sort_values(ascending=False), ax=ax)\n",
    "ax.grid(True)\n",
    "plt.xticks(rotation=90)\n",
    "plt.show()"
   ]
  },
  {
   "cell_type": "markdown",
   "id": "b625b136-c863-455f-89ad-07ae68e3dd86",
   "metadata": {},
   "source": [
    "## 6) Visual inspection"
   ]
  },
  {
   "cell_type": "code",
   "execution_count": null,
   "id": "4ae902f5-706b-44cf-a3fe-c63362e70aa3",
   "metadata": {},
   "outputs": [],
   "source": [
    "monet_clean = pipeline.stages[3].output\n",
    "monet_interp = pipeline.stages[4].output\n",
    "monet_envlp = pipeline.stages[4].additional_results[\"uncertainty_envelopes\"]"
   ]
  },
  {
   "cell_type": "code",
   "execution_count": null,
   "id": "91bda107-ee07-4db7-84d9-ca0c7619e5bc",
   "metadata": {},
   "outputs": [],
   "source": [
    "fig, ax = plot.visualize_data_availability(monet_clean.transpose(), \n",
    "                                      title = \"Data availablity for MONET2030\",\n",
    "                                      x_label = \"Years\",\n",
    "                                      y_label = \"Metric IDs\"\n",
    "                                     )"
   ]
  },
  {
   "cell_type": "code",
   "execution_count": null,
   "id": "e440a89c-f934-4d80-8e5a-04f5946b095a",
   "metadata": {},
   "outputs": [],
   "source": [
    "fig, ax = plot.visualize_data_availability(monet_interp.transpose(), \n",
    "                                           title = \"Data availablity for MONET2030 (after interpolation)\",\n",
    "                                           x_label = \"Years\",\n",
    "                                           y_label = \"Metric IDs\"\n",
    "                                          )"
   ]
  },
  {
   "cell_type": "code",
   "execution_count": null,
   "id": "8b6e36c0-b5b0-4185-9213-78bb2eea9d68",
   "metadata": {},
   "outputs": [],
   "source": [
    "rel_dam_ids = list(set([c[:8] for c in monet_clean.columns]))\n",
    "len(rel_dam_ids)\n",
    "\n",
    "fig, axs = plt.subplots(10,8, figsize=(14,20))\n",
    "\n",
    "for i, damid in enumerate(sorted(rel_dam_ids)):\n",
    "    ax = axs[i//8,i%8]\n",
    "    damid_data = monet_clean.loc[:,monet_clean.columns.str.contains(str(damid))]\n",
    "    damid_data.dropna().plot(ax=ax, legend=False)\n",
    "    ax.grid(True)\n",
    "    ax.set_title(damid)\n",
    "\n",
    "axs[-1,-2].axis(\"off\")\n",
    "axs[-1,-1].axis(\"off\")\n",
    "plt.tight_layout()\n",
    "plt.show()"
   ]
  },
  {
   "cell_type": "code",
   "execution_count": null,
   "id": "d3dfc81a-367c-4cbd-81c2-70027d45438c",
   "metadata": {},
   "outputs": [],
   "source": [
    "assert all(monet_clean.columns == monet_interp.columns)\n",
    "assert all(monet_interp.columns == monet_envlp.columns)\n",
    "columns = monet_clean.columns\n",
    "\n",
    "fig, axs = plt.subplots(23,5, figsize=(25,60))\n",
    "\n",
    "i = 0\n",
    "for metric in columns:\n",
    "    Data = namedtuple(\"Measurement\", ['xvec', 'yvec'])\n",
    "    data = Data(xvec = monet_clean[metric].dropna().index, \n",
    "                yvec = monet_clean[metric].dropna()\n",
    "               )\n",
    "\n",
    "    Mean = namedtuple(\"GP_Interpolation\", ['xvec', 'yvec', 'err'])\n",
    "    mean = Mean(xvec = monet_interp.index, \n",
    "                yvec = monet_interp[metric], \n",
    "                err=monet_envlp[metric]\n",
    "               )\n",
    "    \n",
    "    ax = axs[i//5,i%5]\n",
    "    ax.scatter(data.xvec, data.yvec, c=\"k\", marker='o', label=\"measurements\")\n",
    "    ax.plot(mean.xvec, mean.yvec, c=\"r\", label=\"GP\")\n",
    "    ax.fill_between(\n",
    "            mean.xvec,\n",
    "            mean.yvec - 1.96 * mean.err,\n",
    "            mean.yvec + 1.96 * mean.err,\n",
    "            alpha=0.3,\n",
    "            color='blue',\n",
    "            label=\"95% confidence interval\")\n",
    "    \n",
    "    ax.grid(True)\n",
    "    ax.set_title(metric)\n",
    "    #ax.set_xlim([min(data.xvec)-1, max(data.xvec)+2])\n",
    "    i += 1\n",
    "   \n",
    "plt.tight_layout()\n",
    "plt.show()"
   ]
  },
  {
   "cell_type": "markdown",
   "id": "51bee752-3488-4853-b39a-3414a4c46c3a",
   "metadata": {},
   "source": [
    "## 6) Time Series Stationarity"
   ]
  },
  {
   "cell_type": "markdown",
   "id": "bcb18927-6089-482d-969b-8addda343c93",
   "metadata": {},
   "source": [
    "### 6.1) Convert time information to correct data type"
   ]
  },
  {
   "cell_type": "code",
   "execution_count": null,
   "id": "843d5bad-9155-4678-9bf1-02e4f57ec206",
   "metadata": {},
   "outputs": [],
   "source": [
    "monet_clean_ts = monet_clean.copy()\n",
    "dts_index = utils.fractional_years_to_datetime(monet_clean_ts.index)\n",
    "monet_clean_ts.index = dts_index\n",
    "monet_clean_ts.head()"
   ]
  },
  {
   "cell_type": "code",
   "execution_count": null,
   "id": "a95b0a86-3a8a-4697-bc5d-f546be9e5a87",
   "metadata": {},
   "outputs": [],
   "source": [
    "dts_index = utils.fractional_years_to_datetime(monet_interp.index)\n",
    "monet_interp.index = dts_index\n",
    "monet_interp.head()"
   ]
  },
  {
   "cell_type": "markdown",
   "id": "a9d39ec8-754b-4bef-8b1e-a5eef06463b1",
   "metadata": {},
   "source": [
    "### 6.2) Decompose time series"
   ]
  },
  {
   "cell_type": "code",
   "execution_count": null,
   "id": "b1bd583a-600a-43da-a7f4-25788d9b2615",
   "metadata": {},
   "outputs": [],
   "source": [
    "tsa = utils.TSAnalyzer(monet_interp, dirpath=const.tsa_dir)"
   ]
  },
  {
   "cell_type": "code",
   "execution_count": null,
   "id": "12add976-9832-418a-9670-966be5ad780d",
   "metadata": {},
   "outputs": [],
   "source": [
    "tsa.get_decomposition()"
   ]
  },
  {
   "cell_type": "code",
   "execution_count": null,
   "id": "a0d740e4-d123-4c03-86c1-220e3d0b80f2",
   "metadata": {},
   "outputs": [],
   "source": [
    "assert all(monet_clean.columns == monet_interp.columns)\n",
    "assert all(monet_interp.columns == monet_envlp.columns)\n",
    "columns = monet_clean.columns\n",
    "\n",
    "fig, axs = plt.subplots(23,5, figsize=(25,60))\n",
    "\n",
    "i = 0\n",
    "for metric in columns:\n",
    "    Mean = namedtuple(\"GP_Interpolation\", ['xvec', 'yvec', 'err'])\n",
    "    mean = Mean(xvec = monet_interp[metric].dropna().index, \n",
    "                yvec = monet_interp[metric].dropna(), \n",
    "                err = monet_envlp[metric]\n",
    "               )\n",
    "\n",
    "    Trend = namedtuple(\"Trend\", ['xvec', 'yvec'])\n",
    "    trend = Trend(xvec = tsa.trend.index, \n",
    "                 yvec = tsa.trend[metric], \n",
    "                )\n",
    "    \n",
    "    ax = axs[i//5,i%5]\n",
    "    ax.plot(trend.xvec, trend.yvec, c=\"gray\", ls=\"--\", label=\"trend\")\n",
    "    ax.plot(mean.xvec, mean.yvec, c=\"r\", label=\"GP\")\n",
    "    \n",
    "    \n",
    "    ax.grid(True)\n",
    "    ax.set_title(metric)\n",
    "    #ax.set_xlim([min(mean.xvec)-1, max(mean.xvec)+2])\n",
    "    i += 1\n",
    "   \n",
    "plt.tight_layout()\n",
    "plt.show()"
   ]
  },
  {
   "cell_type": "code",
   "execution_count": null,
   "id": "60058bf8-810f-4626-8712-33a44c5a2377",
   "metadata": {},
   "outputs": [],
   "source": [
    "assert all(monet_clean.columns == monet_interp.columns)\n",
    "assert all(monet_interp.columns == monet_envlp.columns)\n",
    "columns = monet_clean.columns\n",
    "\n",
    "fig, axs = plt.subplots(23,5, figsize=(25,60))\n",
    "\n",
    "i = 0\n",
    "for metric in columns:\n",
    "    Resid = namedtuple(\"Residual\", ['xvec', 'yvec'])\n",
    "    resid = Resid(xvec = tsa.residuals[metric].dropna().index, \n",
    "                  yvec = tsa.residuals[metric].dropna(), \n",
    "                 )\n",
    "    \n",
    "    ax = axs[i//5,i%5]\n",
    "    ax.plot(resid.xvec, resid.yvec, c=\"red\", label=\"residuals\")\n",
    "    ax.scatter(monet_clean_ts.loc[:,metric].dropna().index,\n",
    "               monet_clean_ts.loc[:,metric].dropna()-tsa.trend.loc[monet_clean_ts.loc[:,metric].dropna().index,metric],\n",
    "               marker='o',\n",
    "               c=\"k\")\n",
    "    ax.axhline(y=0, c=\"grey\", ls=\"--\")\n",
    "    ax.grid(True)\n",
    "    ax.set_title(metric)\n",
    "    #ax.set_xlim([min(resid.xvec)-1, max(resid.xvec)+2])\n",
    "    i += 1\n",
    "   \n",
    "plt.tight_layout()\n",
    "plt.show()"
   ]
  },
  {
   "cell_type": "markdown",
   "id": "f5328857-a6c9-47e4-845a-f7f8bf18c3b6",
   "metadata": {},
   "source": [
    "## 7) Correlation analysis"
   ]
  },
  {
   "cell_type": "code",
   "execution_count": null,
   "id": "98ed27e5-3b5d-41cb-a417-26a4385b0eed",
   "metadata": {
    "scrolled": true
   },
   "outputs": [],
   "source": [
    "monet_ca = utils.CorrelationAnalysis(monet_stat, timeseries=True)\n",
    "monet_ca.compute_correlation()\n",
    "#monet_ca.plot_corr_heatmap(title=\"Correlation Analysis of MONET2030 indicators\", fpath=const.all_corrmat_file )"
   ]
  },
  {
   "cell_type": "code",
   "execution_count": null,
   "id": "2e570fd9-4117-40e5-b7c5-ddfce0d17f03",
   "metadata": {},
   "outputs": [],
   "source": [
    "sns.heatmap(monet_ca.corrmat)"
   ]
  },
  {
   "cell_type": "code",
   "execution_count": null,
   "id": "52d5d372-79f6-4b04-b7f6-a3346a25e75a",
   "metadata": {},
   "outputs": [],
   "source": [
    "fig, axs = plt.subplots(1,2, figsize=(10,4))\n",
    "ax = axs[0]\n",
    "sns.histplot(monet_ca.corrmat.unstack().values, ax=ax, kde=True, bins=40)\n",
    "ax.set_title(\"Distribution of correlation values\")\n",
    "ax.set_xlabel(\"corr\")\n",
    "\n",
    "ax = axs[1]\n",
    "sns.histplot(monet_ca.corrmat.unstack().abs().values, ax=ax, bins=20)\n",
    "ax.set_title(\"Distribution of abs(correlation) values\")\n",
    "ax.set_xlabel(\"abs(corr)\")\n",
    "plt.tight_layout()\n",
    "plt.show()"
   ]
  },
  {
   "cell_type": "markdown",
   "id": "f9321b03-6a6d-4361-9a0c-b52bd3503c77",
   "metadata": {},
   "source": [
    "### 7.1) Removing strongly correlated metrics in a greedy approach"
   ]
  },
  {
   "cell_type": "code",
   "execution_count": null,
   "id": "bb5f27e6-90aa-4aff-af0d-b26895a9efb8",
   "metadata": {},
   "outputs": [],
   "source": [
    "non_redundant_metrics, found_correlations = monet_ca.drop_strong_correlations(threshold=0.9, \n",
    "                                                                              fpath_corr = const.pruned_metrics_file\n",
    "                                                                             )\n",
    "len(non_redundant_metrics)"
   ]
  },
  {
   "cell_type": "code",
   "execution_count": null,
   "id": "73d093e0-459b-4241-b7b5-d2f46df0f9cd",
   "metadata": {},
   "outputs": [],
   "source": [
    "fig, ax = plt.subplots(figsize=(10,9))\n",
    "sns.heatmap(monet_ca.corrmat.loc[non_redundant_metrics,non_redundant_metrics], vmin=-1, vmax=1, ax=ax)\n",
    "ax.set_title(\"Correlation Analysis of MONET2030 indicators (pruned)\")\n",
    "plt.tight_layout()\n",
    "fig.savefig(const.pruned_corrmat_file)\n",
    "plt.show()"
   ]
  },
  {
   "cell_type": "code",
   "execution_count": null,
   "id": "4fda19c1-9e3d-46cc-957c-c68544eb275b",
   "metadata": {},
   "outputs": [],
   "source": [
    "# Map non-redundant metrics to non-redundant observables/dam_ids\n",
    "non_redundant_dam_ids = set([int(mtr.split(\"_\")[0][:-1]) for mtr in non_redundant_metrics])\n",
    "print(len(non_redundant_dam_ids))\n",
    "non_redundant_observables_df=mitl.table[mitl.table[\"dam_id\"].isin(non_redundant_dam_ids)]\n",
    "non_redundant_observables_df.head(3)"
   ]
  },
  {
   "cell_type": "code",
   "execution_count": null,
   "id": "dbd99988-0838-4ad4-9cf8-be736e49ab8f",
   "metadata": {},
   "outputs": [],
   "source": [
    "non_redundant_observables_df.to_csv(const.non_redundant_obs_file, index=False)"
   ]
  },
  {
   "cell_type": "code",
   "execution_count": null,
   "id": "2f61eb2d-b6ea-4b4b-a9b2-461caa6c9352",
   "metadata": {},
   "outputs": [],
   "source": [
    "# Map non-redundant damids to non-redundant indicators\n",
    "non_redundant_indicators = non_redundant_observables_df[[\"indicator_id\", \"indicator\"]].drop_duplicates()\n",
    "non_redundant_indicators.head()"
   ]
  },
  {
   "cell_type": "code",
   "execution_count": null,
   "id": "591e8650-0bf8-4de7-a839-4ceb82f0add4",
   "metadata": {},
   "outputs": [],
   "source": [
    "print(f\"We removed {round((100*(1-len(non_redundant_indicators)/len(itl.table))),2)}% of the original indicators in total.\")"
   ]
  },
  {
   "cell_type": "code",
   "execution_count": null,
   "id": "b4b9b499-b295-4acf-bacd-531d816457e4",
   "metadata": {},
   "outputs": [],
   "source": [
    "monet_ca.corrmat.loc[\"28325349a_metr\", \"28325338b_metr\"]"
   ]
  },
  {
   "cell_type": "code",
   "execution_count": null,
   "id": "9e56215f-a5b6-44d8-b842-ae0534033929",
   "metadata": {},
   "outputs": [],
   "source": [
    "corrmat=monet_interp.corr()"
   ]
  },
  {
   "cell_type": "code",
   "execution_count": null,
   "id": "b90b3839-88e4-43e9-ab10-7f7f20cf8f6b",
   "metadata": {},
   "outputs": [],
   "source": [
    "corrmat.loc[\"28325349a_metr\", \"28325338b_metr\"]"
   ]
  },
  {
   "cell_type": "code",
   "execution_count": null,
   "id": "407d572a-7ad5-40fe-af9a-c931b3d07cf9",
   "metadata": {},
   "outputs": [],
   "source": [
    "stds = monet_interp.diff().std()\n",
    "stds.argmin()"
   ]
  },
  {
   "cell_type": "code",
   "execution_count": null,
   "id": "0622b9e9-fb24-4223-8578-826ea9c47a70",
   "metadata": {},
   "outputs": [],
   "source": [
    "stds.iloc[139]"
   ]
  },
  {
   "cell_type": "code",
   "execution_count": null,
   "id": "761a0557-335c-43f9-8068-4837becf6577",
   "metadata": {},
   "outputs": [],
   "source": [
    "stds.keys()[139]"
   ]
  },
  {
   "cell_type": "code",
   "execution_count": null,
   "id": "8a76f863-8714-4a20-be09-68f52bf15ef4",
   "metadata": {},
   "outputs": [],
   "source": [
    "mitl.table[mitl.table[\"dam_id\"]==33188879]"
   ]
  },
  {
   "cell_type": "code",
   "execution_count": null,
   "id": "ccd5d756-997d-4d54-bbfd-9fe9356aaedf",
   "metadata": {},
   "outputs": [],
   "source": [
    "relevant_monet_df[[\"28325338b_metr\", \"28325349a_metr\"]].dropna().diff().corr()"
   ]
  },
  {
   "cell_type": "code",
   "execution_count": null,
   "id": "3dff8ec5-ff78-4748-82ff-d1cd12a9adf9",
   "metadata": {},
   "outputs": [],
   "source": [
    "relevant_monet_df[].dropna()"
   ]
  },
  {
   "cell_type": "code",
   "execution_count": null,
   "id": "888e6381-67a9-40cf-a853-6fe6201e535b",
   "metadata": {},
   "outputs": [],
   "source": []
  },
  {
   "cell_type": "code",
   "execution_count": null,
   "id": "063173e3-6a5f-4d09-a14e-1c7fedeea18b",
   "metadata": {},
   "outputs": [],
   "source": []
  },
  {
   "cell_type": "code",
   "execution_count": null,
   "id": "4c875c47-c726-4d4a-a461-4a9420b49d08",
   "metadata": {},
   "outputs": [],
   "source": []
  },
  {
   "cell_type": "code",
   "execution_count": null,
   "id": "ca0de0c3-7472-483c-88a2-e7d438a9329b",
   "metadata": {},
   "outputs": [],
   "source": [
    "mitl.table[mitl.table[\"dam_id\"].duplicated(keep=False)].sort_values(by=\"dam_id\")"
   ]
  },
  {
   "cell_type": "code",
   "execution_count": null,
   "id": "a42ba01d-6931-4747-90ae-e473962afd30",
   "metadata": {},
   "outputs": [],
   "source": []
  }
 ],
 "metadata": {
  "kernelspec": {
   "display_name": "Python 3 (ipykernel)",
   "language": "python",
   "name": "python3"
  },
  "language_info": {
   "codemirror_mode": {
    "name": "ipython",
    "version": 3
   },
   "file_extension": ".py",
   "mimetype": "text/x-python",
   "name": "python",
   "nbconvert_exporter": "python",
   "pygments_lexer": "ipython3",
   "version": "3.13.5"
  }
 },
 "nbformat": 4,
 "nbformat_minor": 5
}
