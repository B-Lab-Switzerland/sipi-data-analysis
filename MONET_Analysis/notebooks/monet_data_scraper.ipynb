{
 "cells": [
  {
   "cell_type": "code",
   "execution_count": 4,
   "id": "07ec5a19-35ce-4493-a4f9-56895f587a15",
   "metadata": {},
   "outputs": [],
   "source": [
    "# Stdlib imports\n",
    "import re\n",
    "from pathlib import Path\n",
    "from datetime import datetime as dt\n",
    "\n",
    "# 3rd party imports\n",
    "import pandas as pd\n",
    "\n",
    "# Local imports\n",
    "from pymonet import monet_scraper as scr"
   ]
  },
  {
   "cell_type": "code",
   "execution_count": null,
   "id": "74418e6c-c611-4940-b65b-744238157d41",
   "metadata": {},
   "outputs": [],
   "source": [
    "indicator_table_path = Path(\"../results/indicator_table.csv\")\n",
    "if not indicator_table_path.exists():\n",
    "    print(\"Scraping...\")\n",
    "    monet_soup = await parse_dynamic_webpage('https://www.bfs.admin.ch/bfs/en/home/statistics/sustainable-development/monet-2030/all-indicators.html')\n",
    "    monet_indicator_df = create_monet_indicator_list(monet_soup)\n",
    "    monet_indicator_df.to_csv(indicator_table_path)\n",
    "    print(\"-> done!\")\n",
    "else:\n",
    "    print(\"Reading from disk...\")\n",
    "    monet_indicator_df = pd.read_csv(indicator_table_path).set_index(\"ID\")\n",
    "    print(\"-> done!\")"
   ]
  },
  {
   "cell_type": "code",
   "execution_count": null,
   "id": "9c9b1a3f-19f4-44bb-be56-f806d289003f",
   "metadata": {},
   "outputs": [],
   "source": [
    "monet_indicator_df.head(10)"
   ]
  },
  {
   "cell_type": "code",
   "execution_count": null,
   "id": "2478b3d9-2906-49f2-a671-a14c813697f3",
   "metadata": {},
   "outputs": [],
   "source": [
    "df_list = []\n",
    "counter = 0\n",
    "n_indicators = len(monet_indicator_df)\n",
    "\n",
    "start = dt.now()\n",
    "for idx, indicator in monet_indicator_df.iterrows():\n",
    "    counter += 1\n",
    "    print(f\"{counter}/{n_indicators}\", end=\"\\r\")\n",
    "    data_elements = await scrape_indicator_info(indicator[\"Hyperlink\"])\n",
    "    df = extract_all_data_files(data_elements)\n",
    "    df[\"Indicator\"] = indicator[\"Indicator\"]\n",
    "    df[\"SDG\"] = indicator[\"SDG\"]\n",
    "    df[\"Topic\"] = indicator[\"Topic\"]\n",
    "    df_list.append(df)\n",
    "end = dt.now()\n",
    "elapsed = end - start\n",
    "print(f\"Finished after {elapsed.seconds} seconds.\")"
   ]
  },
  {
   "cell_type": "code",
   "execution_count": null,
   "id": "d250dc02-b8bb-4fd0-9692-a448f127f72c",
   "metadata": {},
   "outputs": [],
   "source": [
    "complete_data_df = pd.concat(df_list, ignore_index=True)[[\"SDG\", \"Topic\", \"Indicator\", \"Observable\", \"Description\", \"Units\", \"damid\", \"Data_url\"]]"
   ]
  },
  {
   "cell_type": "code",
   "execution_count": null,
   "id": "2c176ca3-3076-4d34-82d8-72fcb9f76743",
   "metadata": {},
   "outputs": [],
   "source": [
    "complete_data_df.to_csv(\"../results/monet_datafile_summary_table.csv\", index=False)"
   ]
  },
  {
   "cell_type": "code",
   "execution_count": null,
   "id": "60f1a009-b3d2-4c74-a7ce-ceafcf5183a1",
   "metadata": {},
   "outputs": [],
   "source": [
    "len(complete_data_df)"
   ]
  },
  {
   "cell_type": "code",
   "execution_count": null,
   "id": "5e2d269a-e49b-4595-aac2-401a2aa5ffb1",
   "metadata": {},
   "outputs": [],
   "source": [
    "database = []\n",
    "for href in complete_data_df[\"Data_url\"]:\n",
    "    database.append(pd.read_excel(href, sheet_name=None))"
   ]
  },
  {
   "cell_type": "code",
   "execution_count": null,
   "id": "85e6c16d-136b-496e-bf19-edeea62fa2b5",
   "metadata": {},
   "outputs": [],
   "source": [
    "len(database)"
   ]
  }
 ],
 "metadata": {
  "kernelspec": {
   "display_name": "Python 3 (ipykernel)",
   "language": "python",
   "name": "python3"
  },
  "language_info": {
   "codemirror_mode": {
    "name": "ipython",
    "version": 3
   },
   "file_extension": ".py",
   "mimetype": "text/x-python",
   "name": "python",
   "nbconvert_exporter": "python",
   "pygments_lexer": "ipython3",
   "version": "3.13.5"
  }
 },
 "nbformat": 4,
 "nbformat_minor": 5
}
