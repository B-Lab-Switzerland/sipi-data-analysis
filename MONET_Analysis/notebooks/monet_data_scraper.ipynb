{
 "cells": [
  {
   "cell_type": "code",
   "execution_count": 115,
   "id": "07ec5a19-35ce-4493-a4f9-56895f587a15",
   "metadata": {},
   "outputs": [],
   "source": [
    "# Stdlib imports\n",
    "import re\n",
    "from pathlib import Path\n",
    "from datetime import datetime as dt\n",
    "\n",
    "# 3rd party imports\n",
    "# -- data analysis\n",
    "import pandas as pd\n",
    "\n",
    "# -- web scraping\n",
    "import requests\n",
    "import asyncio\n",
    "from bs4 import BeautifulSoup\n",
    "from playwright.async_api import async_playwright\n",
    "\n",
    "# Local imports\n"
   ]
  },
  {
   "cell_type": "code",
   "execution_count": 192,
   "id": "0e8c58a7-3705-4202-9217-05ea217670ec",
   "metadata": {},
   "outputs": [],
   "source": [
    "# Create a list of all MONET2030 indicators as well as their mapping to SDGs\n",
    "\n",
    "async def parse_dynamic_webpage(url):\n",
    "    async with async_playwright() as p:\n",
    "        browser = await p.chromium.launch(headless=True)\n",
    "        page = await browser.new_page()\n",
    "        await page.goto(url)\n",
    "        await page.wait_for_timeout(5000)\n",
    "        html = await page.content()\n",
    "        await browser.close()\n",
    "        return html\n",
    "\n",
    "\n",
    "def create_monet_indicator_list(html):\n",
    "    # Filter out relevant parts\n",
    "    indicators = BeautifulSoup(html).find(\"tbody\").find_all(\"tr\")\n",
    "    \n",
    "    # Oragnize the MONET indicators into a DataFrame\n",
    "    base_url = \"https://www.bfs.admin.ch\"\n",
    "    sdgs = [{\"SDG\": int(indicator.find_all(\"a\")[0][\"aria-label\"].split(\":\")[0].split()[1].strip()),\n",
    "            \"Topic\": indicator.find_all(\"a\")[0][\"aria-label\"].split(\":\")[1].strip(),\n",
    "            \"Indicator\": indicator.find_all(\"a\")[1][\"aria-label\"],\n",
    "            \"Hyperlink\": base_url+indicator.find_all(\"a\")[1][\"href\"].replace(\"content/\",\"\"),\n",
    "            \"Agenda2030_relevant\": 1 if len(indicator.find_all(\"img\", {\"title\": \"Agenda 2030: relevant\"}))==1 else 0\n",
    "            } for indicator in indicators]\n",
    "    \n",
    "    sdg_df = pd.DataFrame(sdgs)\n",
    "\n",
    "    # Add a unique identifier to each indicator\n",
    "    sdg_df[\"SubtopicID\"] = sdg_df.groupby(\"SDG\").cumcount().add(1).astype(str)\n",
    "    sdg_df[\"ID\"] = sdg_df.apply(lambda x: \"MI-\" + str(x[\"SDG\"]) + \".\" + x[\"SubtopicID\"], axis=1)\n",
    "    sdg_df.drop(\"SubtopicID\", axis=1, inplace=True)\n",
    "    sdg_df.set_index(\"ID\", inplace=True)\n",
    "    \n",
    "    # Return\n",
    "    return sdg_df"
   ]
  },
  {
   "cell_type": "code",
   "execution_count": 193,
   "id": "74418e6c-c611-4940-b65b-744238157d41",
   "metadata": {},
   "outputs": [
    {
     "name": "stdout",
     "output_type": "stream",
     "text": [
      "Scraping...\n",
      "-> done!\n"
     ]
    }
   ],
   "source": [
    "indicator_table_path = Path(\"../results/indicator_table.csv\")\n",
    "if not indicator_table_path.exists():\n",
    "    print(\"Scraping...\")\n",
    "    monet_soup = await parse_dynamic_webpage('https://www.bfs.admin.ch/bfs/en/home/statistics/sustainable-development/monet-2030/all-indicators.html')\n",
    "    monet_indicator_df = create_monet_indicator_list(monet_soup)\n",
    "    monet_indicator_df.to_csv(indicator_table_path)\n",
    "    print(\"-> done!\")\n",
    "else:\n",
    "    print(\"Reading from disk...\")\n",
    "    monet_indicator_df = pd.read_csv(indicator_table_path).set_index(\"ID\")\n",
    "    print(\"-> done!\")"
   ]
  },
  {
   "cell_type": "code",
   "execution_count": 195,
   "id": "9c9b1a3f-19f4-44bb-be56-f806d289003f",
   "metadata": {},
   "outputs": [
    {
     "data": {
      "text/html": [
       "<div>\n",
       "<style scoped>\n",
       "    .dataframe tbody tr th:only-of-type {\n",
       "        vertical-align: middle;\n",
       "    }\n",
       "\n",
       "    .dataframe tbody tr th {\n",
       "        vertical-align: top;\n",
       "    }\n",
       "\n",
       "    .dataframe thead th {\n",
       "        text-align: right;\n",
       "    }\n",
       "</style>\n",
       "<table border=\"1\" class=\"dataframe\">\n",
       "  <thead>\n",
       "    <tr style=\"text-align: right;\">\n",
       "      <th></th>\n",
       "      <th>SDG</th>\n",
       "      <th>Topic</th>\n",
       "      <th>Indicator</th>\n",
       "      <th>Hyperlink</th>\n",
       "      <th>Agenda2030_relevant</th>\n",
       "    </tr>\n",
       "    <tr>\n",
       "      <th>ID</th>\n",
       "      <th></th>\n",
       "      <th></th>\n",
       "      <th></th>\n",
       "      <th></th>\n",
       "      <th></th>\n",
       "    </tr>\n",
       "  </thead>\n",
       "  <tbody>\n",
       "    <tr>\n",
       "      <th>MI-1.1</th>\n",
       "      <td>1</td>\n",
       "      <td>No poverty</td>\n",
       "      <td>Poverty rate</td>\n",
       "      <td>https://www.bfs.admin.ch/bfs/en/home/statistik...</td>\n",
       "      <td>1</td>\n",
       "    </tr>\n",
       "    <tr>\n",
       "      <th>MI-1.2</th>\n",
       "      <td>1</td>\n",
       "      <td>No poverty</td>\n",
       "      <td>Total social security expenditure</td>\n",
       "      <td>https://www.bfs.admin.ch/bfs/en/home/statistik...</td>\n",
       "      <td>1</td>\n",
       "    </tr>\n",
       "    <tr>\n",
       "      <th>MI-1.3</th>\n",
       "      <td>1</td>\n",
       "      <td>No poverty</td>\n",
       "      <td>Fatalities caused by natural events</td>\n",
       "      <td>https://www.bfs.admin.ch/bfs/en/home/statistik...</td>\n",
       "      <td>1</td>\n",
       "    </tr>\n",
       "    <tr>\n",
       "      <th>MI-2.1</th>\n",
       "      <td>2</td>\n",
       "      <td>Zero hunger</td>\n",
       "      <td>Fruit and vegetables consumption</td>\n",
       "      <td>https://www.bfs.admin.ch/bfs/en/home/statistik...</td>\n",
       "      <td>1</td>\n",
       "    </tr>\n",
       "    <tr>\n",
       "      <th>MI-2.2</th>\n",
       "      <td>2</td>\n",
       "      <td>Zero hunger</td>\n",
       "      <td>Nitrogen balance from agriculture</td>\n",
       "      <td>https://www.bfs.admin.ch/bfs/en/home/statistik...</td>\n",
       "      <td>1</td>\n",
       "    </tr>\n",
       "    <tr>\n",
       "      <th>MI-2.3</th>\n",
       "      <td>2</td>\n",
       "      <td>Zero hunger</td>\n",
       "      <td>Plant genetic resources for food and agriculture</td>\n",
       "      <td>https://www.bfs.admin.ch/bfs/en/home/statistik...</td>\n",
       "      <td>1</td>\n",
       "    </tr>\n",
       "    <tr>\n",
       "      <th>MI-2.4</th>\n",
       "      <td>2</td>\n",
       "      <td>Zero hunger</td>\n",
       "      <td>Organic farming</td>\n",
       "      <td>https://www.bfs.admin.ch/bfs/en/home/statistik...</td>\n",
       "      <td>1</td>\n",
       "    </tr>\n",
       "    <tr>\n",
       "      <th>MI-2.5</th>\n",
       "      <td>2</td>\n",
       "      <td>Zero hunger</td>\n",
       "      <td>Greenhouse gas emissions from agriculture</td>\n",
       "      <td>https://www.bfs.admin.ch/bfs/en/home/statistik...</td>\n",
       "      <td>1</td>\n",
       "    </tr>\n",
       "    <tr>\n",
       "      <th>MI-2.6</th>\n",
       "      <td>2</td>\n",
       "      <td>Zero hunger</td>\n",
       "      <td>Arable land</td>\n",
       "      <td>https://www.bfs.admin.ch/bfs/en/home/statistik...</td>\n",
       "      <td>0</td>\n",
       "    </tr>\n",
       "    <tr>\n",
       "      <th>MI-3.1</th>\n",
       "      <td>3</td>\n",
       "      <td>Good health and well-being</td>\n",
       "      <td>Measles immunisation coverage</td>\n",
       "      <td>https://www.bfs.admin.ch/bfs/en/home/statistik...</td>\n",
       "      <td>1</td>\n",
       "    </tr>\n",
       "  </tbody>\n",
       "</table>\n",
       "</div>"
      ],
      "text/plain": [
       "        SDG                       Topic  \\\n",
       "ID                                        \n",
       "MI-1.1    1                  No poverty   \n",
       "MI-1.2    1                  No poverty   \n",
       "MI-1.3    1                  No poverty   \n",
       "MI-2.1    2                 Zero hunger   \n",
       "MI-2.2    2                 Zero hunger   \n",
       "MI-2.3    2                 Zero hunger   \n",
       "MI-2.4    2                 Zero hunger   \n",
       "MI-2.5    2                 Zero hunger   \n",
       "MI-2.6    2                 Zero hunger   \n",
       "MI-3.1    3  Good health and well-being   \n",
       "\n",
       "                                               Indicator  \\\n",
       "ID                                                         \n",
       "MI-1.1                                      Poverty rate   \n",
       "MI-1.2                 Total social security expenditure   \n",
       "MI-1.3               Fatalities caused by natural events   \n",
       "MI-2.1                  Fruit and vegetables consumption   \n",
       "MI-2.2                 Nitrogen balance from agriculture   \n",
       "MI-2.3  Plant genetic resources for food and agriculture   \n",
       "MI-2.4                                   Organic farming   \n",
       "MI-2.5         Greenhouse gas emissions from agriculture   \n",
       "MI-2.6                                       Arable land   \n",
       "MI-3.1                     Measles immunisation coverage   \n",
       "\n",
       "                                                Hyperlink  Agenda2030_relevant  \n",
       "ID                                                                              \n",
       "MI-1.1  https://www.bfs.admin.ch/bfs/en/home/statistik...                    1  \n",
       "MI-1.2  https://www.bfs.admin.ch/bfs/en/home/statistik...                    1  \n",
       "MI-1.3  https://www.bfs.admin.ch/bfs/en/home/statistik...                    1  \n",
       "MI-2.1  https://www.bfs.admin.ch/bfs/en/home/statistik...                    1  \n",
       "MI-2.2  https://www.bfs.admin.ch/bfs/en/home/statistik...                    1  \n",
       "MI-2.3  https://www.bfs.admin.ch/bfs/en/home/statistik...                    1  \n",
       "MI-2.4  https://www.bfs.admin.ch/bfs/en/home/statistik...                    1  \n",
       "MI-2.5  https://www.bfs.admin.ch/bfs/en/home/statistik...                    1  \n",
       "MI-2.6  https://www.bfs.admin.ch/bfs/en/home/statistik...                    0  \n",
       "MI-3.1  https://www.bfs.admin.ch/bfs/en/home/statistik...                    1  "
      ]
     },
     "execution_count": 195,
     "metadata": {},
     "output_type": "execute_result"
    }
   ],
   "source": [
    "monet_indicator_df.head(10)"
   ]
  },
  {
   "cell_type": "code",
   "execution_count": 65,
   "id": "820c6938-ff62-4ae9-b648-243ca0c1ea52",
   "metadata": {},
   "outputs": [],
   "source": [
    "async def scrape_indicator_info(url):\n",
    "    html = await parse_dynamic_webpage(url)\n",
    "    soup = BeautifulSoup(html, 'html.parser')\n",
    "    ul = soup.find(\"ul\", {\"class\": \"search-results-list\", \"data-vue-component\": \"asset-list\"})\n",
    "    if not ul:\n",
    "        return []\n",
    "    data_file_elements = ul.find_all(\"li\")\n",
    "    return data_file_elements"
   ]
  },
  {
   "cell_type": "code",
   "execution_count": 102,
   "id": "190aa111-0f4e-4b3a-b255-be227d113975",
   "metadata": {},
   "outputs": [],
   "source": [
    "def extract_all_data_files(data_file_elements):\n",
    "    data_file_info_list = []\n",
    "    for elm in data_file_elements:\n",
    "        damid_list = re.findall(r'damid=\"\\d+\"', str(elm))\n",
    "        assert len(damid_list)==1\n",
    "        damid = re.search(r'\\d+', damid_list[0]).group(0)\n",
    "        desc_string = strip_tags(str(elm.find(\"div\", {\"class\": \"card__title\"})))\n",
    "        data_info = desc_string.split(\" - \")\n",
    "        if len(data_info)==2:\n",
    "            observable = data_info[0]\n",
    "            description = data_info[1]\n",
    "            units = \"\"\n",
    "        elif len(data_info)==3:\n",
    "            observable = data_info[0]\n",
    "            description = data_info[1]\n",
    "            units = data_info[2]\n",
    "            \n",
    "        file_dict = {\"damid\": damid, \n",
    "                     \"Data_url\": f\"https://dam-api.bfs.admin.ch/hub/api/dam/assets/{damid}/master\",\n",
    "                     \"Observable\": observable, \n",
    "                     \"Description\": description,\n",
    "                     \"Units\": units,\n",
    "                    }\n",
    "        data_file_info_list.append(file_dict)\n",
    "    return pd.DataFrame(data_file_info_list)"
   ]
  },
  {
   "cell_type": "code",
   "execution_count": 130,
   "id": "2478b3d9-2906-49f2-a671-a14c813697f3",
   "metadata": {},
   "outputs": [
    {
     "name": "stdout",
     "output_type": "stream",
     "text": [
      "7/109"
     ]
    },
    {
     "name": "stderr",
     "output_type": "stream",
     "text": [
      "Future exception was never retrieved\n",
      "future: <Future finished exception=TargetClosedError('Target page, context or browser has been closed')>\n",
      "playwright._impl._errors.TargetClosedError: Target page, context or browser has been closed\n",
      "Future exception was never retrieved\n",
      "future: <Future finished exception=TargetClosedError('Target page, context or browser has been closed')>\n",
      "playwright._impl._errors.TargetClosedError: Target page, context or browser has been closed\n"
     ]
    },
    {
     "name": "stdout",
     "output_type": "stream",
     "text": [
      "Finished after 927 seconds.\n"
     ]
    }
   ],
   "source": [
    "df_list = []\n",
    "counter = 0\n",
    "n_indicators = len(monet_indicator_df)\n",
    "\n",
    "start = dt.now()\n",
    "for idx, indicator in monet_indicator_df.iterrows():\n",
    "    counter += 1\n",
    "    print(f\"{counter}/{n_indicators}\", end=\"\\r\")\n",
    "    data_elements = await scrape_indicator_info(indicator[\"Hyperlink\"])\n",
    "    df = extract_all_data_files(data_elements)\n",
    "    df[\"Indicator\"] = indicator[\"Indicator\"]\n",
    "    df[\"SDG\"] = indicator[\"SDG\"]\n",
    "    df[\"Topic\"] = indicator[\"Topic\"]\n",
    "    df_list.append(df)\n",
    "end = dt.now()\n",
    "elapsed = end - start\n",
    "print(f\"Finished after {elapsed.seconds} seconds.\")"
   ]
  },
  {
   "cell_type": "code",
   "execution_count": 131,
   "id": "d250dc02-b8bb-4fd0-9692-a448f127f72c",
   "metadata": {},
   "outputs": [],
   "source": [
    "complete_data_df = pd.concat(df_list, ignore_index=True)[[\"SDG\", \"Topic\", \"Indicator\", \"Observable\", \"Description\", \"Units\", \"damid\", \"Data_url\"]]"
   ]
  },
  {
   "cell_type": "code",
   "execution_count": 134,
   "id": "2c176ca3-3076-4d34-82d8-72fcb9f76743",
   "metadata": {},
   "outputs": [],
   "source": [
    "complete_data_df.to_csv(\"../results/monet_datafile_summary_table.csv\", index=False)"
   ]
  },
  {
   "cell_type": "code",
   "execution_count": 139,
   "id": "60f1a009-b3d2-4c74-a7ce-ceafcf5183a1",
   "metadata": {},
   "outputs": [
    {
     "data": {
      "text/plain": [
       "131"
      ]
     },
     "execution_count": 139,
     "metadata": {},
     "output_type": "execute_result"
    }
   ],
   "source": [
    "len(complete_data_df)"
   ]
  },
  {
   "cell_type": "code",
   "execution_count": 136,
   "id": "5e2d269a-e49b-4595-aac2-401a2aa5ffb1",
   "metadata": {},
   "outputs": [
    {
     "name": "stderr",
     "output_type": "stream",
     "text": [
      "/usr/local/lib/python3.13/site-packages/openpyxl/styles/stylesheet.py:237: UserWarning: Workbook contains no default style, apply openpyxl's default\n",
      "  warn(\"Workbook contains no default style, apply openpyxl's default\")\n",
      "/usr/local/lib/python3.13/site-packages/openpyxl/styles/stylesheet.py:237: UserWarning: Workbook contains no default style, apply openpyxl's default\n",
      "  warn(\"Workbook contains no default style, apply openpyxl's default\")\n"
     ]
    }
   ],
   "source": [
    "database = []\n",
    "for href in complete_data_df[\"Data_url\"]:\n",
    "    database.append(pd.read_excel(href, sheet_name=None))"
   ]
  },
  {
   "cell_type": "code",
   "execution_count": 138,
   "id": "85e6c16d-136b-496e-bf19-edeea62fa2b5",
   "metadata": {},
   "outputs": [
    {
     "data": {
      "text/plain": [
       "131"
      ]
     },
     "execution_count": 138,
     "metadata": {},
     "output_type": "execute_result"
    }
   ],
   "source": [
    "len(database)"
   ]
  },
  {
   "cell_type": "code",
   "execution_count": 142,
   "id": "93517144-2daa-4a83-b454-33869a820eea",
   "metadata": {},
   "outputs": [],
   "source": [
    "html = await parse_dynamic_webpage(\"https://www.bfs.admin.ch/bfs/en/home/statistics/sustainable-development/monet-2030/all-indicators.html\")"
   ]
  },
  {
   "cell_type": "code",
   "execution_count": 149,
   "id": "c9b7254a-94d4-4283-827a-c3da8d789d27",
   "metadata": {},
   "outputs": [],
   "source": [
    "indicators = BeautifulSoup(html).find(\"tbody\").find_all(\"tr\")"
   ]
  },
  {
   "cell_type": "code",
   "execution_count": 158,
   "id": "96a455da-2b4c-44bd-93a4-92370e21ee4b",
   "metadata": {},
   "outputs": [
    {
     "data": {
      "text/plain": [
       "'/content/bfs/en/home/statistiken/nachhaltige-entwicklung/monet-2030/indikatoren/armutsquote.html'"
      ]
     },
     "execution_count": 158,
     "metadata": {},
     "output_type": "execute_result"
    }
   ],
   "source": [
    "href = indicator.find_all(\"a\")[1][\"href\"]"
   ]
  },
  {
   "cell_type": "code",
   "execution_count": 161,
   "id": "b7cb9014-1a74-4864-a806-1c469da17f43",
   "metadata": {},
   "outputs": [
    {
     "data": {
      "text/plain": [
       "'SDG 1: No poverty'"
      ]
     },
     "execution_count": 161,
     "metadata": {},
     "output_type": "execute_result"
    }
   ],
   "source": [
    "indicators[0].find_all(\"a\")[0][\"aria-label\"]"
   ]
  },
  {
   "cell_type": "code",
   "execution_count": 182,
   "id": "f0cfcf2c-e7cb-4903-995b-417fd00a73ea",
   "metadata": {},
   "outputs": [
    {
     "data": {
      "text/plain": [
       "[<img alt=\"Agenda 2030: relevant\" class=\"icon icon--xl\" src=\"/content/dam/bfs/de/indicators/monet-agenda2030.svg\" title=\"Agenda 2030: relevant\"/>]"
      ]
     },
     "execution_count": 182,
     "metadata": {},
     "output_type": "execute_result"
    }
   ],
   "source": [
    "indicators[0].find_all(\"img\", {\"title\": \"Agenda 2030: relevant\"})"
   ]
  },
  {
   "cell_type": "code",
   "execution_count": 189,
   "id": "2a51d535-cccc-4452-9431-c19709960ecb",
   "metadata": {},
   "outputs": [],
   "source": [
    "base_url = \"https://www.bfs.admin.ch\"\n",
    "df = pd.DataFrame([{\"SDG\": indicator.find_all(\"a\")[0][\"aria-label\"].split(\":\")[0].split()[1].strip(),\n",
    " \"Topic\": indicator.find_all(\"a\")[0][\"aria-label\"].split(\":\")[1].strip(),\n",
    " \"Indicator\": indicator.find_all(\"a\")[1][\"aria-label\"],\n",
    " \"Hyperlink\": base_url+indicator.find_all(\"a\")[1][\"href\"].replace(\"content/\",\"\"),\n",
    " \"Agenda2030_relevant\": 1 if len(indicator.find_all(\"img\", {\"title\": \"Agenda 2030: relevant\"}))==1 else 0\n",
    "} for indicator in indicators])"
   ]
  },
  {
   "cell_type": "code",
   "execution_count": 191,
   "id": "5e1c6863-e8c7-40c3-b05d-e9f31d5dde91",
   "metadata": {},
   "outputs": [
    {
     "data": {
      "text/html": [
       "<div>\n",
       "<style scoped>\n",
       "    .dataframe tbody tr th:only-of-type {\n",
       "        vertical-align: middle;\n",
       "    }\n",
       "\n",
       "    .dataframe tbody tr th {\n",
       "        vertical-align: top;\n",
       "    }\n",
       "\n",
       "    .dataframe thead th {\n",
       "        text-align: right;\n",
       "    }\n",
       "</style>\n",
       "<table border=\"1\" class=\"dataframe\">\n",
       "  <thead>\n",
       "    <tr style=\"text-align: right;\">\n",
       "      <th></th>\n",
       "      <th>SDG</th>\n",
       "      <th>Topic</th>\n",
       "      <th>Indicator</th>\n",
       "      <th>Hyperlink</th>\n",
       "      <th>Agenda2030_relevant</th>\n",
       "    </tr>\n",
       "  </thead>\n",
       "  <tbody>\n",
       "    <tr>\n",
       "      <th>0</th>\n",
       "      <td>1</td>\n",
       "      <td>No poverty</td>\n",
       "      <td>Poverty rate</td>\n",
       "      <td>https://www.bfs.admin.ch/bfs/en/home/statistik...</td>\n",
       "      <td>1</td>\n",
       "    </tr>\n",
       "    <tr>\n",
       "      <th>1</th>\n",
       "      <td>1</td>\n",
       "      <td>No poverty</td>\n",
       "      <td>Total social security expenditure</td>\n",
       "      <td>https://www.bfs.admin.ch/bfs/en/home/statistik...</td>\n",
       "      <td>1</td>\n",
       "    </tr>\n",
       "    <tr>\n",
       "      <th>2</th>\n",
       "      <td>1</td>\n",
       "      <td>No poverty</td>\n",
       "      <td>Fatalities caused by natural events</td>\n",
       "      <td>https://www.bfs.admin.ch/bfs/en/home/statistik...</td>\n",
       "      <td>1</td>\n",
       "    </tr>\n",
       "    <tr>\n",
       "      <th>3</th>\n",
       "      <td>2</td>\n",
       "      <td>Zero hunger</td>\n",
       "      <td>Fruit and vegetables consumption</td>\n",
       "      <td>https://www.bfs.admin.ch/bfs/en/home/statistik...</td>\n",
       "      <td>1</td>\n",
       "    </tr>\n",
       "    <tr>\n",
       "      <th>4</th>\n",
       "      <td>2</td>\n",
       "      <td>Zero hunger</td>\n",
       "      <td>Nitrogen balance from agriculture</td>\n",
       "      <td>https://www.bfs.admin.ch/bfs/en/home/statistik...</td>\n",
       "      <td>1</td>\n",
       "    </tr>\n",
       "    <tr>\n",
       "      <th>...</th>\n",
       "      <td>...</td>\n",
       "      <td>...</td>\n",
       "      <td>...</td>\n",
       "      <td>...</td>\n",
       "      <td>...</td>\n",
       "    </tr>\n",
       "    <tr>\n",
       "      <th>104</th>\n",
       "      <td>16</td>\n",
       "      <td>Peace, justice and strong institutions</td>\n",
       "      <td>Language use: multilingualism</td>\n",
       "      <td>https://www.bfs.admin.ch/bfs/en/home/statistik...</td>\n",
       "      <td>0</td>\n",
       "    </tr>\n",
       "    <tr>\n",
       "      <th>105</th>\n",
       "      <td>16</td>\n",
       "      <td>Peace, justice and strong institutions</td>\n",
       "      <td>Participation in cultural activities</td>\n",
       "      <td>https://www.bfs.admin.ch/bfs/en/home/statistik...</td>\n",
       "      <td>0</td>\n",
       "    </tr>\n",
       "    <tr>\n",
       "      <th>106</th>\n",
       "      <td>16</td>\n",
       "      <td>Peace, justice and strong institutions</td>\n",
       "      <td>Level of public debt</td>\n",
       "      <td>https://www.bfs.admin.ch/bfs/en/home/statistik...</td>\n",
       "      <td>0</td>\n",
       "    </tr>\n",
       "    <tr>\n",
       "      <th>107</th>\n",
       "      <td>17</td>\n",
       "      <td>Partnerships for the goals</td>\n",
       "      <td>Official Development Assistance</td>\n",
       "      <td>https://www.bfs.admin.ch/bfs/en/home/statistik...</td>\n",
       "      <td>1</td>\n",
       "    </tr>\n",
       "    <tr>\n",
       "      <th>108</th>\n",
       "      <td>17</td>\n",
       "      <td>Partnerships for the goals</td>\n",
       "      <td>Direct investments in developing countries</td>\n",
       "      <td>https://www.bfs.admin.ch/bfs/en/home/statistik...</td>\n",
       "      <td>1</td>\n",
       "    </tr>\n",
       "  </tbody>\n",
       "</table>\n",
       "<p>109 rows × 5 columns</p>\n",
       "</div>"
      ],
      "text/plain": [
       "    SDG                                   Topic  \\\n",
       "0     1                              No poverty   \n",
       "1     1                              No poverty   \n",
       "2     1                              No poverty   \n",
       "3     2                             Zero hunger   \n",
       "4     2                             Zero hunger   \n",
       "..   ..                                     ...   \n",
       "104  16  Peace, justice and strong institutions   \n",
       "105  16  Peace, justice and strong institutions   \n",
       "106  16  Peace, justice and strong institutions   \n",
       "107  17              Partnerships for the goals   \n",
       "108  17              Partnerships for the goals   \n",
       "\n",
       "                                      Indicator  \\\n",
       "0                                  Poverty rate   \n",
       "1             Total social security expenditure   \n",
       "2           Fatalities caused by natural events   \n",
       "3              Fruit and vegetables consumption   \n",
       "4             Nitrogen balance from agriculture   \n",
       "..                                          ...   \n",
       "104               Language use: multilingualism   \n",
       "105        Participation in cultural activities   \n",
       "106                       Level of public debt    \n",
       "107             Official Development Assistance   \n",
       "108  Direct investments in developing countries   \n",
       "\n",
       "                                             Hyperlink  Agenda2030_relevant  \n",
       "0    https://www.bfs.admin.ch/bfs/en/home/statistik...                    1  \n",
       "1    https://www.bfs.admin.ch/bfs/en/home/statistik...                    1  \n",
       "2    https://www.bfs.admin.ch/bfs/en/home/statistik...                    1  \n",
       "3    https://www.bfs.admin.ch/bfs/en/home/statistik...                    1  \n",
       "4    https://www.bfs.admin.ch/bfs/en/home/statistik...                    1  \n",
       "..                                                 ...                  ...  \n",
       "104  https://www.bfs.admin.ch/bfs/en/home/statistik...                    0  \n",
       "105  https://www.bfs.admin.ch/bfs/en/home/statistik...                    0  \n",
       "106  https://www.bfs.admin.ch/bfs/en/home/statistik...                    0  \n",
       "107  https://www.bfs.admin.ch/bfs/en/home/statistik...                    1  \n",
       "108  https://www.bfs.admin.ch/bfs/en/home/statistik...                    1  \n",
       "\n",
       "[109 rows x 5 columns]"
      ]
     },
     "execution_count": 191,
     "metadata": {},
     "output_type": "execute_result"
    }
   ],
   "source": [
    "df"
   ]
  },
  {
   "cell_type": "code",
   "execution_count": null,
   "id": "2dc18047-12b9-4d6f-a495-59c35838ec34",
   "metadata": {},
   "outputs": [],
   "source": []
  }
 ],
 "metadata": {
  "kernelspec": {
   "display_name": "Python 3 (ipykernel)",
   "language": "python",
   "name": "python3"
  },
  "language_info": {
   "codemirror_mode": {
    "name": "ipython",
    "version": 3
   },
   "file_extension": ".py",
   "mimetype": "text/x-python",
   "name": "python",
   "nbconvert_exporter": "python",
   "pygments_lexer": "ipython3",
   "version": "3.13.5"
  }
 },
 "nbformat": 4,
 "nbformat_minor": 5
}
