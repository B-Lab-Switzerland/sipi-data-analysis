{
 "cells": [
  {
   "cell_type": "markdown",
   "id": "c9b778b8-7a3b-4838-b5d0-069e78bd853b",
   "metadata": {},
   "source": [
    "# MONET2030 - Data Scraping/ETL"
   ]
  },
  {
   "cell_type": "code",
   "execution_count": null,
   "id": "07ec5a19-35ce-4493-a4f9-56895f587a15",
   "metadata": {},
   "outputs": [],
   "source": [
    "# Stdlib imports\n",
    "import re\n",
    "from pathlib import Path\n",
    "from collections import namedtuple\n",
    "\n",
    "# 3rd party imports\n",
    "import pandas as pd\n",
    "import numpy as np\n",
    "import matplotlib.pyplot as plt\n",
    "import seaborn as sns\n",
    "\n",
    "# Local imports\n",
    "from pymonet import monet_scraper as scraper\n",
    "from pymonet import monet_processor as processor\n",
    "from pymonet import monet_consts as const\n",
    "from sipi_da_utils import utils, plot"
   ]
  },
  {
   "cell_type": "markdown",
   "id": "d52ca24e-68e4-4d96-b985-8d9ea24017a4",
   "metadata": {},
   "source": [
    "## 1) List of all MONET2030 indicators\n",
    "\n",
    "First, let's scrape a list of all indicators and their meta information (e.g. the URLs pointing to the indicator-specific subpages). Let's write this info to a dataframe and store it to disk."
   ]
  },
  {
   "cell_type": "code",
   "execution_count": null,
   "id": "74418e6c-c611-4940-b65b-744238157d41",
   "metadata": {},
   "outputs": [],
   "source": [
    "itl = scraper.IndicatorTableLoader(const.url_all_monet2030_indicators, \n",
    "                                   const.indicator_table_path\n",
    "                                  )\n",
    "await itl.get_table()"
   ]
  },
  {
   "cell_type": "code",
   "execution_count": null,
   "id": "745a2ba9-f195-45d0-8901-89fd48920611",
   "metadata": {},
   "outputs": [],
   "source": [
    "itl.table.head()"
   ]
  },
  {
   "cell_type": "code",
   "execution_count": null,
   "id": "d3ead53c-d637-4566-a9a2-68d6c0bf099a",
   "metadata": {},
   "outputs": [],
   "source": [
    "len(itl.table)"
   ]
  },
  {
   "cell_type": "markdown",
   "id": "aacd3979-5e2c-47e0-947a-6e90496be190",
   "metadata": {},
   "source": [
    "### Adding capitals information\n",
    "\n",
    "**Important remark:** The capitals mapping file (corresponding to const.capmap_path) is a manually created file. If it does no longer contain the same ids as itl.table, it has to be recreated manually."
   ]
  },
  {
   "cell_type": "code",
   "execution_count": null,
   "id": "c7458b55-cd5a-40dd-85aa-0ea6d4c7bf78",
   "metadata": {},
   "outputs": [],
   "source": [
    "capmap = pd.read_csv(const.capmap_path).drop(\"Unnamed: 0\", axis=1)\n",
    "capmap.head()"
   ]
  },
  {
   "cell_type": "code",
   "execution_count": null,
   "id": "e10e19f0-968e-4432-a966-81884895a54f",
   "metadata": {},
   "outputs": [],
   "source": [
    "print(len(itl.table), len(capmap))\n",
    "itl.table = itl.table.merge(capmap, on=\"id\", how=\"outer\")\n",
    "print(len(itl.table))"
   ]
  },
  {
   "cell_type": "code",
   "execution_count": null,
   "id": "3c360e23-1768-4573-b9f7-4e3cc4de5b66",
   "metadata": {},
   "outputs": [],
   "source": [
    "itl.table.head()"
   ]
  },
  {
   "cell_type": "markdown",
   "id": "81d1a191-03f3-455e-8b37-99b84907e811",
   "metadata": {},
   "source": [
    "## 2) List of all data files for all MONET2030 indicators\n",
    "\n",
    "Given a list of all subpages related to the MONET2030 indicators (see Step 1), we can now go a step further and scrape each of these subpages. Doing so we can find yet a new set of URLs that point to the actual indicator-specific data files. It is the data in these files we are ultimately interested in."
   ]
  },
  {
   "cell_type": "code",
   "execution_count": null,
   "id": "2478b3d9-2906-49f2-a671-a14c813697f3",
   "metadata": {},
   "outputs": [],
   "source": [
    "mitl = scraper.MetaInfoTableLoader(itl.table,\n",
    "                                   const.metainfo_table_path\n",
    "                                  )\n",
    "await mitl.get_table()"
   ]
  },
  {
   "cell_type": "code",
   "execution_count": null,
   "id": "22d7a3da-d341-422c-8f9a-018a02925aa0",
   "metadata": {},
   "outputs": [],
   "source": [
    "mitl.table.head()"
   ]
  },
  {
   "cell_type": "markdown",
   "id": "82234b78-374e-4b2b-993e-a82695c47295",
   "metadata": {},
   "source": [
    "## 3) Download all the data files"
   ]
  },
  {
   "cell_type": "code",
   "execution_count": null,
   "id": "66af8fa5-1769-4820-ab52-3560dd409880",
   "metadata": {},
   "outputs": [],
   "source": [
    "dfl = scraper.DataFileLoader(mitl.table, const.raw_dir)"
   ]
  },
  {
   "cell_type": "code",
   "execution_count": null,
   "id": "faf99de6-438a-415c-ad0f-8e3b831b2e23",
   "metadata": {},
   "outputs": [],
   "source": [
    "dfl.get_data()"
   ]
  },
  {
   "cell_type": "markdown",
   "id": "79619bb4-9692-4536-81d1-43c960f874e3",
   "metadata": {},
   "source": [
    "## 4) Process/Transform Data"
   ]
  },
  {
   "cell_type": "code",
   "execution_count": null,
   "id": "8b9ff6d5-03d2-4340-b7bc-6c1ebf6459f9",
   "metadata": {},
   "outputs": [],
   "source": [
    "pipeline = processor.TransformationPipeline(dfl.raw_data_list, itl.table, mitl.table)\n",
    "final_output = pipeline.run()"
   ]
  },
  {
   "cell_type": "markdown",
   "id": "257a8b22-d2b5-4339-8e85-d0badfd92d0a",
   "metadata": {},
   "source": [
    "## 5) Analysis"
   ]
  },
  {
   "cell_type": "markdown",
   "id": "e3e53b22-eee9-41cc-b81e-6a6616cf2a37",
   "metadata": {},
   "source": [
    "### 5.1) Analysis of raw data availability"
   ]
  },
  {
   "cell_type": "code",
   "execution_count": null,
   "id": "f31d6947-c89e-4897-9ba4-0eb905f16754",
   "metadata": {},
   "outputs": [],
   "source": [
    "monet_clean = pipeline.stages[3].output\n",
    "monet_clean.head()"
   ]
  },
  {
   "cell_type": "code",
   "execution_count": null,
   "id": "b5508a03-cca4-45fb-af29-38d3dd6a745f",
   "metadata": {},
   "outputs": [],
   "source": [
    "fig, ax = plot.visualize_data_availability(monet_clean.transpose(), \n",
    "                                      title = \"Data availablity for MONET2030\",\n",
    "                                      x_label = \"Years\",\n",
    "                                      y_label = \"Metric IDs\"\n",
    "                                     )"
   ]
  },
  {
   "cell_type": "code",
   "execution_count": null,
   "id": "beb59287-a962-448d-a282-ad8674b47137",
   "metadata": {},
   "outputs": [],
   "source": [
    "fig, ax = plt.subplots(figsize=(17,4))\n",
    "sns.barplot(monet_clean.count().sort_values(ascending=False), ax=ax)\n",
    "ax.grid(True)\n",
    "plt.xticks(rotation=90)\n",
    "plt.show()"
   ]
  },
  {
   "cell_type": "markdown",
   "id": "b625b136-c863-455f-89ad-07ae68e3dd86",
   "metadata": {},
   "source": [
    "## 6) Visual inspection"
   ]
  },
  {
   "cell_type": "code",
   "execution_count": null,
   "id": "4ae902f5-706b-44cf-a3fe-c63362e70aa3",
   "metadata": {},
   "outputs": [],
   "source": [
    "monet_clean = pipeline.stages[3].output\n",
    "monet_interp = pipeline.stages[4].output\n",
    "monet_envlp = pipeline.stages[4].additional_results[\"uncertainty_envelopes\"]"
   ]
  },
  {
   "cell_type": "code",
   "execution_count": null,
   "id": "91bda107-ee07-4db7-84d9-ca0c7619e5bc",
   "metadata": {},
   "outputs": [],
   "source": [
    "fig, ax = plot.visualize_data_availability(monet_clean.transpose(), \n",
    "                                      title = \"Data availablity for MONET2030\",\n",
    "                                      x_label = \"Years\",\n",
    "                                      y_label = \"Metric IDs\"\n",
    "                                     )"
   ]
  },
  {
   "cell_type": "code",
   "execution_count": null,
   "id": "e440a89c-f934-4d80-8e5a-04f5946b095a",
   "metadata": {},
   "outputs": [],
   "source": [
    "fig, ax = plot.visualize_data_availability(monet_interp.transpose(), \n",
    "                                           title = \"Data availablity for MONET2030 (after interpolation)\",\n",
    "                                           x_label = \"Years\",\n",
    "                                           y_label = \"Metric IDs\"\n",
    "                                          )"
   ]
  },
  {
   "cell_type": "code",
   "execution_count": null,
   "id": "8b6e36c0-b5b0-4185-9213-78bb2eea9d68",
   "metadata": {},
   "outputs": [],
   "source": [
    "rel_dam_ids = list(set([c[:8] for c in monet_clean.columns]))\n",
    "len(rel_dam_ids)\n",
    "\n",
    "fig, axs = plt.subplots(10,8, figsize=(14,20))\n",
    "\n",
    "for i, damid in enumerate(sorted(rel_dam_ids)):\n",
    "    ax = axs[i//8,i%8]\n",
    "    damid_data = monet_clean.loc[:,monet_clean.columns.str.contains(str(damid))]\n",
    "    damid_data.dropna().plot(ax=ax, legend=False)\n",
    "    ax.grid(True)\n",
    "    ax.set_title(damid)\n",
    "\n",
    "axs[-1,-2].axis(\"off\")\n",
    "axs[-1,-1].axis(\"off\")\n",
    "plt.tight_layout()\n",
    "plt.show()"
   ]
  },
  {
   "cell_type": "code",
   "execution_count": null,
   "id": "d3dfc81a-367c-4cbd-81c2-70027d45438c",
   "metadata": {},
   "outputs": [],
   "source": [
    "assert all(monet_clean.columns == monet_interp.columns)\n",
    "assert all(monet_interp.columns == monet_envlp.columns)\n",
    "columns = monet_clean.columns\n",
    "\n",
    "fig, axs = plt.subplots(23,5, figsize=(25,60))\n",
    "\n",
    "i = 0\n",
    "for metric in columns:\n",
    "    Data = namedtuple(\"Measurement\", ['xvec', 'yvec'])\n",
    "    data = Data(xvec = monet_clean[metric].dropna().index, \n",
    "                yvec = monet_clean[metric].dropna()\n",
    "               )\n",
    "\n",
    "    Mean = namedtuple(\"GP_Interpolation\", ['xvec', 'yvec', 'err'])\n",
    "    mean = Mean(xvec = monet_interp.index, \n",
    "                yvec = monet_interp[metric], \n",
    "                err=monet_envlp[metric]\n",
    "               )\n",
    "    \n",
    "    ax = axs[i//5,i%5]\n",
    "    ax.scatter(data.xvec, data.yvec, c=\"k\", marker='o', label=\"measurements\")\n",
    "    ax.plot(mean.xvec, mean.yvec, c=\"r\", label=\"GP\")\n",
    "    ax.fill_between(\n",
    "            mean.xvec,\n",
    "            mean.yvec - 1.96 * mean.err,\n",
    "            mean.yvec + 1.96 * mean.err,\n",
    "            alpha=0.3,\n",
    "            color='blue',\n",
    "            label=\"95% confidence interval\")\n",
    "    \n",
    "    ax.grid(True)\n",
    "    ax.set_title(metric)\n",
    "    #ax.set_xlim([min(data.xvec)-1, max(data.xvec)+2])\n",
    "    i += 1\n",
    "   \n",
    "plt.tight_layout()\n",
    "plt.show()"
   ]
  },
  {
   "cell_type": "markdown",
   "id": "51bee752-3488-4853-b39a-3414a4c46c3a",
   "metadata": {},
   "source": [
    "## 6) Time Series Stationarity"
   ]
  },
  {
   "cell_type": "markdown",
   "id": "bcb18927-6089-482d-969b-8addda343c93",
   "metadata": {},
   "source": [
    "### 6.1) Convert time information to correct data type"
   ]
  },
  {
   "cell_type": "code",
   "execution_count": null,
   "id": "843d5bad-9155-4678-9bf1-02e4f57ec206",
   "metadata": {},
   "outputs": [],
   "source": [
    "monet_clean_ts = monet_clean.copy()\n",
    "dts_index = utils.fractional_years_to_datetime(monet_clean_ts.index)\n",
    "monet_clean_ts.index = dts_index\n",
    "monet_clean_ts.head()"
   ]
  },
  {
   "cell_type": "code",
   "execution_count": null,
   "id": "a95b0a86-3a8a-4697-bc5d-f546be9e5a87",
   "metadata": {},
   "outputs": [],
   "source": [
    "dts_index = utils.fractional_years_to_datetime(monet_interp.index)\n",
    "monet_interp.index = dts_index\n",
    "monet_interp.head()"
   ]
  },
  {
   "cell_type": "markdown",
   "id": "a9d39ec8-754b-4bef-8b1e-a5eef06463b1",
   "metadata": {},
   "source": [
    "### 6.2) Decompose time series"
   ]
  },
  {
   "cell_type": "code",
   "execution_count": null,
   "id": "b1bd583a-600a-43da-a7f4-25788d9b2615",
   "metadata": {},
   "outputs": [],
   "source": [
    "tsa = utils.TSAnalyzer(monet_interp, dirpath=const.tsa_dir)"
   ]
  },
  {
   "cell_type": "code",
   "execution_count": null,
   "id": "12add976-9832-418a-9670-966be5ad780d",
   "metadata": {},
   "outputs": [],
   "source": [
    "tsa.get_decomposition()"
   ]
  },
  {
   "cell_type": "code",
   "execution_count": null,
   "id": "a0d740e4-d123-4c03-86c1-220e3d0b80f2",
   "metadata": {},
   "outputs": [],
   "source": [
    "assert all(monet_clean.columns == monet_interp.columns)\n",
    "assert all(monet_interp.columns == monet_envlp.columns)\n",
    "columns = monet_clean.columns\n",
    "\n",
    "fig, axs = plt.subplots(23,5, figsize=(25,60))\n",
    "\n",
    "i = 0\n",
    "for metric in columns:\n",
    "    Mean = namedtuple(\"GP_Interpolation\", ['xvec', 'yvec', 'err'])\n",
    "    mean = Mean(xvec = monet_interp[metric].dropna().index, \n",
    "                yvec = monet_interp[metric].dropna(), \n",
    "                err = monet_envlp[metric]\n",
    "               )\n",
    "\n",
    "    Trend = namedtuple(\"Trend\", ['xvec', 'yvec'])\n",
    "    trend = Trend(xvec = tsa.trend.index, \n",
    "                 yvec = tsa.trend[metric], \n",
    "                )\n",
    "    \n",
    "    ax = axs[i//5,i%5]\n",
    "    ax.plot(trend.xvec, trend.yvec, c=\"gray\", ls=\"--\", label=\"trend\")\n",
    "    ax.plot(mean.xvec, mean.yvec, c=\"r\", label=\"GP\")\n",
    "    \n",
    "    \n",
    "    ax.grid(True)\n",
    "    ax.set_title(metric)\n",
    "    #ax.set_xlim([min(mean.xvec)-1, max(mean.xvec)+2])\n",
    "    i += 1\n",
    "   \n",
    "plt.tight_layout()\n",
    "plt.show()"
   ]
  },
  {
   "cell_type": "code",
   "execution_count": null,
   "id": "60058bf8-810f-4626-8712-33a44c5a2377",
   "metadata": {},
   "outputs": [],
   "source": [
    "assert all(monet_clean.columns == monet_interp.columns)\n",
    "assert all(monet_interp.columns == monet_envlp.columns)\n",
    "columns = monet_clean.columns\n",
    "\n",
    "fig, axs = plt.subplots(23,5, figsize=(25,60))\n",
    "\n",
    "i = 0\n",
    "for metric in columns:\n",
    "    Resid = namedtuple(\"Residual\", ['xvec', 'yvec'])\n",
    "    resid = Resid(xvec = tsa.residuals[metric].dropna().index, \n",
    "                  yvec = tsa.residuals[metric].dropna(), \n",
    "                 )\n",
    "    \n",
    "    ax = axs[i//5,i%5]\n",
    "    ax.plot(resid.xvec, resid.yvec, c=\"red\", label=\"residuals\")\n",
    "    ax.scatter(monet_clean_ts.loc[:,metric].dropna().index,\n",
    "               monet_clean_ts.loc[:,metric].dropna()-tsa.trend.loc[monet_clean_ts.loc[:,metric].dropna().index,metric],\n",
    "               marker='o',\n",
    "               c=\"k\")\n",
    "    ax.axhline(y=0, c=\"grey\", ls=\"--\")\n",
    "    ax.grid(True)\n",
    "    ax.set_title(metric)\n",
    "    #ax.set_xlim([min(resid.xvec)-1, max(resid.xvec)+2])\n",
    "    i += 1\n",
    "   \n",
    "plt.tight_layout()\n",
    "plt.show()"
   ]
  },
  {
   "cell_type": "markdown",
   "id": "f5328857-a6c9-47e4-845a-f7f8bf18c3b6",
   "metadata": {},
   "source": [
    "## 7) Correlation analysis"
   ]
  },
  {
   "cell_type": "code",
   "execution_count": null,
   "id": "98ed27e5-3b5d-41cb-a417-26a4385b0eed",
   "metadata": {
    "scrolled": true
   },
   "outputs": [],
   "source": [
    "monet_ca = utils.CorrelationAnalysis(monet_stat, timeseries=True)\n",
    "monet_ca.compute_correlation()\n",
    "#monet_ca.plot_corr_heatmap(title=\"Correlation Analysis of MONET2030 indicators\", fpath=const.all_corrmat_file )"
   ]
  },
  {
   "cell_type": "code",
   "execution_count": null,
   "id": "2e570fd9-4117-40e5-b7c5-ddfce0d17f03",
   "metadata": {},
   "outputs": [],
   "source": [
    "sns.heatmap(monet_ca.corrmat)"
   ]
  },
  {
   "cell_type": "code",
   "execution_count": null,
   "id": "52d5d372-79f6-4b04-b7f6-a3346a25e75a",
   "metadata": {},
   "outputs": [],
   "source": [
    "fig, axs = plt.subplots(1,2, figsize=(10,4))\n",
    "ax = axs[0]\n",
    "sns.histplot(monet_ca.corrmat.unstack().values, ax=ax, kde=True, bins=40)\n",
    "ax.set_title(\"Distribution of correlation values\")\n",
    "ax.set_xlabel(\"corr\")\n",
    "\n",
    "ax = axs[1]\n",
    "sns.histplot(monet_ca.corrmat.unstack().abs().values, ax=ax, bins=20)\n",
    "ax.set_title(\"Distribution of abs(correlation) values\")\n",
    "ax.set_xlabel(\"abs(corr)\")\n",
    "plt.tight_layout()\n",
    "plt.show()"
   ]
  },
  {
   "cell_type": "markdown",
   "id": "f9321b03-6a6d-4361-9a0c-b52bd3503c77",
   "metadata": {},
   "source": [
    "### 7.1) Removing strongly correlated metrics in a greedy approach"
   ]
  },
  {
   "cell_type": "code",
   "execution_count": null,
   "id": "bb5f27e6-90aa-4aff-af0d-b26895a9efb8",
   "metadata": {},
   "outputs": [],
   "source": [
    "non_redundant_metrics, found_correlations = monet_ca.drop_strong_correlations(threshold=0.9, \n",
    "                                                                              fpath_corr = const.pruned_metrics_file\n",
    "                                                                             )\n",
    "len(non_redundant_metrics)"
   ]
  },
  {
   "cell_type": "code",
   "execution_count": null,
   "id": "73d093e0-459b-4241-b7b5-d2f46df0f9cd",
   "metadata": {},
   "outputs": [],
   "source": [
    "fig, ax = plt.subplots(figsize=(10,9))\n",
    "sns.heatmap(monet_ca.corrmat.loc[non_redundant_metrics,non_redundant_metrics], vmin=-1, vmax=1, ax=ax)\n",
    "ax.set_title(\"Correlation Analysis of MONET2030 indicators (pruned)\")\n",
    "plt.tight_layout()\n",
    "fig.savefig(const.pruned_corrmat_file)\n",
    "plt.show()"
   ]
  },
  {
   "cell_type": "code",
   "execution_count": null,
   "id": "4fda19c1-9e3d-46cc-957c-c68544eb275b",
   "metadata": {},
   "outputs": [],
   "source": [
    "# Map non-redundant metrics to non-redundant observables/dam_ids\n",
    "non_redundant_dam_ids = set([int(mtr.split(\"_\")[0][:-1]) for mtr in non_redundant_metrics])\n",
    "print(len(non_redundant_dam_ids))\n",
    "non_redundant_observables_df=mitl.table[mitl.table[\"dam_id\"].isin(non_redundant_dam_ids)]\n",
    "non_redundant_observables_df.head(3)"
   ]
  },
  {
   "cell_type": "code",
   "execution_count": null,
   "id": "dbd99988-0838-4ad4-9cf8-be736e49ab8f",
   "metadata": {},
   "outputs": [],
   "source": [
    "non_redundant_observables_df.to_csv(const.non_redundant_obs_file, index=False)"
   ]
  },
  {
   "cell_type": "code",
   "execution_count": null,
   "id": "2f61eb2d-b6ea-4b4b-a9b2-461caa6c9352",
   "metadata": {},
   "outputs": [],
   "source": [
    "# Map non-redundant damids to non-redundant indicators\n",
    "non_redundant_indicators = non_redundant_observables_df[[\"indicator_id\", \"indicator\"]].drop_duplicates()\n",
    "non_redundant_indicators.head()"
   ]
  },
  {
   "cell_type": "code",
   "execution_count": null,
   "id": "591e8650-0bf8-4de7-a839-4ceb82f0add4",
   "metadata": {},
   "outputs": [],
   "source": [
    "print(f\"We removed {round((100*(1-len(non_redundant_indicators)/len(itl.table))),2)}% of the original indicators in total.\")"
   ]
  },
  {
   "cell_type": "code",
   "execution_count": null,
   "id": "b4b9b499-b295-4acf-bacd-531d816457e4",
   "metadata": {},
   "outputs": [],
   "source": [
    "monet_ca.corrmat.loc[\"28325349a_metr\", \"28325338b_metr\"]"
   ]
  },
  {
   "cell_type": "code",
   "execution_count": null,
   "id": "9e56215f-a5b6-44d8-b842-ae0534033929",
   "metadata": {},
   "outputs": [],
   "source": [
    "corrmat=monet_interp.corr()"
   ]
  },
  {
   "cell_type": "code",
   "execution_count": null,
   "id": "b90b3839-88e4-43e9-ab10-7f7f20cf8f6b",
   "metadata": {},
   "outputs": [],
   "source": [
    "corrmat.loc[\"28325349a_metr\", \"28325338b_metr\"]"
   ]
  },
  {
   "cell_type": "code",
   "execution_count": null,
   "id": "407d572a-7ad5-40fe-af9a-c931b3d07cf9",
   "metadata": {},
   "outputs": [],
   "source": [
    "stds = monet_interp.diff().std()\n",
    "stds.argmin()"
   ]
  },
  {
   "cell_type": "code",
   "execution_count": null,
   "id": "0622b9e9-fb24-4223-8578-826ea9c47a70",
   "metadata": {},
   "outputs": [],
   "source": [
    "stds.iloc[139]"
   ]
  },
  {
   "cell_type": "code",
   "execution_count": null,
   "id": "761a0557-335c-43f9-8068-4837becf6577",
   "metadata": {},
   "outputs": [],
   "source": [
    "stds.keys()[139]"
   ]
  },
  {
   "cell_type": "code",
   "execution_count": null,
   "id": "8a76f863-8714-4a20-be09-68f52bf15ef4",
   "metadata": {},
   "outputs": [],
   "source": [
    "mitl.table[mitl.table[\"dam_id\"]==33188879]"
   ]
  },
  {
   "cell_type": "code",
   "execution_count": null,
   "id": "ccd5d756-997d-4d54-bbfd-9fe9356aaedf",
   "metadata": {},
   "outputs": [],
   "source": [
    "relevant_monet_df[[\"28325338b_metr\", \"28325349a_metr\"]].dropna().diff().corr()"
   ]
  },
  {
   "cell_type": "code",
   "execution_count": null,
   "id": "3dff8ec5-ff78-4748-82ff-d1cd12a9adf9",
   "metadata": {},
   "outputs": [],
   "source": [
    "relevant_monet_df[].dropna()"
   ]
  },
  {
   "cell_type": "code",
   "execution_count": null,
   "id": "888e6381-67a9-40cf-a853-6fe6201e535b",
   "metadata": {},
   "outputs": [],
   "source": []
  },
  {
   "cell_type": "code",
   "execution_count": null,
   "id": "063173e3-6a5f-4d09-a14e-1c7fedeea18b",
   "metadata": {},
   "outputs": [],
   "source": []
  },
  {
   "cell_type": "code",
   "execution_count": null,
   "id": "4c875c47-c726-4d4a-a461-4a9420b49d08",
   "metadata": {},
   "outputs": [],
   "source": []
  },
  {
   "cell_type": "code",
   "execution_count": null,
   "id": "ca0de0c3-7472-483c-88a2-e7d438a9329b",
   "metadata": {},
   "outputs": [],
   "source": [
    "mitl.table[mitl.table[\"dam_id\"].duplicated(keep=False)].sort_values(by=\"dam_id\")"
   ]
  },
  {
   "cell_type": "code",
   "execution_count": null,
   "id": "a42ba01d-6931-4747-90ae-e473962afd30",
   "metadata": {},
   "outputs": [],
   "source": []
  }
 ],
 "metadata": {
  "kernelspec": {
   "display_name": "Python 3 (ipykernel)",
   "language": "python",
   "name": "python3"
  },
  "language_info": {
   "codemirror_mode": {
    "name": "ipython",
    "version": 3
   },
   "file_extension": ".py",
   "mimetype": "text/x-python",
   "name": "python",
   "nbconvert_exporter": "python",
   "pygments_lexer": "ipython3",
   "version": "3.13.5"
  }
 },
 "nbformat": 4,
 "nbformat_minor": 5
}
