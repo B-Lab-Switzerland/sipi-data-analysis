{
 "cells": [
  {
   "cell_type": "markdown",
   "id": "00acf14c-a736-4695-90d7-9feb26eed278",
   "metadata": {},
   "source": [
    "# Creation of Capitals Mapping"
   ]
  },
  {
   "cell_type": "code",
   "execution_count": null,
   "id": "26a4f061-6bf4-41b5-9e6f-fb0bdffaa208",
   "metadata": {},
   "outputs": [],
   "source": [
    "# 3rd party imports\n",
    "import pandas as pd\n",
    "\n",
    "# Local imports\n",
    "from pymonet import monet_consts as const"
   ]
  },
  {
   "cell_type": "markdown",
   "id": "7e4861fb-3acb-4248-8c74-0cfdc805128e",
   "metadata": {},
   "source": [
    "### 1) Load Manually Created File"
   ]
  },
  {
   "cell_type": "code",
   "execution_count": null,
   "id": "231c4958-0dd5-472f-91a3-94cacd4cf53b",
   "metadata": {},
   "outputs": [],
   "source": [
    "mapxlsx = pd.read_excel(\"../data/indicator_table_4capitals-vShared.xlsx\", sheet_name=\"indicator_table\")"
   ]
  },
  {
   "cell_type": "markdown",
   "id": "e2016c18-507e-42a5-80b1-41cd8349c179",
   "metadata": {},
   "source": [
    "### 2) Reduce to relevant columns"
   ]
  },
  {
   "cell_type": "code",
   "execution_count": null,
   "id": "2dffb007-f83d-4b8e-8c99-601d6acb479f",
   "metadata": {},
   "outputs": [],
   "source": [
    "capmap = mapxlsx[[\"id\", \"Capital - Primary\", \"Capital - Secondary\"]].copy()\n",
    "capmap.head()"
   ]
  },
  {
   "cell_type": "markdown",
   "id": "b62c415c-4dba-4ec0-94ee-4e2234c20f72",
   "metadata": {},
   "source": [
    "### 3) Clean up"
   ]
  },
  {
   "cell_type": "code",
   "execution_count": null,
   "id": "2587e478-493f-4da4-844f-2936c6228440",
   "metadata": {},
   "outputs": [],
   "source": [
    "capmap[\"Capital - Primary\"].unique()"
   ]
  },
  {
   "cell_type": "code",
   "execution_count": null,
   "id": "f88b73d3-36cb-4411-970a-411b1f86e8fa",
   "metadata": {},
   "outputs": [],
   "source": [
    "capmap[\"Capital - Primary\"]=capmap[\"Capital - Primary\"].str.strip()\n",
    "capmap[\"Capital - Primary\"].unique()"
   ]
  },
  {
   "cell_type": "markdown",
   "id": "1826901c-5b16-4fe8-b28a-9cf9db2cf991",
   "metadata": {},
   "source": [
    "### 4) Save"
   ]
  },
  {
   "cell_type": "code",
   "execution_count": null,
   "id": "e103ad18-2aba-4067-942e-e10583fdcb92",
   "metadata": {},
   "outputs": [],
   "source": [
    "capmap.to_csv(const.capmap_path)"
   ]
  }
 ],
 "metadata": {
  "kernelspec": {
   "display_name": "Python 3 (ipykernel)",
   "language": "python",
   "name": "python3"
  },
  "language_info": {
   "codemirror_mode": {
    "name": "ipython",
    "version": 3
   },
   "file_extension": ".py",
   "mimetype": "text/x-python",
   "name": "python",
   "nbconvert_exporter": "python",
   "pygments_lexer": "ipython3",
   "version": "3.13.5"
  }
 },
 "nbformat": 4,
 "nbformat_minor": 5
}
