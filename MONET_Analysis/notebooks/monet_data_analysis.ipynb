{
 "cells": [
  {
   "cell_type": "markdown",
   "id": "c9b778b8-7a3b-4838-b5d0-069e78bd853b",
   "metadata": {},
   "source": [
    "# MONET2030 - Analysis"
   ]
  },
  {
   "cell_type": "code",
   "execution_count": null,
   "id": "07ec5a19-35ce-4493-a4f9-56895f587a15",
   "metadata": {},
   "outputs": [],
   "source": [
    "# Stdlib imports\n",
    "import re\n",
    "from pathlib import Path\n",
    "from collections import namedtuple\n",
    "\n",
    "# 3rd party imports\n",
    "import pandas as pd\n",
    "import numpy as np\n",
    "import matplotlib.pyplot as plt\n",
    "import seaborn as sns\n",
    "from matplotlib import colormaps as cm\n",
    "\n",
    "# Local imports\n",
    "from pymonet import monet_scraper as scraper\n",
    "from pymonet import monet_processor as processor\n",
    "from pymonet import monet_consts as const\n",
    "from pymonet import monet_analysis as analysis\n",
    "from pymonet import monet_aux as aux"
   ]
  },
  {
   "cell_type": "markdown",
   "id": "d69ba953-98a8-49b5-8f39-209e934c66e7",
   "metadata": {},
   "source": [
    "## 1) Get Web Data"
   ]
  },
  {
   "cell_type": "code",
   "execution_count": null,
   "id": "9b4fec28-d653-480c-afef-5702610c018c",
   "metadata": {},
   "outputs": [],
   "source": [
    "scraper_pipeline = scraper.MonetLoader()\n",
    "raw_data = await scraper_pipeline.load()"
   ]
  },
  {
   "cell_type": "markdown",
   "id": "79619bb4-9692-4536-81d1-43c960f874e3",
   "metadata": {},
   "source": [
    "## 2) Process/Transform Data"
   ]
  },
  {
   "cell_type": "code",
   "execution_count": null,
   "id": "8b9ff6d5-03d2-4340-b7bc-6c1ebf6459f9",
   "metadata": {},
   "outputs": [],
   "source": [
    "pipeline = processor.TransformationPipeline(raw_data,\n",
    "                                            scraper_pipeline.indicators_metatable,\n",
    "                                            scraper_pipeline.observables_metatable\n",
    "                                           )\n",
    "final_output = pipeline.run()"
   ]
  },
  {
   "cell_type": "code",
   "execution_count": null,
   "id": "187b782f-b687-4a59-bd0d-e83f6c36e570",
   "metadata": {},
   "outputs": [],
   "source": [
    "results = pipeline.collect_results()"
   ]
  },
  {
   "cell_type": "markdown",
   "id": "4f236057-91ce-4ffb-9905-1038637f03a1",
   "metadata": {},
   "source": [
    "## 3) Visual inspection"
   ]
  },
  {
   "cell_type": "code",
   "execution_count": null,
   "id": "02eb6ecf-13f6-47ab-8486-fa5b2dfcebdd",
   "metadata": {},
   "outputs": [],
   "source": [
    "#figsaxes = pipeline.create_inspection_plots(create='all', write=True)"
   ]
  },
  {
   "cell_type": "markdown",
   "id": "257a8b22-d2b5-4339-8e85-d0badfd92d0a",
   "metadata": {},
   "source": [
    "## 4) Analysis"
   ]
  },
  {
   "cell_type": "markdown",
   "id": "37f73e41-05c3-424d-b2ce-30698acd9b22",
   "metadata": {},
   "source": [
    "### 4.1) Data Availability & Coverage Analysis"
   ]
  },
  {
   "cell_type": "markdown",
   "id": "00e76119-721c-49ef-bcb8-b9c330abaeb7",
   "metadata": {},
   "source": [
    "#### 4.1.1) Analysis of capitals\n",
    "\n",
    "Question: How many metrics per capital are there?"
   ]
  },
  {
   "cell_type": "code",
   "execution_count": null,
   "id": "060254e6-603e-44fe-bec7-a4c53f6753e7",
   "metadata": {},
   "outputs": [],
   "source": [
    "n_metrics_per_capital = analysis.nMetricsPerCapital(results[\"clean\"])\n",
    "npc = n_metrics_per_capital.analyze()"
   ]
  },
  {
   "cell_type": "markdown",
   "id": "5a67cc3e-1da3-4878-ad6d-9fb6b6a9c1f8",
   "metadata": {},
   "source": [
    "#### 4.1.2) Analysis of sparse data\n",
    "\n",
    "Question: How many metrics per capital are too sparse (i.e. have less than 10 data points)"
   ]
  },
  {
   "cell_type": "code",
   "execution_count": null,
   "id": "246d7b3c-1311-4bdc-9c7f-ca6401bb1fff",
   "metadata": {},
   "outputs": [],
   "source": [
    "n_sparse_per_capital = analysis.nSparseMetricsPerCapital(results[\"sparse_cols\"])\n",
    "nspc = n_sparse_per_capital.analyze()"
   ]
  },
  {
   "cell_type": "markdown",
   "id": "66244a78-38ef-4aa0-9d2c-5466465b6f99",
   "metadata": {},
   "source": [
    "#### 4.1.3) Analysis of irrelevant data\n",
    "\n",
    "Question: How many metrics per capital are irrelevant to agenda2030?"
   ]
  },
  {
   "cell_type": "code",
   "execution_count": null,
   "id": "23afc56e-c1cb-4c90-8795-4544e8da05cf",
   "metadata": {},
   "outputs": [],
   "source": [
    "n_irrev_per_capital = analysis.nIrrelevantMetricsPerCapital(results[\"irrelevant_metrics\"])\n",
    "nipc = n_irrev_per_capital.analyze()"
   ]
  },
  {
   "cell_type": "markdown",
   "id": "e3e53b22-eee9-41cc-b81e-6a6616cf2a37",
   "metadata": {},
   "source": [
    "### 4.3) Analysis of raw data availability\n",
    "\n",
    "Goal: Visually represent how many data points are available for each metric. Add additional information such as when that data is available and what capital the metric belongs to. "
   ]
  },
  {
   "cell_type": "code",
   "execution_count": null,
   "id": "92fbf988-1544-4b4d-a115-0fe794ed6ada",
   "metadata": {},
   "outputs": [],
   "source": [
    "raw_data_availability = analysis.RawDataAvailability(results[\"raw\"])\n",
    "rda = raw_data_availability.analyze()"
   ]
  },
  {
   "cell_type": "markdown",
   "id": "e23465f5-b317-4129-ad99-ef7bb94a539d",
   "metadata": {},
   "source": [
    "### 4.4) Correlation Analysis\n",
    "\n",
    "Question: Which metrics are redundant?"
   ]
  },
  {
   "cell_type": "code",
   "execution_count": null,
   "id": "d5e88b9f-5529-4edd-9733-fbef2f12f44d",
   "metadata": {},
   "outputs": [],
   "source": [
    "corr_zero_lag = analysis.CorrleationAnalysis(final_output, lag=0)\n",
    "corr_zero_lag.analyze()"
   ]
  },
  {
   "cell_type": "code",
   "execution_count": null,
   "id": "f27d40aa-18cf-4890-a5a5-2aca20f205de",
   "metadata": {},
   "outputs": [],
   "source": [
    "corr_agg = analysis.CorrleationAnalysis(final_output, lag=-1)\n",
    "corr_agg.analyze()"
   ]
  },
  {
   "cell_type": "markdown",
   "id": "2e1ae2af-5775-4a85-83e3-60c3488912a4",
   "metadata": {},
   "source": [
    "### 4.5) Trend & Performance Analysis\n",
    "\n",
    "#### 4.5.1) Analysis of trend statistics per capital\n",
    "Question: How well do the individual capitals do in terms of evolving in the right direction?"
   ]
  },
  {
   "cell_type": "code",
   "execution_count": null,
   "id": "e983d665-d0fc-496e-b32a-0a194a6974f1",
   "metadata": {},
   "outputs": [],
   "source": [
    "ta = analysis.PerformanceRanker(results[\"raw\"])"
   ]
  },
  {
   "cell_type": "code",
   "execution_count": null,
   "id": "91186ebe-c1b7-41f2-84d8-d9a5d6147d5e",
   "metadata": {},
   "outputs": [],
   "source": [
    "ta.analyze()"
   ]
  },
  {
   "cell_type": "markdown",
   "id": "1a9bd570-e78e-4638-b876-2e5549bae4cd",
   "metadata": {},
   "source": [
    "#### 4.5.2) Best & Worst Performering Metrics\n",
    "##### 4.5.2.a) Best & Worst Performering Metrics over all\n",
    "Question: Which are the 3 best and worst performing metrics over all capitals?"
   ]
  },
  {
   "cell_type": "code",
   "execution_count": null,
   "id": "51fbede4-678b-4ddd-a383-9c952cd0ac96",
   "metadata": {},
   "outputs": [],
   "source": [
    "ta.additional_results[\"top_performers\"][\"overall\"]"
   ]
  },
  {
   "cell_type": "code",
   "execution_count": null,
   "id": "d575c16f-5c85-42d6-b01e-7fc7cc31b421",
   "metadata": {},
   "outputs": [],
   "source": [
    "ta.additional_results[\"bottom_performers\"][\"overall\"]"
   ]
  },
  {
   "cell_type": "markdown",
   "id": "1a5b5fae-718d-450b-85c6-26f676e8e044",
   "metadata": {},
   "source": [
    "##### 4.5.2.a) Best & Worst Performering Metrics per capital\n",
    "Question: Which are the 3 best and worst performing metrics within each capital?"
   ]
  },
  {
   "cell_type": "code",
   "execution_count": null,
   "id": "09404e49-c136-4113-85ee-1b949808d368",
   "metadata": {},
   "outputs": [],
   "source": [
    "aux.pretty_print({cap: ta.additional_results[\"top_performers\"][cap] for cap in ta.capitallist})"
   ]
  },
  {
   "cell_type": "code",
   "execution_count": null,
   "id": "38733543-f968-4934-a44c-02f9bd81fa6f",
   "metadata": {},
   "outputs": [],
   "source": [
    "aux.pretty_print({cap: ta.additional_results[\"bottom_performers\"][cap] for cap in ta.capitallist})"
   ]
  },
  {
   "cell_type": "markdown",
   "id": "11a2a4c3-abdb-4485-8c81-4d6238eb6581",
   "metadata": {},
   "source": [
    "#### 4.5.3) Best & Worst Performing Key Indicators \n",
    "Question: What is the ranking of only the key indicators with respect to their evolution over time?"
   ]
  },
  {
   "cell_type": "code",
   "execution_count": null,
   "id": "57e6a6f1-4b47-4a40-be2d-4cfa2089c420",
   "metadata": {},
   "outputs": [],
   "source": [
    "ta_key = analysis.PerformanceRanker(results[\"raw\"], key_indicators_only=True)\n",
    "ta_key.analyze()"
   ]
  },
  {
   "cell_type": "markdown",
   "id": "476d755f-bb68-4c96-bdf4-110cb8ebf4be",
   "metadata": {},
   "source": [
    "Question: How many key indicators are there among the groups of best and worst performing metrics, respectively?"
   ]
  },
  {
   "cell_type": "code",
   "execution_count": null,
   "id": "5919c9a3-88b4-4602-8f0a-ec59faf4022e",
   "metadata": {},
   "outputs": [],
   "source": []
  }
 ],
 "metadata": {
  "kernelspec": {
   "display_name": "Python 3 (ipykernel)",
   "language": "python",
   "name": "python3"
  },
  "language_info": {
   "codemirror_mode": {
    "name": "ipython",
    "version": 3
   },
   "file_extension": ".py",
   "mimetype": "text/x-python",
   "name": "python",
   "nbconvert_exporter": "python",
   "pygments_lexer": "ipython3",
   "version": "3.13.5"
  }
 },
 "nbformat": 4,
 "nbformat_minor": 5
}
