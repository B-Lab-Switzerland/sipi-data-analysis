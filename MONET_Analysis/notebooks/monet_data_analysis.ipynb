{
 "cells": [
  {
   "cell_type": "markdown",
   "id": "c9b778b8-7a3b-4838-b5d0-069e78bd853b",
   "metadata": {},
   "source": [
    "# MONET2030 - Analysis"
   ]
  },
  {
   "cell_type": "code",
   "execution_count": null,
   "id": "07ec5a19-35ce-4493-a4f9-56895f587a15",
   "metadata": {},
   "outputs": [],
   "source": [
    "# Stdlib imports\n",
    "import re\n",
    "from pathlib import Path\n",
    "from collections import namedtuple\n",
    "\n",
    "# 3rd party imports\n",
    "import pandas as pd\n",
    "import numpy as np\n",
    "import matplotlib.pyplot as plt\n",
    "import seaborn as sns\n",
    "from matplotlib import colormaps as cm\n",
    "\n",
    "# Local imports\n",
    "from pymonet import monet_scraper as scraper\n",
    "from pymonet import monet_processor as processor\n",
    "from pymonet import monet_consts as const\n",
    "from sipi_da_utils import utils, tsa, plot"
   ]
  },
  {
   "cell_type": "markdown",
   "id": "d69ba953-98a8-49b5-8f39-209e934c66e7",
   "metadata": {},
   "source": [
    "## 1) Get Web Data"
   ]
  },
  {
   "cell_type": "code",
   "execution_count": null,
   "id": "9b4fec28-d653-480c-afef-5702610c018c",
   "metadata": {},
   "outputs": [],
   "source": [
    "scraper_pipeline = scraper.MonetLoader()\n",
    "raw_data = await scraper_pipeline.load()"
   ]
  },
  {
   "cell_type": "markdown",
   "id": "79619bb4-9692-4536-81d1-43c960f874e3",
   "metadata": {},
   "source": [
    "## 2) Process/Transform Data"
   ]
  },
  {
   "cell_type": "code",
   "execution_count": null,
   "id": "8b9ff6d5-03d2-4340-b7bc-6c1ebf6459f9",
   "metadata": {},
   "outputs": [],
   "source": [
    "pipeline = processor.TransformationPipeline(raw_data,\n",
    "                                            scraper_pipeline.indicators_metatable,\n",
    "                                            scraper_pipeline.observables_metatable\n",
    "                                           )\n",
    "final_output = pipeline.run()"
   ]
  },
  {
   "cell_type": "markdown",
   "id": "4f236057-91ce-4ffb-9905-1038637f03a1",
   "metadata": {},
   "source": [
    "## 3) Visual inspection"
   ]
  },
  {
   "cell_type": "code",
   "execution_count": null,
   "id": "02eb6ecf-13f6-47ab-8486-fa5b2dfcebdd",
   "metadata": {},
   "outputs": [],
   "source": [
    "figsaxes = pipeline.create_inspection_plots(create='all', write=True)"
   ]
  },
  {
   "cell_type": "markdown",
   "id": "257a8b22-d2b5-4339-8e85-d0badfd92d0a",
   "metadata": {},
   "source": [
    "## 4) Analysis"
   ]
  },
  {
   "cell_type": "markdown",
   "id": "1ef758a8-ad50-45fc-8d9b-2de7dc10e86b",
   "metadata": {},
   "source": [
    "### 4.1) Setup & Preparations"
   ]
  },
  {
   "cell_type": "code",
   "execution_count": null,
   "id": "e692c76e-8443-4af9-ab6a-750e30534cda",
   "metadata": {},
   "outputs": [],
   "source": [
    "metric2capital_map = pipeline.stages[1].additional_results['metric_id2name_map'][[\"metric_id\", \"metric_name\", \"capital - primary\"]].set_index(\"metric_id\")\n",
    "metric2capital_map.head()"
   ]
  },
  {
   "cell_type": "code",
   "execution_count": null,
   "id": "9a283e27-a282-4c91-9e70-d4ef087c0d0e",
   "metadata": {},
   "outputs": [],
   "source": [
    "four_caps = set([c for c in metric2capital_map[\"capital - primary\"]])\n",
    "four_caps"
   ]
  },
  {
   "cell_type": "code",
   "execution_count": null,
   "id": "d6c2ef1e-9e0f-43f3-9ba2-7b3921f37068",
   "metadata": {},
   "outputs": [],
   "source": [
    "monet_data = pipeline.stages[2].output.copy()\n",
    "monet_clean = pipeline.stages[3].output.copy()"
   ]
  },
  {
   "cell_type": "markdown",
   "id": "37f73e41-05c3-424d-b2ce-30698acd9b22",
   "metadata": {},
   "source": [
    "### 4.2) Data Availability & Coverage Analysis"
   ]
  },
  {
   "cell_type": "code",
   "execution_count": null,
   "id": "32ee2688-7671-4bbd-8583-79c0b87f4148",
   "metadata": {},
   "outputs": [],
   "source": [
    "all_metrics = [metric for metric in monet_data.columns]\n",
    "irrelevant_metrics = [metric for metric in pipeline.stages[3].additional_results[\"irrelevant_metrics\"].columns]\n",
    "sparse_metrics = [col_idx.zfill(14) for col_idx, col in monet_data.items() if col.count()<10]\n",
    "kept_metrics = [metric for metric in monet_clean.columns]\n",
    "pruned_metrics = set(all_metrics) - set(kept_metrics)\n",
    "\n",
    "irrelevant_metrics_df = metric2capital_map.loc[metric2capital_map.index.isin(irrelevant_metrics)]\n",
    "sparse_metrics_df = metric2capital_map.loc[metric2capital_map.index.isin(sparse_metrics)]\n",
    "kept_metrics_df = metric2capital_map.loc[metric2capital_map.index.isin(kept_metrics)]\n",
    "pruned_metrics_df = metric2capital_map.loc[metric2capital_map.index.isin(pruned_metrics)]"
   ]
  },
  {
   "cell_type": "markdown",
   "id": "00e76119-721c-49ef-bcb8-b9c330abaeb7",
   "metadata": {},
   "source": [
    "#### 4.2.1) Analysis of capitals\n",
    "\n",
    "Question: How many metrics per capital are there?"
   ]
  },
  {
   "cell_type": "code",
   "execution_count": null,
   "id": "d1ded8c2-31db-449f-bfe9-f346f8e02b95",
   "metadata": {},
   "outputs": [],
   "source": [
    "metrics_meta_table = metric2capital_map[metric2capital_map.index.str.endswith(\"metr\")]"
   ]
  },
  {
   "cell_type": "code",
   "execution_count": null,
   "id": "c88bdda2-4306-44bf-b1bb-20ab51f976d6",
   "metadata": {},
   "outputs": [],
   "source": [
    "n_metrics_per_cap_all = metrics_meta_table.groupby(\"capital - primary\").agg(\"count\")\n",
    "n_metrics_per_cap_cleaned = metrics_meta_table.loc[metrics_meta_table.index.isin(kept_metrics),:].groupby(\"capital - primary\").agg(\"count\")"
   ]
  },
  {
   "cell_type": "code",
   "execution_count": null,
   "id": "63b67a28-3e55-4e37-b40f-a020804dc010",
   "metadata": {},
   "outputs": [],
   "source": [
    "n_metrics_per_cap = n_metrics_per_cap_all\\\n",
    "                    .rename({\"metric_name\": \"before cleaning\"}, axis=1)\\\n",
    "                    .join(n_metrics_per_cap_cleaned.rename({\"metric_name\": \"after cleaning\"}, axis=1))"
   ]
  },
  {
   "cell_type": "code",
   "execution_count": null,
   "id": "4ab4c330-9fda-4b08-91a1-12f4d2714ee1",
   "metadata": {},
   "outputs": [],
   "source": [
    "fig, ax = plt.subplots(figsize=(7,4))\n",
    "n_metrics_per_cap.plot(kind=\"bar\", ax=ax)\n",
    "ax.grid(True)\n",
    "ax.set_title(\"Number of Metrics per Capital\")\n",
    "ax.set_xticks([0,1,2,3], n_metrics_per_cap.index, rotation=0)\n",
    "ax.set_ylabel(\"Count\")\n",
    "plt.show()"
   ]
  },
  {
   "cell_type": "markdown",
   "id": "5a67cc3e-1da3-4878-ad6d-9fb6b6a9c1f8",
   "metadata": {},
   "source": [
    "#### 4.2.2) Analysis of sparse data\n",
    "\n",
    "Question: How many metrics per capital are too sparse (i.e. have less than 10 data points)"
   ]
  },
  {
   "cell_type": "code",
   "execution_count": null,
   "id": "e780b250-4caf-443c-95b5-5af92b137740",
   "metadata": {},
   "outputs": [],
   "source": [
    "sparse_metrics_df = sparse_metrics_df.join(monet_data.count(axis=0)\n",
    "                                           .to_frame()\n",
    "                                           .rename({0: \"count\"}, axis=1),\n",
    "                                           how=\"left\"\n",
    "                                          )\n",
    "sparse_metrics_df = sparse_metrics_df.sort_values(by=\"count\", ascending=False)\n",
    "sparse_metrics_df.to_csv(const.sparse_metrics_analysis_fpath) \n",
    "sparse_metrics_df.head()"
   ]
  },
  {
   "cell_type": "code",
   "execution_count": null,
   "id": "f9e7c722-08d2-4f5e-83f6-e8f574cb61a5",
   "metadata": {},
   "outputs": [],
   "source": [
    "sparse_metrics_per_capital = sparse_metrics_df.groupby(\"capital - primary\").agg({\"count\": \"count\"})\n",
    "\n",
    "fig, ax = plt.subplots(figsize=(8,3))\n",
    "sparse_metrics_per_capital.plot(kind=\"bar\", ax=ax, legend=False)\n",
    "ax.grid(True)\n",
    "ax.set_xlabel(\"capital\")\n",
    "ax.set_ylabel(\"count\")\n",
    "ax.set_title(\"Number of removed metrics per capital due to insufficient data availability\")\n",
    "plt.xticks(rotation=0)\n",
    "plt.tight_layout()\n",
    "fig.savefig(const.n_sparse_by_capital_plot_fpath)\n",
    "plt.show()"
   ]
  },
  {
   "cell_type": "markdown",
   "id": "66244a78-38ef-4aa0-9d2c-5466465b6f99",
   "metadata": {},
   "source": [
    "#### 4.2.3) Analysis of irrelevant data\n",
    "\n",
    "Question: How many metrics per capital are irrelevant to agenda2030?"
   ]
  },
  {
   "cell_type": "code",
   "execution_count": null,
   "id": "aee1bb9b-06bc-4de8-8199-210838d10c0d",
   "metadata": {},
   "outputs": [],
   "source": [
    "irrelevant_metrics_df = irrelevant_metrics_df.join(monet_data.count(axis=0)\n",
    "                                                   .to_frame()\n",
    "                                                   .rename({0: \"count\"}, axis=1),\n",
    "                                                   how=\"left\"\n",
    "                                                  )\n",
    "irrelevant_metrics_df = irrelevant_metrics_df.sort_values(by=\"count\", ascending=False)\n",
    "irrelevant_metrics_df.to_csv(const.irrelevant_metrics_analysis_fpath)\n",
    "irrelevant_metrics_df.head()"
   ]
  },
  {
   "cell_type": "code",
   "execution_count": null,
   "id": "b57338cc-6492-4a5b-97e8-b8046c4ad455",
   "metadata": {},
   "outputs": [],
   "source": [
    "irrelevant_metrics_per_capital = irrelevant_metrics_df.groupby(\"capital - primary\").agg({\"count\": \"count\"})\n",
    "\n",
    "fig, ax = plt.subplots(figsize=(8,3))\n",
    "irrelevant_metrics_per_capital.plot(kind=\"bar\", ax=ax, legend=False)\n",
    "ax.grid(True)\n",
    "ax.set_xlabel(\"capital\")\n",
    "ax.set_ylabel(\"count\")\n",
    "ax.set_title(\"Number of metrics irrelevant to agenda2030 (per capital)\")\n",
    "plt.xticks(rotation=0)\n",
    "plt.tight_layout()\n",
    "fig.savefig(const.n_irrelevant_by_capital_plot_fpath)\n",
    "plt.show()"
   ]
  },
  {
   "cell_type": "markdown",
   "id": "e3e53b22-eee9-41cc-b81e-6a6616cf2a37",
   "metadata": {},
   "source": [
    "### 4.3) Analysis of raw data availability\n",
    "\n",
    "Goal: Visually represent how many data points are available for each metric. Add additional information such as when that data is available and what capital the metric belongs to. "
   ]
  },
  {
   "cell_type": "code",
   "execution_count": null,
   "id": "92fbf988-1544-4b4d-a115-0fe794ed6ada",
   "metadata": {},
   "outputs": [],
   "source": [
    "datapoint_counts = monet_data.count()\\\n",
    "                             .sort_values(ascending=False)\\\n",
    "                             .to_frame()\\\n",
    "                             .rename({0: \"count\"}, axis=1)\n",
    "metric_availability = datapoint_counts.join(metric2capital_map)\n",
    "metric_availability = metric_availability.dropna(subset=[\"capital - primary\"])"
   ]
  },
  {
   "cell_type": "code",
   "execution_count": null,
   "id": "21c83313-2740-4bbe-87a8-f338f372b6bc",
   "metadata": {},
   "outputs": [],
   "source": [
    "fig, ax = plt.subplots(figsize=(17,30))\n",
    "plot.raw_data_availability_barchart(metric_availability,\n",
    "                                    \"counts\",\n",
    "                                    \"Metric Name\",\n",
    "                                    \"Number of measured data points per metric\",\n",
    "                                    ax=ax)\n",
    "plt.tight_layout()\n",
    "plt.show()"
   ]
  },
  {
   "cell_type": "code",
   "execution_count": null,
   "id": "876a5fca-5452-46c3-8494-6216381dbe0a",
   "metadata": {},
   "outputs": [],
   "source": [
    "monet_trp = monet_data.transpose()\n",
    "monet_trp = monet_trp.loc[:,~monet_trp.columns.duplicated()].copy()\n",
    "\n",
    "# Get existing years from column index (assumed datetime index)\n",
    "existing_years = [col for col in monet_trp.columns]\n",
    "full_year_range = list(range(min(existing_years), max(existing_years) + 1))\n",
    "\n",
    "# Identify missing years\n",
    "missing_years = [y for y in full_year_range if y not in existing_years]\n",
    "\n",
    "# Add missing columns with white color\n",
    "for year in missing_years:\n",
    "    monet_trp[year] = np.nan * len(monet_trp)\n",
    "\n",
    "# Reorder columns chronologically\n",
    "monet_trp = monet_trp.reindex(sorted(monet_trp.columns), axis=1)\n",
    "\n",
    "monet_trp[\"capital\"] = metric2capital_map.loc[monet_trp.index, \"capital - primary\"]"
   ]
  },
  {
   "cell_type": "code",
   "execution_count": null,
   "id": "fc72ff38-60c7-4234-bdd3-240682bd6747",
   "metadata": {},
   "outputs": [],
   "source": [
    "df_plot = monet_trp.loc[metric_availability.index,:]\n",
    "\n",
    "fig,axs=plt.subplots(1,2, figsize=(17,30), sharey=True, gridspec_kw = {\"wspace\": 0.01})\n",
    "# Left plot panel\n",
    "plot.visualize_data_availability_colored(df_plot,\n",
    "                                         \"Year\",\n",
    "                                         \"Metric Name\",\n",
    "                                         \"MONET2030 metric data availability across time\",\n",
    "                                         ax=axs[0]\n",
    "                                        )\n",
    "\n",
    "# Right plot panel\n",
    "plot.raw_data_availability_barchart(metric_availability,\n",
    "                                    \"Number of measured data points per metric\",\n",
    "                                    \"Metric Name\",\n",
    "                                    \"Number of measured data points per metric\",\n",
    "                                    ax=axs[1],\n",
    "                                    show_legend=False\n",
    "                                    )\n",
    "plt.tight_layout()\n",
    "fig.suptitle(\"Data availability\", y=0.9, fontsize=18)\n",
    "fig.savefig(const.data_availability_dir / \"data_availability_all.pdf\", bbox_inches=\"tight\")\n",
    "plt.show()"
   ]
  },
  {
   "cell_type": "markdown",
   "id": "e23465f5-b317-4129-ad99-ef7bb94a539d",
   "metadata": {},
   "source": [
    "### 4.4) Correlation Analysis\n",
    "\n",
    "Question: Which metrics are redundant?"
   ]
  },
  {
   "cell_type": "code",
   "execution_count": null,
   "id": "d5e88b9f-5529-4edd-9733-fbef2f12f44d",
   "metadata": {},
   "outputs": [],
   "source": [
    "monet_ca = utils.CorrelationAnalysis(final_output)\n",
    "zero_lag_corrmat = monet_ca.cross_corr(lag=0)\n",
    "agg_corrmat = monet_ca.max_abs_corr()"
   ]
  },
  {
   "cell_type": "code",
   "execution_count": null,
   "id": "48fa29d5-3904-4929-8453-a3b69320cb9b",
   "metadata": {},
   "outputs": [],
   "source": [
    "for th in [0.8, 0.85, 0.9, 0.95, 0.99]:\n",
    "    monochronic_fpath = const.corra_dir/f\"keep_monochron_corr_th{str(int(th*100))}.xlsx\"\n",
    "    diachronic_fpath = const.corra_dir/f\"keep_diachron_corr_th{str(int(th*100))}.xlsx\"\n",
    "    \n",
    "    to_keep_zero_lag, corr_xlsx_zero_lag = monet_ca.drop_strong_correlations(zero_lag_corrmat, \n",
    "                                                                             threshold=th, \n",
    "                                                                             id2name_map = metric2capital_map,\n",
    "                                                                             fpath_corr=monochronic_fpath)\n",
    "    \n",
    "    to_keep_agg, corr_xlsx_agg = monet_ca.drop_strong_correlations(agg_corrmat,\n",
    "                                                                   threshold=th, \n",
    "                                                                   id2name_map = metric2capital_map,\n",
    "                                                                   fpath_corr = diachronic_fpath)"
   ]
  },
  {
   "cell_type": "code",
   "execution_count": null,
   "id": "6626a2d7-9f75-4309-a97c-8f214b514fd8",
   "metadata": {},
   "outputs": [],
   "source": [
    "th_vec = [th/100 for th in range(80,100,2)]+[0.99, 0.999]\n",
    "\n",
    "counts = pd.DataFrame(index=[\"Social\", \"Human\", \"Natural\", \"Economic\"], columns=[])\n",
    "\n",
    "for th in th_vec:\n",
    "    to_keep, _ = monet_ca.drop_strong_correlations(agg_corrmat, threshold=th)\n",
    "    counts_per_cap = metric2capital_map[metric2capital_map.index.isin(to_keep)].groupby(\"capital - primary\").agg(\"count\")\n",
    "    counts = counts.join(counts_per_cap.rename({\"metric_name\": th}, axis=1), how=\"outer\")\n",
    "    \n",
    "counts.loc[\"Total\", :] = counts.sum()\n",
    "counts"
   ]
  },
  {
   "cell_type": "code",
   "execution_count": null,
   "id": "eee8356d-e8dd-4b1d-99dd-be83ac7a3cae",
   "metadata": {},
   "outputs": [],
   "source": [
    "fig, ax = plt.subplots(figsize=(10,4))\n",
    "counts.T.plot(kind=\"line\", ax=ax)\n",
    "ax.set_xticks(th_vec, th_vec, rotation=60)\n",
    "ax.set_yticks(range(1,42,2), range(1,42,2))\n",
    "ax.set_xlabel(\"correlation threshold\")\n",
    "ax.set_ylabel(\"Number of non-redundant metrics\")\n",
    "ax.set_title(\"Counting non-redundant metrics in dependency of\\ncorrelation threshold\")\n",
    "ax.grid()\n",
    "plt.tight_layout()\n",
    "fig.savefig(const.corra_dir / \"n_nonredundant_per_threshold.pdf\", bbox_inches=\"tight\")"
   ]
  },
  {
   "cell_type": "raw",
   "id": "3bb07418-5331-4e79-8054-74adb9e27967",
   "metadata": {},
   "source": [
    "metric2capital_map[metric2capital_map.index.isin(to_keep_agg)]"
   ]
  },
  {
   "cell_type": "code",
   "execution_count": null,
   "id": "b5300402-973e-48f7-a3b2-e267e4c0fa59",
   "metadata": {},
   "outputs": [],
   "source": [
    "metric2capital_map[metric2capital_map.index.isin(to_keep_agg)].groupby(\"capital - primary\").agg(\"count\")"
   ]
  },
  {
   "cell_type": "code",
   "execution_count": null,
   "id": "d67444d1-0952-4ff5-bb24-7dd89015afad",
   "metadata": {},
   "outputs": [],
   "source": [
    "fig, axs = plt.subplots(1,2, figsize=(10,4))\n",
    "ax = axs[0]\n",
    "sns.histplot(zero_lag_corrmat.unstack().values, ax=ax, kde=True, bins=40)\n",
    "ax.set_title(\"Distribution of correlation values\")\n",
    "ax.set_xlabel(\"corr\")\n",
    "\n",
    "ax = axs[1]\n",
    "sns.histplot(zero_lag_corrmat.unstack().abs().values, ax=ax, bins=20)\n",
    "ax.set_title(\"Distribution of abs(correlation) values\")\n",
    "ax.set_xlabel(\"abs(corr)\")\n",
    "plt.tight_layout()\n",
    "plt.show()"
   ]
  },
  {
   "cell_type": "code",
   "execution_count": null,
   "id": "72c7f547-2754-4651-8b0c-9d8dcce5e4ea",
   "metadata": {},
   "outputs": [],
   "source": [
    "fig, axs = plt.subplots(1,2, figsize=(10,4))\n",
    "ax = axs[0]\n",
    "sns.histplot(agg_corrmat.unstack().values, ax=ax, kde=True, bins=40)\n",
    "ax.set_title(\"Distribution of correlation values\")\n",
    "ax.set_xlabel(\"corr\")\n",
    "\n",
    "ax = axs[1]\n",
    "sns.histplot(agg_corrmat.unstack().abs().values, ax=ax, bins=20)\n",
    "ax.set_title(\"Distribution of abs(correlation) values\")\n",
    "ax.set_xlabel(\"abs(corr)\")\n",
    "plt.tight_layout()\n",
    "plt.show()"
   ]
  },
  {
   "cell_type": "markdown",
   "id": "2e1ae2af-5775-4a85-83e3-60c3488912a4",
   "metadata": {},
   "source": [
    "### 4.5) Trend & Performance Analysis\n",
    "\n",
    "#### 4.5.1) Analysis of trend statistics per capital\n",
    "Question: How well do the individual capitals do in terms of evolving in the right direction?"
   ]
  },
  {
   "cell_type": "code",
   "execution_count": null,
   "id": "95f50837-dba6-488d-86ff-da505675bd8e",
   "metadata": {},
   "outputs": [],
   "source": [
    "# Get a table with all metrics including their name and desired_trend and \n",
    "# prepare two columns for slope information: slope and slope_norm\n",
    "directions = pd.read_csv(const.trend_directions).set_index(\"metric_id\")\n",
    "directions[\"dam_id\"] = [int(metr_id.split(\"_\")[0][:-1]) for metr_id in directions.index]\n",
    "directions_with_names = directions.join(metric2capital_map[[\"metric_name\"]])\n",
    "\n",
    "performer_ranking = directions_with_names.copy()\n",
    "performer_ranking[[\"slope\", \"slope_norm\"]] = None\n",
    "performer_ranking.head()"
   ]
  },
  {
   "cell_type": "code",
   "execution_count": null,
   "id": "a37826fd-2f33-4b4f-8234-a8ae8a588f8c",
   "metadata": {},
   "outputs": [],
   "source": [
    "# Fill in the slope and slope_norm columns\n",
    "\n",
    "# REMARK: slope_norm is introduced the put all metrics\n",
    "# on a common scale. Depending on the desired_trend, for\n",
    "# some metrics a higher (i.e. more positive) slope is \n",
    "# better, for other metrics a lower (i.e. more negative)\n",
    "# slope is better. The column slope_norm simplifies this\n",
    "# as a higher (more positive) slope_norm is always better.\n",
    "\n",
    "for mid in performer_ranking.index:\n",
    "    data = monet_data[mid].dropna()\n",
    "    x = [year for year in data.keys()]\n",
    "    y_norm = data.values/data.values[0]\n",
    "    slope = np.polyfit(x,y_norm,1)[0]\n",
    "    performer_ranking.loc[mid, \"slope\"] = slope\n",
    "        \n",
    "    if performer_ranking.loc[mid, \"desired_trend\"]==\"up\":\n",
    "        performer_ranking.loc[mid, \"slope_norm\"] = performer_ranking.loc[mid, \"slope\"]\n",
    "    elif performer_ranking.loc[mid, \"desired_trend\"]==\"down\":\n",
    "        performer_ranking.loc[mid, \"slope_norm\"] = -performer_ranking.loc[mid, \"slope\"]\n",
    "    else:\n",
    "        performer_ranking.loc[mid, \"slope_norm\"] = np.nan\n",
    "    \n",
    "performer_ranking = performer_ranking.join(metric2capital_map[[\"capital - primary\"]])\n",
    "performer_ranking = performer_ranking.dropna(subset=\"slope_norm\").sort_values(by=\"slope_norm\", ascending=False)\n",
    "performer_ranking"
   ]
  },
  {
   "cell_type": "code",
   "execution_count": null,
   "id": "de7dc38f-c04e-43cd-b46e-154c4c1a8607",
   "metadata": {},
   "outputs": [],
   "source": [
    "# Get summary statistics about the slope_norm\n",
    "slope_norm_stats = performer_ranking.groupby(\"capital - primary\").agg({\"slope_norm\": [\"mean\", \"median\", \"std\"]})\n",
    "slope_norm_stats.to_csv(const.slope_stats_fpath)\n",
    "slope_norm_stats"
   ]
  },
  {
   "cell_type": "code",
   "execution_count": null,
   "id": "421f21a8-45eb-43da-94ed-fe5723ce5a78",
   "metadata": {},
   "outputs": [],
   "source": [
    "fig, ax = plt.subplots(figsize=(10,3))\n",
    "sns.boxplot(data=performer_ranking, x=\"capital - primary\", y=\"slope_norm\", ax=ax)\n",
    "ax.scatter([2],[-0.045], marker=\"v\", color=\"red\", label=\"direction of single extreme outlier\")\n",
    "ax.legend(loc=\"upper right\")\n",
    "ax.grid(True)\n",
    "ax.set_ylim([-0.05,0.3])\n",
    "ax.set_title(\"Distribution of normalized slopes per capital\")\n",
    "fig.savefig(const.slope_distro_plot_fpath)\n",
    "plt.show()"
   ]
  },
  {
   "cell_type": "markdown",
   "id": "2c6527af-879b-4eab-82cb-a7933f39550f",
   "metadata": {},
   "source": [
    "#### 4.5.2) Best & Worst Performering Metrics\n",
    "##### 4.5.2.a) Best & Worst Performering Metrics over all\n",
    "Question: Which are the 3 best and worst performing metrics over all capitals?"
   ]
  },
  {
   "cell_type": "code",
   "execution_count": null,
   "id": "6bb2e0d6-e3b9-46ee-bff7-c313bac0b0b5",
   "metadata": {},
   "outputs": [],
   "source": [
    "ranked_metatable = performer_ranking.reset_index()\\\n",
    "                                    .merge(scraper_pipeline.metatable.drop([\"observable\", \n",
    "                                                                            \"description\", \n",
    "                                                                            \"capital - primary\", \n",
    "                                                                            \"data_file_url\", \n",
    "                                                                            \"hyperlink\", \n",
    "                                                                            \"units\", \n",
    "                                                                            \"id\"\n",
    "                                                                           ], axis=1),\n",
    "                                           on=\"dam_id\"\n",
    "                                          )\n",
    "ranked_metatable = ranked_metatable[[\"metric_id\", \n",
    "                                     \"metric_name\", \n",
    "                                     \"capital - primary\", \n",
    "                                     \"sdg\", \n",
    "                                     \"topic\", \n",
    "                                     \"indicator_id\",\n",
    "                                     \"observable\", \n",
    "                                     \"description\",\n",
    "                                     \"is_key\",\n",
    "                                     \"slope_norm\",\n",
    "                                     \"desired_trend\",\n",
    "                                     \"slope\"\n",
    "                                    ]].set_index(\"metric_id\")\n",
    "ranked_metatable"
   ]
  },
  {
   "cell_type": "code",
   "execution_count": null,
   "id": "e1843825-c3c3-48fe-9267-8a41bb4cda06",
   "metadata": {},
   "outputs": [],
   "source": [
    "df = ranked_metatable\n",
    "fig, ax = plt.subplots(figsize=(15,30))\n",
    "# Reset index for plotting\n",
    "df_plot = df.reset_index()\n",
    "# Use a numeric x axis to avoid categorical spacing issues\n",
    "df_plot[\"y_pos\"] = range(len(df_plot))\n",
    "    \n",
    "# Plot bars\n",
    "sns.barplot(\n",
    "    data=df_plot,\n",
    "    x=\"slope_norm\", y=\"y_pos\", hue=\"capital - primary\",\n",
    "    dodge=False,  # Keep all hues at the same x-position\n",
    "    orient=\"horizontal\",\n",
    "    ax=ax,\n",
    "    legend=True\n",
    ")\n",
    "\n",
    "# Optional: show fewer x-ticks\n",
    "yticks = df_plot[\"y_pos\"]\n",
    "ylabels = df_plot[\"metric_name\"]\n",
    "ax.set_yticks(yticks)\n",
    "ax.set_yticklabels(ylabels, fontsize=8)\n",
    "\n",
    "# Labels and title\n",
    "ax.set_xlabel(\"normalized slope (higher = better)\")\n",
    "ax.set_ylabel(\"metric names\")\n",
    "ax.set_title(\"Ranking of evolution over time of MONET2030 metrics\")\n",
    "ax.grid(True)\n",
    "\n",
    "plt.tight_layout()\n",
    "fig.savefig(const.performance_ranking_plot_fpath)\n",
    "plt.show()"
   ]
  },
  {
   "cell_type": "code",
   "execution_count": null,
   "id": "2ca7ef36-ee78-45ac-a9a0-9f98eb055757",
   "metadata": {},
   "outputs": [],
   "source": [
    "columns = [\"metric_name\", \n",
    "           \"capital - primary\", \n",
    "           \"sdg\", \n",
    "           \"topic\", \n",
    "           \"indicator_id\", \n",
    "           \"observable\", \n",
    "           \"description\", \n",
    "           \"is_key\", \n",
    "           \"slope\", \n",
    "           \"slope_norm\", \n",
    "           \"desired_trend\"]"
   ]
  },
  {
   "cell_type": "code",
   "execution_count": null,
   "id": "2898cb8d-f798-45e7-972d-a811c852b4b7",
   "metadata": {},
   "outputs": [],
   "source": [
    "top3 = ranked_metatable.sort_values(by=\"slope_norm\", ascending=False).head(3)\n",
    "top3 = top3[columns]\n",
    "top3.to_excel(const.top3_metrics_fpath)\n",
    "top3"
   ]
  },
  {
   "cell_type": "code",
   "execution_count": null,
   "id": "f4db80a3-7ce1-4fa0-b2b9-5a38c35a3ed6",
   "metadata": {},
   "outputs": [],
   "source": [
    "bottom3 = ranked_metatable.sort_values(by=\"slope_norm\", ascending=False).tail(3)\n",
    "bottom3 = bottom3[columns]\n",
    "bottom3.to_excel(const.bottom3_metrics_fpath)\n",
    "bottom3"
   ]
  },
  {
   "cell_type": "markdown",
   "id": "1a5b5fae-718d-450b-85c6-26f676e8e044",
   "metadata": {},
   "source": [
    "##### 4.5.2.a) Best & Worst Performering Metrics per capital\n",
    "Question: Which are the 3 best and worst performing metrics within each capital?"
   ]
  },
  {
   "cell_type": "code",
   "execution_count": null,
   "id": "2ad48abb-7f10-4d9b-99d5-6ce648425a8b",
   "metadata": {},
   "outputs": [],
   "source": [
    "print(\"TOP 3 PERFORMERS PER CAPITAL\")\n",
    "print(\"============================\")\n",
    "n_top_key = 0\n",
    "n_top_tot = 0\n",
    "with pd.ExcelWriter(const.top3_metrics_per_cap_fpath) as writer:\n",
    "    for cap in four_caps:\n",
    "        print(cap)\n",
    "        print(len(cap)*\"-\")\n",
    "        perf_cap = ranked_metatable[ranked_metatable[\"capital - primary\"]==cap][columns]\n",
    "        top3 = perf_cap.head(3)\n",
    "        n_top_key += top3[\"is_key\"].sum()\n",
    "        n_top_tot += top3[\"is_key\"].count()\n",
    "        display(top3)\n",
    "        top3.to_excel(writer, sheet_name=cap)"
   ]
  },
  {
   "cell_type": "code",
   "execution_count": null,
   "id": "90f83652-2d8b-4cae-b45a-5032136a48fd",
   "metadata": {},
   "outputs": [],
   "source": [
    "print(\"BOTTOM 3 PERFORMERS PER CAPITAL\")\n",
    "print(\"============================\")\n",
    "#columns = [\"metric_name\", \"indicator_id\", \"sdg\", \"observable\", \"description\", \"capital - primary\", \"is_key\", \"slope\", \"slope_norm\", \"desired_trend\"]\n",
    "\n",
    "n_bottom_key = 0\n",
    "n_bottom_tot = 0\n",
    "with pd.ExcelWriter(const.bottom3_metrics_per_cap_fpath) as writer:\n",
    "    for cap in four_caps:\n",
    "        print(cap)\n",
    "        print(len(cap)*\"-\")\n",
    "        perf_cap = ranked_metatable[ranked_metatable[\"capital - primary\"]==cap][columns]\n",
    "        bottom3 = perf_cap.tail(3)\n",
    "        display(bottom3)\n",
    "        n_bottom_key += bottom3[\"is_key\"].sum()\n",
    "        n_bottom_tot += bottom3[\"is_key\"].count()\n",
    "        bottom3.to_excel(writer, sheet_name=cap)"
   ]
  },
  {
   "cell_type": "markdown",
   "id": "11a2a4c3-abdb-4485-8c81-4d6238eb6581",
   "metadata": {},
   "source": [
    "#### 4.5.3) Best & Worst Performing Key Indicators \n",
    "Question: How many key indicators are there among the groups of best and worst performing metrics, respectively?"
   ]
  },
  {
   "cell_type": "code",
   "execution_count": null,
   "id": "d22b7a21-6f78-4a58-970f-c6733a9241ba",
   "metadata": {},
   "outputs": [],
   "source": [
    "xs = np.array([1,2])\n",
    "n_key = np.array([n_top_key, n_bottom_key])\n",
    "n_tot = np.array([n_top_tot, n_bottom_tot])\n",
    "\n",
    "fig, ax = plt.subplots()\n",
    "ax.bar([1,2], n_key, facecolor=\"blue\", label=\"key indicators\")\n",
    "ax.set_xticks([1,2], [\"best-performing\", \"worst-performing\"])\n",
    "ax.grid(True)\n",
    "ax.set_title(\"Number of key indicators within best- & worst-performing indicators\\n(summed over all capitals)\")\n",
    "fig.savefig(const.n_key_indicators_per_performance_plot_fpath)\n",
    "plt.show()"
   ]
  },
  {
   "cell_type": "markdown",
   "id": "28cf4751-53e8-4f14-8cb8-83e9ccc829e1",
   "metadata": {},
   "source": [
    "Question: What is the ranking of only the key indicators with respect to their evolution over time?"
   ]
  },
  {
   "cell_type": "code",
   "execution_count": null,
   "id": "51fb7d4a-256d-4f9c-87c8-f39c36f3ef21",
   "metadata": {},
   "outputs": [],
   "source": [
    "key_ind_trend = scraper_pipeline.key_indicators_df.merge(ranked_metatable, left_on=\"id\", right_on=\"indicator_id\", how=\"left\")[[\"id\", \"indicator\", \"capital - primary\", \"slope_norm\"]]\n",
    "key_ind_trend = key_ind_trend.sort_values(by=\"slope_norm\", ascending=False).dropna(subset=\"slope_norm\")\n",
    "key_ind_trend[\"rank\"] = range(1, len(key_ind_trend)+1)\n",
    "key_ind_trend.to_excel(const.key_indicator_performance_fpath)\n",
    "key_ind_trend"
   ]
  },
  {
   "cell_type": "code",
   "execution_count": null,
   "id": "bdc60f2a-eb31-461e-abb0-267364113d4a",
   "metadata": {},
   "outputs": [],
   "source": []
  }
 ],
 "metadata": {
  "kernelspec": {
   "display_name": "Python 3 (ipykernel)",
   "language": "python",
   "name": "python3"
  },
  "language_info": {
   "codemirror_mode": {
    "name": "ipython",
    "version": 3
   },
   "file_extension": ".py",
   "mimetype": "text/x-python",
   "name": "python",
   "nbconvert_exporter": "python",
   "pygments_lexer": "ipython3",
   "version": "3.13.5"
  }
 },
 "nbformat": 4,
 "nbformat_minor": 5
}
