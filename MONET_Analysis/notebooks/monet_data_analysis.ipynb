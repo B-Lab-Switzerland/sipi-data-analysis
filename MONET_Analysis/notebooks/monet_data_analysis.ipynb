{
 "cells": [
  {
   "cell_type": "markdown",
   "id": "c9b778b8-7a3b-4838-b5d0-069e78bd853b",
   "metadata": {},
   "source": [
    "# MONET2030 - Analysis"
   ]
  },
  {
   "cell_type": "code",
   "execution_count": null,
   "id": "07ec5a19-35ce-4493-a4f9-56895f587a15",
   "metadata": {},
   "outputs": [],
   "source": [
    "# Stdlib imports\n",
    "import re\n",
    "from pathlib import Path\n",
    "from collections import namedtuple\n",
    "\n",
    "# 3rd party imports\n",
    "import pandas as pd\n",
    "import numpy as np\n",
    "import matplotlib.pyplot as plt\n",
    "import seaborn as sns\n",
    "from matplotlib import colormaps as cm\n",
    "\n",
    "# Local imports\n",
    "from pymonet import monet_scraper as scraper\n",
    "from pymonet import monet_processor as processor\n",
    "from pymonet import monet_consts as const\n",
    "from sipi_da_utils import utils, tsa, plot"
   ]
  },
  {
   "cell_type": "markdown",
   "id": "d69ba953-98a8-49b5-8f39-209e934c66e7",
   "metadata": {},
   "source": [
    "## 1) Get Web Data"
   ]
  },
  {
   "cell_type": "code",
   "execution_count": null,
   "id": "9b4fec28-d653-480c-afef-5702610c018c",
   "metadata": {},
   "outputs": [],
   "source": [
    "scraper_pipeline = scraper.MonetLoader()\n",
    "raw_data = await scraper_pipeline.load()"
   ]
  },
  {
   "cell_type": "markdown",
   "id": "79619bb4-9692-4536-81d1-43c960f874e3",
   "metadata": {},
   "source": [
    "## 2) Process/Transform Data"
   ]
  },
  {
   "cell_type": "code",
   "execution_count": null,
   "id": "8b9ff6d5-03d2-4340-b7bc-6c1ebf6459f9",
   "metadata": {},
   "outputs": [],
   "source": [
    "pipeline = processor.TransformationPipeline(raw_data,\n",
    "                                            scraper_pipeline.indicators_metatable,\n",
    "                                            scraper_pipeline.observables_metatable\n",
    "                                           )\n",
    "final_output = pipeline.run()"
   ]
  },
  {
   "cell_type": "markdown",
   "id": "4f236057-91ce-4ffb-9905-1038637f03a1",
   "metadata": {},
   "source": [
    "## 3) Visual inspection"
   ]
  },
  {
   "cell_type": "code",
   "execution_count": null,
   "id": "02eb6ecf-13f6-47ab-8486-fa5b2dfcebdd",
   "metadata": {},
   "outputs": [],
   "source": [
    "figsaxes = pipeline.create_inspection_plots(create='all', write=True)"
   ]
  },
  {
   "cell_type": "markdown",
   "id": "257a8b22-d2b5-4339-8e85-d0badfd92d0a",
   "metadata": {},
   "source": [
    "## 4) Analysis"
   ]
  },
  {
   "cell_type": "markdown",
   "id": "1ef758a8-ad50-45fc-8d9b-2de7dc10e86b",
   "metadata": {},
   "source": [
    "### 4.1) Setup & Preparations"
   ]
  },
  {
   "cell_type": "code",
   "execution_count": null,
   "id": "e692c76e-8443-4af9-ab6a-750e30534cda",
   "metadata": {},
   "outputs": [],
   "source": [
    "metrics_metatable = pipeline.stages[1].additional_results['metrics_metatable']\n",
    "metrics_metatable.head()"
   ]
  },
  {
   "cell_type": "code",
   "execution_count": null,
   "id": "d6c2ef1e-9e0f-43f3-9ba2-7b3921f37068",
   "metadata": {},
   "outputs": [],
   "source": [
    "monet_data = pipeline.stages[2].output.copy()\n",
    "monet_clean = pipeline.stages[3].output.copy()"
   ]
  },
  {
   "cell_type": "markdown",
   "id": "37f73e41-05c3-424d-b2ce-30698acd9b22",
   "metadata": {},
   "source": [
    "### 4.2) Data Availability & Coverage Analysis"
   ]
  },
  {
   "cell_type": "code",
   "execution_count": null,
   "id": "32ee2688-7671-4bbd-8583-79c0b87f4148",
   "metadata": {},
   "outputs": [],
   "source": [
    "all_metrics = [metric for metric in monet_data.columns]\n",
    "irrelevant_metrics = [metric for metric in pipeline.stages[3].additional_results[\"irrelevant_metrics\"].columns]\n",
    "sparse_metrics = [col_idx.zfill(14) for col_idx, col in monet_data.items() if col.count()<10]\n",
    "kept_metrics = [metric for metric in monet_clean.columns]\n",
    "pruned_metrics = set(all_metrics) - set(kept_metrics)\n",
    "\n",
    "irrelevant_metrics_df = metric2capital_map.loc[metric2capital_map.index.isin(irrelevant_metrics)]\n",
    "sparse_metrics_df = metric2capital_map.loc[metric2capital_map.index.isin(sparse_metrics)]\n",
    "kept_metrics_df = metric2capital_map.loc[metric2capital_map.index.isin(kept_metrics)]\n",
    "pruned_metrics_df = metric2capital_map.loc[metric2capital_map.index.isin(pruned_metrics)]"
   ]
  },
  {
   "cell_type": "markdown",
   "id": "5a67cc3e-1da3-4878-ad6d-9fb6b6a9c1f8",
   "metadata": {},
   "source": [
    "#### 4.2.1) Analysis of sparse data\n",
    "\n",
    "Question: How many metrics per capital are too sparse (i.e. have less than 10 data points)"
   ]
  },
  {
   "cell_type": "code",
   "execution_count": null,
   "id": "e780b250-4caf-443c-95b5-5af92b137740",
   "metadata": {},
   "outputs": [],
   "source": [
    "sparse_metrics_df = sparse_metrics_df.join(monet_data.count(axis=0)\n",
    "                                           .to_frame()\n",
    "                                           .rename({0: \"count\"}, axis=1),\n",
    "                                           how=\"left\"\n",
    "                                          )\n",
    "sparse_metrics_df = sparse_metrics_df.sort_values(by=\"count\", ascending=False)\n",
    "sparse_metrics_df.to_csv(const.sparse_metrics_analysis_fpath) \n",
    "sparse_metrics_df.head()"
   ]
  },
  {
   "cell_type": "code",
   "execution_count": null,
   "id": "f9e7c722-08d2-4f5e-83f6-e8f574cb61a5",
   "metadata": {},
   "outputs": [],
   "source": [
    "sparse_metrics_per_capital = sparse_metrics_df.groupby(\"capital - primary\").agg({\"count\": \"count\"})\n",
    "\n",
    "fig, ax = plt.subplots(figsize=(8,3))\n",
    "sparse_metrics_per_capital.plot(kind=\"bar\", ax=ax, legend=False)\n",
    "ax.grid(True)\n",
    "ax.set_xlabel(\"capital\")\n",
    "ax.set_ylabel(\"count\")\n",
    "ax.set_title(\"Number of removed metrics per capital due to insufficient data availability\")\n",
    "plt.xticks(rotation=0)\n",
    "plt.tight_layout()\n",
    "fig.savefig(const.n_sparse_by_capital_plot_fpath)\n",
    "plt.show()"
   ]
  },
  {
   "cell_type": "markdown",
   "id": "66244a78-38ef-4aa0-9d2c-5466465b6f99",
   "metadata": {},
   "source": [
    "#### 4.2.2) Analysis of irrelevant data\n",
    "\n",
    "Question: How many metrics per capital are irrelevant to agenda2030?"
   ]
  },
  {
   "cell_type": "code",
   "execution_count": null,
   "id": "aee1bb9b-06bc-4de8-8199-210838d10c0d",
   "metadata": {},
   "outputs": [],
   "source": [
    "irrelevant_metrics_df = irrelevant_metrics_df.join(monet_data.count(axis=0)\n",
    "                                                   .to_frame()\n",
    "                                                   .rename({0: \"count\"}, axis=1),\n",
    "                                                   how=\"left\"\n",
    "                                                  )\n",
    "irrelevant_metrics_df = irrelevant_metrics_df.sort_values(by=\"count\", ascending=False)\n",
    "irrelevant_metrics_df.to_csv(const.irrelevant_metrics_analysis_fpath)\n",
    "irrelevant_metrics_df.head()"
   ]
  },
  {
   "cell_type": "code",
   "execution_count": null,
   "id": "b57338cc-6492-4a5b-97e8-b8046c4ad455",
   "metadata": {},
   "outputs": [],
   "source": [
    "irrelevant_metrics_per_capital = irrelevant_metrics_df.groupby(\"capital - primary\").agg({\"count\": \"count\"})\n",
    "\n",
    "fig, ax = plt.subplots(figsize=(8,3))\n",
    "irrelevant_metrics_per_capital.plot(kind=\"bar\", ax=ax, legend=False)\n",
    "ax.grid(True)\n",
    "ax.set_xlabel(\"capital\")\n",
    "ax.set_ylabel(\"count\")\n",
    "ax.set_title(\"Number of metrics irrelevant to agenda2030 (per capital)\")\n",
    "plt.xticks(rotation=0)\n",
    "plt.tight_layout()\n",
    "fig.savefig(const.n_irrelevant_by_capital_plot_fpath)\n",
    "plt.show()"
   ]
  },
  {
   "cell_type": "markdown",
   "id": "e3e53b22-eee9-41cc-b81e-6a6616cf2a37",
   "metadata": {},
   "source": [
    "### 4.3) Analysis of raw data availability\n",
    "\n",
    "Goal: Visually represent how many data points are available for each metric. Add additional information such as when that data is available and what capital the metric belongs to. "
   ]
  },
  {
   "cell_type": "code",
   "execution_count": null,
   "id": "92fbf988-1544-4b4d-a115-0fe794ed6ada",
   "metadata": {},
   "outputs": [],
   "source": [
    "datapoint_counts = monet_data.count()\\\n",
    "                             .sort_values(ascending=False)\\\n",
    "                             .to_frame()\\\n",
    "                             .rename({0: \"count\"}, axis=1)\n",
    "metric_availability = datapoint_counts.join(metric2capital_map)\n",
    "metric_availability = metric_availability.dropna(subset=[\"capital - primary\"])"
   ]
  },
  {
   "cell_type": "code",
   "execution_count": null,
   "id": "21c83313-2740-4bbe-87a8-f338f372b6bc",
   "metadata": {},
   "outputs": [],
   "source": [
    "fig, ax = plt.subplots(figsize=(17,30))\n",
    "plot.raw_data_availability_barchart(metric_availability,\n",
    "                                    \"counts\",\n",
    "                                    \"Metric Name\",\n",
    "                                    \"Number of measured data points per metric\",\n",
    "                                    ax=ax)\n",
    "plt.tight_layout()\n",
    "plt.show()"
   ]
  },
  {
   "cell_type": "code",
   "execution_count": null,
   "id": "876a5fca-5452-46c3-8494-6216381dbe0a",
   "metadata": {},
   "outputs": [],
   "source": [
    "monet_trp = monet_data.transpose()\n",
    "monet_trp = monet_trp.loc[:,~monet_trp.columns.duplicated()].copy()\n",
    "\n",
    "# Get existing years from column index (assumed datetime index)\n",
    "existing_years = [col for col in monet_trp.columns]\n",
    "full_year_range = list(range(min(existing_years), max(existing_years) + 1))\n",
    "\n",
    "# Identify missing years\n",
    "missing_years = [y for y in full_year_range if y not in existing_years]\n",
    "\n",
    "# Add missing columns with white color\n",
    "for year in missing_years:\n",
    "    monet_trp[year] = np.nan * len(monet_trp)\n",
    "\n",
    "# Reorder columns chronologically\n",
    "monet_trp = monet_trp.reindex(sorted(monet_trp.columns), axis=1)\n",
    "\n",
    "monet_trp[\"capital\"] = metric2capital_map.loc[monet_trp.index, \"capital - primary\"]"
   ]
  },
  {
   "cell_type": "code",
   "execution_count": null,
   "id": "fc72ff38-60c7-4234-bdd3-240682bd6747",
   "metadata": {},
   "outputs": [],
   "source": [
    "df_plot = monet_trp.loc[metric_availability.index,:]\n",
    "\n",
    "fig,axs=plt.subplots(1,2, figsize=(17,30), sharey=True, gridspec_kw = {\"wspace\": 0.01})\n",
    "# Left plot panel\n",
    "plot.visualize_data_availability_colored(df_plot,\n",
    "                                         \"Year\",\n",
    "                                         \"Metric Name\",\n",
    "                                         \"MONET2030 metric data availability across time\",\n",
    "                                         ax=axs[0]\n",
    "                                        )\n",
    "\n",
    "# Right plot panel\n",
    "plot.raw_data_availability_barchart(metric_availability,\n",
    "                                    \"Number of measured data points per metric\",\n",
    "                                    \"Metric Name\",\n",
    "                                    \"Number of measured data points per metric\",\n",
    "                                    ax=axs[1],\n",
    "                                    show_legend=False\n",
    "                                    )\n",
    "plt.tight_layout()\n",
    "fig.suptitle(\"Data availability\", y=0.9, fontsize=18)\n",
    "fig.savefig(const.data_availability_dir / \"data_availability_all.pdf\", bbox_inches=\"tight\")\n",
    "plt.show()"
   ]
  },
  {
   "cell_type": "markdown",
   "id": "e23465f5-b317-4129-ad99-ef7bb94a539d",
   "metadata": {},
   "source": [
    "### 4.4) Correlation Analysis\n",
    "\n",
    "Question: Which metrics are redundant?"
   ]
  },
  {
   "cell_type": "code",
   "execution_count": null,
   "id": "d5e88b9f-5529-4edd-9733-fbef2f12f44d",
   "metadata": {},
   "outputs": [],
   "source": [
    "monet_ca = utils.CorrelationAnalysis(final_output)\n",
    "zero_lag_corrmat = monet_ca.cross_corr(lag=0)\n",
    "agg_corrmat = monet_ca.max_abs_corr()"
   ]
  },
  {
   "cell_type": "code",
   "execution_count": null,
   "id": "48fa29d5-3904-4929-8453-a3b69320cb9b",
   "metadata": {},
   "outputs": [],
   "source": [
    "for th in [0.8, 0.85, 0.9, 0.95, 0.99]:\n",
    "    monochronic_fpath = const.corra_dir/f\"keep_monochron_corr_th{str(int(th*100))}.xlsx\"\n",
    "    diachronic_fpath = const.corra_dir/f\"keep_diachron_corr_th{str(int(th*100))}.xlsx\"\n",
    "    \n",
    "    to_keep_zero_lag, corr_xlsx_zero_lag = monet_ca.drop_strong_correlations(zero_lag_corrmat, \n",
    "                                                                             threshold=th, \n",
    "                                                                             id2name_map = metric2capital_map,\n",
    "                                                                             fpath_corr=monochronic_fpath)\n",
    "    \n",
    "    to_keep_agg, corr_xlsx_agg = monet_ca.drop_strong_correlations(agg_corrmat,\n",
    "                                                                   threshold=th, \n",
    "                                                                   id2name_map = metric2capital_map,\n",
    "                                                                   fpath_corr = diachronic_fpath)"
   ]
  },
  {
   "cell_type": "code",
   "execution_count": null,
   "id": "6626a2d7-9f75-4309-a97c-8f214b514fd8",
   "metadata": {},
   "outputs": [],
   "source": [
    "th_vec = [th/100 for th in range(80,100,2)]+[0.99, 0.999]\n",
    "\n",
    "counts = pd.DataFrame(index=[\"Social\", \"Human\", \"Natural\", \"Economic\"], columns=[])\n",
    "\n",
    "for th in th_vec:\n",
    "    to_keep, _ = monet_ca.drop_strong_correlations(agg_corrmat, threshold=th)\n",
    "    counts_per_cap = metric2capital_map[metric2capital_map.index.isin(to_keep)].groupby(\"capital - primary\").agg(\"count\")\n",
    "    counts = counts.join(counts_per_cap.rename({\"metric_name\": th}, axis=1), how=\"outer\")\n",
    "    \n",
    "counts.loc[\"Total\", :] = counts.sum()\n",
    "counts"
   ]
  },
  {
   "cell_type": "code",
   "execution_count": null,
   "id": "eee8356d-e8dd-4b1d-99dd-be83ac7a3cae",
   "metadata": {},
   "outputs": [],
   "source": [
    "fig, ax = plt.subplots(figsize=(10,4))\n",
    "counts.T.plot(kind=\"line\", ax=ax)\n",
    "ax.set_xticks(th_vec, th_vec, rotation=60)\n",
    "ax.set_yticks(range(1,42,2), range(1,42,2))\n",
    "ax.set_xlabel(\"correlation threshold\")\n",
    "ax.set_ylabel(\"Number of non-redundant metrics\")\n",
    "ax.set_title(\"Counting non-redundant metrics in dependency of\\ncorrelation threshold\")\n",
    "ax.grid()\n",
    "plt.tight_layout()\n",
    "fig.savefig(const.corra_dir / \"n_nonredundant_per_threshold.pdf\", bbox_inches=\"tight\")"
   ]
  },
  {
   "cell_type": "raw",
   "id": "3bb07418-5331-4e79-8054-74adb9e27967",
   "metadata": {},
   "source": [
    "metric2capital_map[metric2capital_map.index.isin(to_keep_agg)]"
   ]
  },
  {
   "cell_type": "code",
   "execution_count": null,
   "id": "b5300402-973e-48f7-a3b2-e267e4c0fa59",
   "metadata": {},
   "outputs": [],
   "source": [
    "metric2capital_map[metric2capital_map.index.isin(to_keep_agg)].groupby(\"capital - primary\").agg(\"count\")"
   ]
  },
  {
   "cell_type": "code",
   "execution_count": null,
   "id": "d67444d1-0952-4ff5-bb24-7dd89015afad",
   "metadata": {},
   "outputs": [],
   "source": [
    "fig, axs = plt.subplots(1,2, figsize=(10,4))\n",
    "ax = axs[0]\n",
    "sns.histplot(zero_lag_corrmat.unstack().values, ax=ax, kde=True, bins=40)\n",
    "ax.set_title(\"Distribution of correlation values\")\n",
    "ax.set_xlabel(\"corr\")\n",
    "\n",
    "ax = axs[1]\n",
    "sns.histplot(zero_lag_corrmat.unstack().abs().values, ax=ax, bins=20)\n",
    "ax.set_title(\"Distribution of abs(correlation) values\")\n",
    "ax.set_xlabel(\"abs(corr)\")\n",
    "plt.tight_layout()\n",
    "plt.show()"
   ]
  },
  {
   "cell_type": "code",
   "execution_count": null,
   "id": "72c7f547-2754-4651-8b0c-9d8dcce5e4ea",
   "metadata": {},
   "outputs": [],
   "source": [
    "fig, axs = plt.subplots(1,2, figsize=(10,4))\n",
    "ax = axs[0]\n",
    "sns.histplot(agg_corrmat.unstack().values, ax=ax, kde=True, bins=40)\n",
    "ax.set_title(\"Distribution of correlation values\")\n",
    "ax.set_xlabel(\"corr\")\n",
    "\n",
    "ax = axs[1]\n",
    "sns.histplot(agg_corrmat.unstack().abs().values, ax=ax, bins=20)\n",
    "ax.set_title(\"Distribution of abs(correlation) values\")\n",
    "ax.set_xlabel(\"abs(corr)\")\n",
    "plt.tight_layout()\n",
    "plt.show()"
   ]
  }
 ],
 "metadata": {
  "kernelspec": {
   "display_name": "Python 3 (ipykernel)",
   "language": "python",
   "name": "python3"
  },
  "language_info": {
   "codemirror_mode": {
    "name": "ipython",
    "version": 3
   },
   "file_extension": ".py",
   "mimetype": "text/x-python",
   "name": "python",
   "nbconvert_exporter": "python",
   "pygments_lexer": "ipython3",
   "version": "3.13.5"
  }
 },
 "nbformat": 4,
 "nbformat_minor": 5
}
