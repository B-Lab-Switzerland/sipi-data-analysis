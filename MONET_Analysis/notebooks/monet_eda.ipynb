{
 "cells": [
  {
   "cell_type": "markdown",
   "id": "75cfce62-94b1-47c3-88fa-eb5e3610364e",
   "metadata": {},
   "source": [
    "# MONET2030 - Exploratory Data Analysis"
   ]
  },
  {
   "cell_type": "code",
   "execution_count": null,
   "id": "5ada8b90-28a0-42a9-94db-cb238c2aab30",
   "metadata": {},
   "outputs": [],
   "source": [
    "# Stdlib imports\n",
    "import re\n",
    "from pathlib import Path\n",
    "\n",
    "# 3rd party imports\n",
    "import pandas as pd\n",
    "import numpy as np\n",
    "import matplotlib.pyplot as plt\n",
    "import seaborn as sns\n",
    "\n",
    "# Local imports\n",
    "from pymonet import monet_scraper as scraper\n",
    "from pymonet import monet_consts as const\n",
    "from sipi_da_utils import plot"
   ]
  },
  {
   "cell_type": "markdown",
   "id": "d097c466-75cb-4ea2-b263-5a8c716378af",
   "metadata": {},
   "source": [
    "# 1) Load data"
   ]
  },
  {
   "cell_type": "code",
   "execution_count": null,
   "id": "c1a1349d-d333-41e6-b3ac-27c998766ecf",
   "metadata": {},
   "outputs": [],
   "source": [
    "directions = pd.read_csv(const.trend_directions).drop(\"Unnamed: 0\", axis=1)\n",
    "directions.head()"
   ]
  },
  {
   "cell_type": "code",
   "execution_count": null,
   "id": "c69f8a27-157c-4257-a18b-5b3d60717030",
   "metadata": {},
   "outputs": [],
   "source": [
    "key_inds = pd.read_csv(const.key_indicators)\n",
    "key_inds.head()"
   ]
  },
  {
   "cell_type": "code",
   "execution_count": null,
   "id": "510a4216-e5f1-42a1-9a73-250f9703b5e0",
   "metadata": {},
   "outputs": [],
   "source": [
    "capmap = pd.read_csv(const.capmap_path).drop(\"Unnamed: 0\", axis=1)\n",
    "capmap.head()"
   ]
  },
  {
   "cell_type": "code",
   "execution_count": null,
   "id": "de2e3ba3-c8c6-4ff8-99cb-c288f56553e2",
   "metadata": {},
   "outputs": [],
   "source": [
    "mitl = pd.read_csv(const.metainfo_table_path)\n",
    "mitl.head()"
   ]
  },
  {
   "cell_type": "code",
   "execution_count": null,
   "id": "943a2f01-6cb2-4a3e-a4d0-e828ac8d61f2",
   "metadata": {},
   "outputs": [],
   "source": [
    "dfl = scraper.DataFileLoader(mitl, const.raw_dir, const.processed_dir)\n",
    "dfl.get_data()"
   ]
  },
  {
   "cell_type": "code",
   "execution_count": null,
   "id": "823af22c-286c-4f39-a315-8f4b1b11220c",
   "metadata": {},
   "outputs": [],
   "source": [
    "monet_data = pd.read_csv(const.processed_dir / \"stage_4_clean\" / \"monet_2030_clean.csv\")\n",
    "monet_data.set_index(\"Year\", inplace=True)"
   ]
  },
  {
   "cell_type": "code",
   "execution_count": null,
   "id": "7bd80668-877d-4292-aa64-d25edf346518",
   "metadata": {},
   "outputs": [],
   "source": [
    "monet_data.head()"
   ]
  },
  {
   "cell_type": "markdown",
   "id": "650dfe75-d2f0-4778-8cb2-226d8237e60a",
   "metadata": {},
   "source": [
    "## 2) Consolidate data into single DataFrame metrics_meta_df"
   ]
  },
  {
   "cell_type": "code",
   "execution_count": null,
   "id": "a586fab4-d3f7-41a0-9f51-bff869111bda",
   "metadata": {},
   "outputs": [],
   "source": [
    "metrics_meta_df = pd.DataFrame([{k: d[k] for k in [\"metric_id\", \"dam_id\", \"observable\", \"description\"]} \n",
    "                          for d in dfl.processed_data_list[\"stage2\"]\n",
    "                         ]\n",
    "                        )\n",
    "metrics_meta_df = metrics_meta_df[metrics_meta_df[\"metric_id\"].str.endswith(\"metr\")]"
   ]
  },
  {
   "cell_type": "code",
   "execution_count": null,
   "id": "ae6e25f5-26ac-434b-901a-b4f50da19c54",
   "metadata": {},
   "outputs": [],
   "source": [
    "metrics_meta_df = metrics_meta_df.merge(mitl[[\"dam_id\", \"indicator_id\", \"sdg\", \"topic\", \"indicator\"]], on=\"dam_id\", how=\"left\")"
   ]
  },
  {
   "cell_type": "code",
   "execution_count": null,
   "id": "b01cd644-cfc3-4f88-9954-d4201f9a4bcf",
   "metadata": {},
   "outputs": [],
   "source": [
    "print(len(metrics_meta_df), len(capmap))\n",
    "metrics_meta_df = metrics_meta_df.merge(capmap, left_on=\"indicator_id\", right_on=\"id\", how=\"outer\")\n",
    "print(len(metrics_meta_df))"
   ]
  },
  {
   "cell_type": "code",
   "execution_count": null,
   "id": "4f05abc7-7a3b-4f9b-9e75-81480aab67fb",
   "metadata": {},
   "outputs": [],
   "source": [
    "metrics_meta_df = metrics_meta_df[[\"metric_id\", \"dam_id\", \"indicator_id\", \"sdg\", \"Capital - Primary\", \"observable\", \"description\"]]\n",
    "metrics_meta_df = metrics_meta_df.loc[metrics_meta_df[\"metric_id\"].isin(monet_data.columns),:]"
   ]
  },
  {
   "cell_type": "code",
   "execution_count": null,
   "id": "8744b963-7808-483e-9bf1-bc0968d18247",
   "metadata": {},
   "outputs": [],
   "source": [
    "metrics_meta_df.head()"
   ]
  },
  {
   "cell_type": "markdown",
   "id": "e3496f56-c9a6-463d-b52c-e381e5ea74d0",
   "metadata": {},
   "source": [
    "## 3) Split by Capital"
   ]
  },
  {
   "cell_type": "code",
   "execution_count": null,
   "id": "589fe895-38d4-486d-a0a4-b2ce1ce0389c",
   "metadata": {},
   "outputs": [],
   "source": [
    "four_caps = [cap for cap in metrics_meta_df[\"Capital - Primary\"].unique() if cap==cap]\n",
    "four_caps"
   ]
  },
  {
   "cell_type": "code",
   "execution_count": null,
   "id": "10aea1e2-afcf-4845-9cb3-e4b5b111656e",
   "metadata": {},
   "outputs": [],
   "source": [
    "caps_dict = {cap: metrics_meta_df[metrics_meta_df[\"Capital - Primary\"]==cap] for cap in four_caps}"
   ]
  },
  {
   "cell_type": "markdown",
   "id": "c911f251-9c44-487c-81ed-29727348672c",
   "metadata": {},
   "source": [
    "## 4) EDA by Capital"
   ]
  },
  {
   "cell_type": "code",
   "execution_count": null,
   "id": "e667e6c1-8380-490f-b656-8fc87baee67d",
   "metadata": {},
   "outputs": [],
   "source": [
    "metrics = dict()\n",
    "for cap in four_caps:\n",
    "    metrics[cap] = monet_data.loc[:, caps_dict[cap][\"metric_id\"]]"
   ]
  },
  {
   "cell_type": "code",
   "execution_count": null,
   "id": "7fe418c1-47d8-4e3c-882b-37e0eda6091b",
   "metadata": {},
   "outputs": [],
   "source": [
    "all([len(metrics[cap].columns) == len(caps_dict[cap]) for cap in four_caps])"
   ]
  },
  {
   "cell_type": "code",
   "execution_count": null,
   "id": "39b7de3c-7f25-4ecd-af02-f640e9c74a3c",
   "metadata": {},
   "outputs": [],
   "source": [
    "for cap in four_caps:\n",
    "    print(cap, len(metrics[cap].columns))"
   ]
  },
  {
   "cell_type": "markdown",
   "id": "35d34b46-cb43-4b66-9495-b6485bf40f01",
   "metadata": {},
   "source": [
    "### 4.1) Temporal data availability"
   ]
  },
  {
   "cell_type": "code",
   "execution_count": null,
   "id": "9f57a183-5ea9-4a87-b664-fd32a2359e9b",
   "metadata": {},
   "outputs": [],
   "source": [
    "fig, axs = plt.subplots(2,2, figsize=(17,8), sharex=True)\n",
    "for i, cap in enumerate(four_caps):\n",
    "    plot.visualize_data_availability(metrics[cap].transpose(), \n",
    "                                     title = f\"{cap.title()} Metrics\",\n",
    "                                     x_label = \"Years\",\n",
    "                                     y_label = \"Metric IDs\",\n",
    "                                     ax = axs[i//2,i%2]\n",
    "                                    )\n",
    "fig.suptitle(\"Temporal Availability of MONET2030 Metrics by Capital\")\n",
    "plt.tight_layout()\n",
    "plt.show()"
   ]
  },
  {
   "cell_type": "markdown",
   "id": "748cb968-7c03-445e-aa61-230912f77865",
   "metadata": {},
   "source": [
    "### 4.2) Data amount"
   ]
  },
  {
   "cell_type": "code",
   "execution_count": null,
   "id": "d0482077-067f-41e0-b114-617de146ba21",
   "metadata": {},
   "outputs": [],
   "source": [
    "n_metrics_per_cap = pd.Series({cap: len(metrics[cap].columns) for cap in four_caps})\n",
    "\n",
    "fig, ax = plt.subplots()\n",
    "sns.barplot(data=n_metrics_per_cap , ax=ax)\n",
    "ax.grid(True)\n",
    "ax.set_title(\"Number of Metrics per Capital\")\n",
    "ax.set_ylabel(\"Count\")\n",
    "plt.show()"
   ]
  },
  {
   "cell_type": "code",
   "execution_count": null,
   "id": "a14d7f48-1500-40e9-ba3b-94899190534c",
   "metadata": {},
   "outputs": [],
   "source": [
    "nonnull_counts = pd.Series({cap: (~metrics[cap].isna()).sum().sum() for cap in four_caps})\n",
    "\n",
    "fig, ax = plt.subplots()\n",
    "sns.barplot(data=nonnull_counts, ax=ax)\n",
    "ax.grid(True)\n",
    "ax.set_title(\"Amount of Non-Null Data Points per Capital\")\n",
    "ax.set_ylabel(\"Count\")\n",
    "plt.show()"
   ]
  },
  {
   "cell_type": "code",
   "execution_count": null,
   "id": "0f0209ba-bac1-47c1-964f-636809589763",
   "metadata": {},
   "outputs": [],
   "source": [
    "fig, axs = plt.subplots(2,2, figsize=(8,5), sharex=True, sharey=True)\n",
    "for i, cap in enumerate(four_caps):\n",
    "    ax = axs[i//2,i%2]\n",
    "    (~metrics[cap].isna()).sum().plot(kind=\"hist\", ax = ax, bins=list(range(10,60,5)))\n",
    "    ax.set_ylabel(\"count\")\n",
    "    ax.set_title(cap)\n",
    "    ax.grid(True)\n",
    "fig.suptitle(\"Distribution of Number of Data Points per MONET2030 Metrics by Capital\\n\"\n",
    "+\"(e.g. How many social metrics have between 15 and 20 data points? -> 11)\")\n",
    "plt.tight_layout()\n",
    "plt.show()"
   ]
  },
  {
   "cell_type": "markdown",
   "id": "172c1ab0-d1de-421f-ada7-d8e29f270c53",
   "metadata": {},
   "source": [
    "### 4.3) Analysis of value distributions across all metrics (split by capital)"
   ]
  },
  {
   "cell_type": "code",
   "execution_count": null,
   "id": "9153139b-e838-43ec-9407-712f1e7821d8",
   "metadata": {},
   "outputs": [],
   "source": [
    "fig, ax = plt.subplots(figsize=(17,5))\n",
    "cap = \"Social\"\n",
    "metrics[cap].boxplot(orientation=\"horizontal\", ax=ax)\n",
    "ax.set_yticklabels(metrics[cap].columns)\n",
    "ax.set_title(f\"Value distributions for MONET2030 in {cap} capital\")\n",
    "ax.set_xscale('log')\n",
    "plt.show()"
   ]
  },
  {
   "cell_type": "code",
   "execution_count": null,
   "id": "63185260-1e04-4c98-a9e1-c191fdc383a5",
   "metadata": {},
   "outputs": [],
   "source": [
    "fig, ax = plt.subplots(figsize=(17,10))\n",
    "cap = \"Human\"\n",
    "metrics[cap].boxplot(orientation=\"horizontal\", ax=ax)\n",
    "ax.set_yticklabels(metrics[cap].columns)\n",
    "ax.set_xscale('log')\n",
    "ax.set_title(f\"Value distributions for MONET2030 in {cap} capital\")\n",
    "plt.show()"
   ]
  },
  {
   "cell_type": "code",
   "execution_count": null,
   "id": "83fd4dec-7312-4472-8014-fa19c247d1cf",
   "metadata": {},
   "outputs": [],
   "source": [
    "fig, ax = plt.subplots(figsize=(17,8))\n",
    "cap = \"Natural\"\n",
    "metrics[cap].boxplot(orientation=\"horizontal\", ax=ax)\n",
    "ax.set_yticklabels(metrics[cap].columns)\n",
    "ax.set_xscale('log')\n",
    "ax.set_title(f\"Value distributions for MONET2030 in {cap} capital\")\n",
    "plt.show()"
   ]
  },
  {
   "cell_type": "code",
   "execution_count": null,
   "id": "6edcc36f-5c36-4d03-b050-771163df868f",
   "metadata": {},
   "outputs": [],
   "source": [
    "fig, ax = plt.subplots(figsize=(17,4))\n",
    "cap = \"Economic\"\n",
    "metrics[cap].boxplot(orientation=\"horizontal\", ax=ax)\n",
    "ax.set_yticklabels(metrics[cap].columns)\n",
    "ax.set_xscale('log')\n",
    "ax.set_title(f\"Value distributions for MONET2030 in {cap} capital\")\n",
    "plt.show()"
   ]
  },
  {
   "cell_type": "code",
   "execution_count": null,
   "id": "06f3fb6a-d99b-4cd5-aef8-22a628c0203a",
   "metadata": {},
   "outputs": [],
   "source": [
    "for cap in four_caps:\n",
    "    fig, axs = plt.subplots(1,2, figsize=(17,3))\n",
    "    ax = axs[0]\n",
    "    sns.lineplot(data=metrics[cap], ax=ax, legend=False)\n",
    "    ax.grid(True)\n",
    "    \n",
    "    ax = axs[1]\n",
    "    sns.lineplot(data=metrics[cap], ax=ax)\n",
    "    ax.grid(True)\n",
    "    ax.set_yscale(\"log\")\n",
    "    \n",
    "    ax.legend(ncol=7, bbox_to_anchor=[-0.1, -0.5], loc='center')\n",
    "    fig.suptitle(f\"Temporal evolution of MONET 2030 metrics ({cap} capital)\")\n",
    "    plt.show()"
   ]
  },
  {
   "cell_type": "code",
   "execution_count": null,
   "id": "27653a40-4890-49af-b235-38fcf191ff30",
   "metadata": {},
   "outputs": [],
   "source": [
    "normalized_metrics = dict()\n",
    "for cap, df in metrics.items():\n",
    "    first_valid_values = df.apply(lambda col: col[col.first_valid_index()])\n",
    "    normalized= df.div(first_valid_values)\n",
    "    normalized_metrics[cap] = normalized\n",
    "    \n",
    "    fig, ax = plt.subplots(figsize=(17,2))\n",
    "    sns.lineplot(data=normalized, ax=ax)\n",
    "    ax.grid(True)\n",
    "\n",
    "    ax.legend(ncol=7, bbox_to_anchor=[0.5, -0.5], loc='center')\n",
    "    fig.suptitle(f\"Temporal evolution of normalized MONET 2030 metrics ({cap} capital)\")\n",
    "    plt.show()"
   ]
  },
  {
   "cell_type": "markdown",
   "id": "58ee1090-706f-4dbc-9b88-6bbd41912bc7",
   "metadata": {},
   "source": [
    "### 4.4) Best & Worst Performering Metrics"
   ]
  },
  {
   "cell_type": "code",
   "execution_count": null,
   "id": "65d63e7b-8cd3-45b2-be5b-77c5510c8f39",
   "metadata": {},
   "outputs": [],
   "source": [
    "performer_ranking = metrics_meta_df[[\"metric_id\"]].drop_duplicates()\n",
    "performer_ranking[[\"slope\", \"slope_norm\"]] = None\n",
    "performer_ranking = performer_ranking.merge(directions, on=\"metric_id\", how=\"left\")\n",
    "performer_ranking = performer_ranking[[\"metric_id\", \"slope\", \"desired_trend\", \"slope_norm\"]].set_index(\"metric_id\")\n",
    "performer_ranking.head()"
   ]
  },
  {
   "cell_type": "code",
   "execution_count": null,
   "id": "7cb357ca-d6bf-41f4-a175-27017d51bed8",
   "metadata": {},
   "outputs": [],
   "source": [
    "for mid in performer_ranking.index:\n",
    "    data = monet_data[mid].dropna()\n",
    "    x = [year for year in data.keys()]\n",
    "    y_norm = data.values/data.values[0]\n",
    "    slope = np.polyfit(x,y_norm,1)[0]\n",
    "    performer_ranking.loc[mid, \"slope\"] = slope\n",
    "\n",
    "    if performer_ranking.loc[mid, \"desired_trend\"]==\"up\":\n",
    "        performer_ranking.loc[mid, \"slope_norm\"] = performer_ranking.loc[mid, \"slope\"]\n",
    "    elif performer_ranking.loc[mid, \"desired_trend\"]==\"down\":\n",
    "        performer_ranking.loc[mid, \"slope_norm\"] = -performer_ranking.loc[mid, \"slope\"]\n",
    "    else:\n",
    "        performer_ranking.loc[mid, \"slope_norm\"] = np.nan\n",
    "    \n",
    "performer_ranking = performer_ranking.dropna(subset=\"slope_norm\").sort_values(by=\"slope_norm\", ascending=False)\n",
    "performer_ranking"
   ]
  },
  {
   "cell_type": "code",
   "execution_count": null,
   "id": "5a4571a8-0ac3-4979-b3cf-26ad8c18761e",
   "metadata": {},
   "outputs": [],
   "source": [
    "performer_ranking_incl_cap = performer_ranking.reset_index().merge(metrics_meta_df, on=\"metric_id\", how=\"left\").set_index(\"metric_id\")\n",
    "performer_ranking_incl_cap = performer_ranking_incl_cap.rename({\"Capital - Primary\": \"capital\"}, axis=1)"
   ]
  },
  {
   "cell_type": "code",
   "execution_count": null,
   "id": "00612aac-424c-4d9a-8182-dcc993373204",
   "metadata": {},
   "outputs": [],
   "source": [
    "# Add key indicator info\n",
    "performer_ranking_incl_cap.loc[:, \"is_key\"] = False\n",
    "performer_ranking_incl_cap.loc[performer_ranking_incl_cap[\"indicator_id\"].isin(key_inds[\"id\"]), \"is_key\"] = True"
   ]
  },
  {
   "cell_type": "markdown",
   "id": "59f7f705-4a75-421c-908f-eb842d8b581f",
   "metadata": {},
   "source": [
    "#### 4.4.1) Overall"
   ]
  },
  {
   "cell_type": "code",
   "execution_count": null,
   "id": "91180d1e-8fc5-4ef3-8cb6-6a5ebce0eebe",
   "metadata": {},
   "outputs": [],
   "source": [
    "top3 = performer_ranking_incl_cap.head(3)\n",
    "top3.to_excel(const.top3_metrics_file)\n",
    "top3"
   ]
  },
  {
   "cell_type": "code",
   "execution_count": null,
   "id": "f40fb7fb-58db-43c2-a113-f7b53ffdd896",
   "metadata": {},
   "outputs": [],
   "source": [
    "bottom3 = performer_ranking_incl_cap.tail(3)\n",
    "bottom3.to_excel(const.bottom3_metrics_file)\n",
    "bottom3"
   ]
  },
  {
   "cell_type": "markdown",
   "id": "06388a38-536e-4bc3-b47a-90f097e5f031",
   "metadata": {},
   "source": [
    "#### 4.4.2) Per capital"
   ]
  },
  {
   "cell_type": "code",
   "execution_count": null,
   "id": "1700666d-731a-4a8c-9c0e-de9106acd122",
   "metadata": {},
   "outputs": [],
   "source": [
    "print(\"TOP 3 PERFORMERS PER CAPITAL\")\n",
    "print(\"============================\")\n",
    "columns = [\"indicator_id\", \"sdg\", \"observable\", \"description\", \"capital\", \"is_key\", \"slope\", \"slope_norm\", \"desired_trend\"]\n",
    "\n",
    "n_top_key = 0\n",
    "n_top_tot = 0\n",
    "with pd.ExcelWriter(const.top3_metrics_per_cap_file) as writer:\n",
    "    for cap in four_caps:\n",
    "        print(cap)\n",
    "        print(len(cap)*\"-\")\n",
    "        perf_cap = performer_ranking_incl_cap[performer_ranking_incl_cap[\"capital\"]==cap][columns]\n",
    "        top3 = perf_cap.head(3)\n",
    "        n_top_key += top3[\"is_key\"].sum()\n",
    "        n_top_tot += top3[\"is_key\"].count()\n",
    "        display(top3)\n",
    "        top3.to_excel(writer, sheet_name=cap)"
   ]
  },
  {
   "cell_type": "code",
   "execution_count": null,
   "id": "89c767b6-3ca4-4705-96b7-08ac7e4c6e9c",
   "metadata": {},
   "outputs": [],
   "source": [
    "print(\"BOTTOM 3 PERFORMERS PER CAPITAL\")\n",
    "print(\"============================\")\n",
    "columns = [\"indicator_id\", \"sdg\", \"observable\", \"description\", \"capital\", \"is_key\", \"slope\", \"slope_norm\", \"desired_trend\"]\n",
    "\n",
    "n_bottom_key = 0\n",
    "n_bottom_tot = 0\n",
    "with pd.ExcelWriter(const.bottom3_metrics_per_cap_file) as writer:\n",
    "    for cap in four_caps:\n",
    "        print(cap)\n",
    "        print(len(cap)*\"-\")\n",
    "        perf_cap = performer_ranking_incl_cap[performer_ranking_incl_cap[\"capital\"]==cap][columns]\n",
    "        bottom3 = perf_cap.tail(3)\n",
    "        display(bottom3)\n",
    "        n_bottom_key += bottom3[\"is_key\"].sum()\n",
    "        n_bottom_tot += bottom3[\"is_key\"].count()\n",
    "        bottom3.to_excel(writer, sheet_name=cap)"
   ]
  },
  {
   "cell_type": "code",
   "execution_count": null,
   "id": "af372a3e-a7d4-4877-b561-f004551ec54b",
   "metadata": {},
   "outputs": [],
   "source": [
    "n_bottom_key"
   ]
  },
  {
   "cell_type": "code",
   "execution_count": null,
   "id": "c4426b0a-7f83-488a-b22d-6671fea62cc2",
   "metadata": {},
   "outputs": [],
   "source": [
    "xs = np.array([1,2])\n",
    "n_key = np.array([n_top_key, n_bottom_key])\n",
    "n_tot = np.array([n_top_tot, n_bottom_tot])\n",
    "\n",
    "fig, ax = plt.subplots()\n",
    "ax.bar([1,2], n_key, facecolor=\"blue\", label=\"key indicators\")\n",
    "ax.set_xticks([1,2], [\"best-performing\", \"worst-performing\"])\n",
    "ax.grid(True)\n",
    "ax.set_title(\"Number of key indicators within best- & worst-performing indicators\\n(summed over all capitals)\")\n",
    "fig.savefig(const.n_key_indicators_per_performance_plot)\n",
    "plt.show()"
   ]
  },
  {
   "cell_type": "markdown",
   "id": "c760ac0e-9734-4373-b868-ad04c402cd78",
   "metadata": {},
   "source": [
    "#### 4.4.3) Best & Worst Performing Key Indicators "
   ]
  },
  {
   "cell_type": "code",
   "execution_count": null,
   "id": "bb6f5403-f38c-458a-b2cd-e39fb1a41d8a",
   "metadata": {},
   "outputs": [],
   "source": [
    "key_ind_trend = key_inds.merge(performer_ranking_incl_cap, left_on=\"id\", right_on=\"indicator_id\", how=\"left\")[[\"id\", \"topic\", \"indicator\", \"dam_id\", \"capital\", \"slope_norm\"]]\n",
    "key_ind_trend = key_ind_trend.sort_values(by=\"slope_norm\", ascending=False).dropna(subset=\"slope_norm\")\n",
    "key_ind_trend[\"rank\"] = range(1, len(key_ind_trend)+1)\n",
    "key_ind_trend.to_excel(const.key_indicator_performance_file)\n",
    "key_ind_trend"
   ]
  },
  {
   "cell_type": "code",
   "execution_count": null,
   "id": "143b812d-2e08-4c87-a2d5-71308cb3717a",
   "metadata": {},
   "outputs": [],
   "source": []
  }
 ],
 "metadata": {
  "kernelspec": {
   "display_name": "Python 3 (ipykernel)",
   "language": "python",
   "name": "python3"
  },
  "language_info": {
   "codemirror_mode": {
    "name": "ipython",
    "version": 3
   },
   "file_extension": ".py",
   "mimetype": "text/x-python",
   "name": "python",
   "nbconvert_exporter": "python",
   "pygments_lexer": "ipython3",
   "version": "3.13.5"
  }
 },
 "nbformat": 4,
 "nbformat_minor": 5
}
