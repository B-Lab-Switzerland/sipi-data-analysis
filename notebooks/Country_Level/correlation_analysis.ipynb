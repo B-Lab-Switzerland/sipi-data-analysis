{
 "cells": [
  {
   "cell_type": "markdown",
   "id": "d8a85fd5-9650-4b73-bb13-01f78c7241dc",
   "metadata": {},
   "source": [
    "# Country-level Analysis of beyond-GDP Metrics"
   ]
  },
  {
   "cell_type": "code",
   "execution_count": null,
   "id": "a9ea5262-ddc8-4331-8ebd-fd274a9c63a6",
   "metadata": {},
   "outputs": [],
   "source": [
    "# Stdlib imports\n",
    "from pathlib import Path\n",
    "from itertools import combinations\n",
    "\n",
    "# 3rd party imports\n",
    "import pandas as pd\n",
    "import matplotlib.pyplot as plt\n",
    "import seaborn as sns\n",
    "import numpy as np"
   ]
  },
  {
   "cell_type": "markdown",
   "id": "c183ea2e-0087-4b48-a5f7-42486043ac9d",
   "metadata": {},
   "source": [
    "## WISE data analysis with Focus on Switzerland"
   ]
  },
  {
   "cell_type": "code",
   "execution_count": null,
   "id": "a3b71c5b-963c-438b-b7ff-f20f4371c719",
   "metadata": {},
   "outputs": [],
   "source": [
    "# Set up file paths\n",
    "data_root = Path(\"../../data\")\n",
    "wisedb_path = data_root / \"WISE/Data/WISE_Database/\""
   ]
  },
  {
   "cell_type": "code",
   "execution_count": null,
   "id": "59b6a367-5744-40df-af32-972bbe3862eb",
   "metadata": {},
   "outputs": [],
   "source": [
    "# Read the WISE database into memory\n",
    "wise_db = dict()\n",
    "\n",
    "for sheet in [\"Content\", \"Metrics Info\", \"C Data\", \"CG Data\", \"Metrics C&CG\", \"C&CG Code\"]:\n",
    "    wise_db[sheet] = pd.read_excel(wisedb_path / \"WISE_Database.xlsx\", sheet_name=sheet)"
   ]
  },
  {
   "cell_type": "code",
   "execution_count": null,
   "id": "fe8cd401-01df-47ee-9739-700bb6c078b9",
   "metadata": {},
   "outputs": [],
   "source": [
    "# Filter data for Switzerland (ISO3 = \"CHE\")\n",
    "wise_ch = wise_db[\"C Data\"].loc[wise_db[\"C Data\"][\"ISO3\"].values == \"CHE\"]"
   ]
  },
  {
   "cell_type": "code",
   "execution_count": null,
   "id": "1eef492f-3694-44f3-afb5-c9f651492d52",
   "metadata": {},
   "outputs": [],
   "source": [
    "wise_ch"
   ]
  },
  {
   "cell_type": "code",
   "execution_count": null,
   "id": "409f3236-2a03-4b13-bbc5-84fd0952fbb3",
   "metadata": {},
   "outputs": [],
   "source": [
    "# Split dataframe into dictionary of dataframes. Each key-value pair belongs to a specific indicator\n",
    "wise_ch_ind__raw = dict()\n",
    "\n",
    "for acr in wise_ch[\"Acronym\"].unique():\n",
    "    wise_ch_ind__raw[acr] = wise_ch.loc[wise_ch[\"Acronym\"]==acr]\n",
    "\n",
    "# Current number of indicators\n",
    "len(wise_ch_ind__raw.keys())"
   ]
  },
  {
   "cell_type": "markdown",
   "id": "c4ed0012-1270-4519-b123-db12f124fed5",
   "metadata": {},
   "source": [
    "### Data Cleaning"
   ]
  },
  {
   "cell_type": "markdown",
   "id": "0b132ba4-937f-442e-8240-bf604b07ba51",
   "metadata": {},
   "source": [
    "#### Step 1: Ignore indices that have not been recorded in at least 10 years (i.e. 10 data points)"
   ]
  },
  {
   "cell_type": "code",
   "execution_count": null,
   "id": "335ce1cb-209e-4b0b-b0d3-b119391a5c88",
   "metadata": {},
   "outputs": [],
   "source": [
    "wise_ch_ind__statrel = ({k: v for (k,v) in wise_ch_ind__raw.items() if len(v[\"Year\"])>=10})\n",
    "\n",
    "# Current number of indicators\n",
    "len(wise_ch_ind__statrel.keys())"
   ]
  },
  {
   "cell_type": "code",
   "execution_count": null,
   "id": "53f9b3c9-a0c5-4b52-99f0-76a83f6d5419",
   "metadata": {},
   "outputs": [],
   "source": [
    "# Removed indicators\n",
    "set(wise_ch_ind__raw.keys()) - set(wise_ch_ind__statrel.keys())"
   ]
  },
  {
   "cell_type": "markdown",
   "id": "f8dd4574-c09e-484a-9417-b3268b489065",
   "metadata": {},
   "source": [
    "#### Step 2: Ignore constant indices"
   ]
  },
  {
   "cell_type": "code",
   "execution_count": null,
   "id": "a858a805-4ae0-4980-9039-84951e787e3a",
   "metadata": {},
   "outputs": [],
   "source": [
    "wise_ch_ind__nonconst = ({k: v for (k,v) in wise_ch_ind__statrel.items() if v[\"Value\"].std()>0})\n",
    "\n",
    "# Current number of indicators\n",
    "len(wise_ch_ind__nonconst.keys())"
   ]
  },
  {
   "cell_type": "code",
   "execution_count": null,
   "id": "79c9cfd4-e6c2-4f36-b3df-99859d211dd4",
   "metadata": {},
   "outputs": [],
   "source": [
    "# Removed indicators\n",
    "set(wise_ch_ind__statrel.keys() - set(wise_ch_ind__nonconst.keys()))"
   ]
  },
  {
   "cell_type": "markdown",
   "id": "71855dfc-ede7-4ab5-b9c1-bb0c895bf86e",
   "metadata": {},
   "source": [
    "### Step 3: Split by capital"
   ]
  },
  {
   "cell_type": "code",
   "execution_count": null,
   "id": "fe9d35c5-d8c3-4939-b896-6ec4e437b4f1",
   "metadata": {},
   "outputs": [],
   "source": [
    "capital_map = {\"Human\": list(wise_db[\"Metrics Info\"].loc[wise_db[\"Metrics Info\"][\"Wellbeing\"] == \"X\", \"Acronym\"].values),\n",
    "               \"Social\": list(wise_db[\"Metrics Info\"].loc[wise_db[\"Metrics Info\"][\"Inclusion\"] == \"X\", \"Acronym\"].values),\n",
    "               \"Natural\": list(wise_db[\"Metrics Info\"].loc[wise_db[\"Metrics Info\"][\"Sustainability\"] == \"X\", \"Acronym\"].values),\n",
    "               \"Economic\": list(wise_db[\"Metrics Info\"].loc[wise_db[\"Metrics Info\"][\"Economy and Society\"] == \"X\", \"Acronym\"].values)\n",
    "              }"
   ]
  },
  {
   "cell_type": "code",
   "execution_count": null,
   "id": "c9a676e3-6da7-40b8-970d-2372cffc0d74",
   "metadata": {},
   "outputs": [],
   "source": [
    "wise_ch_by_capitals = dict()\n",
    "\n",
    "for cap in [\"Human\", \"Social\", \"Natural\", \"Economic\"]:\n",
    "    wise_ch_by_capitals[cap] = {k: v for (k,v) in wise_ch_ind__nonconst.items() if k in capital_map[cap]}"
   ]
  },
  {
   "cell_type": "code",
   "execution_count": null,
   "id": "5d16826f-eb7a-4d36-b06c-d45d4038ed0f",
   "metadata": {},
   "outputs": [],
   "source": [
    "# Find minimal and maximal recording year per capital\n",
    "year_ranges = dict()\n",
    "\n",
    "for cap in [\"Human\", \"Social\", \"Natural\", \"Economic\"]:\n",
    "    [min_years, max_years] = list(zip(*[(df[\"Year\"].min(), df[\"Year\"].max()) for _, df in wise_ch_by_capitals[cap].items()]))\n",
    "    year_ranges[cap] = range(min(min_years), max(max_years)+1)"
   ]
  },
  {
   "cell_type": "code",
   "execution_count": null,
   "id": "cf7463fa-7aae-4a60-8bd8-18bac3e22815",
   "metadata": {},
   "outputs": [],
   "source": [
    "wise_capitals_ch = dict()\n",
    "\n",
    "for cap in [\"Human\", \"Social\", \"Natural\", \"Economic\"]:\n",
    "    df = pd.DataFrame(index=wise_ch_by_capitals[cap].keys(), columns=[y for y in year_ranges[cap]])\n",
    "    \n",
    "    for index in df.index:\n",
    "        for year in df.columns:\n",
    "            current = wise_ch_by_capitals[cap][index]\n",
    "            val = current.loc[current[\"Year\"]==year, \"Value\"]\n",
    "            if len(val)>0:\n",
    "                df.loc[index, year] = val.values[0]\n",
    "\n",
    "    wise_capitals_ch[cap] = df"
   ]
  },
  {
   "cell_type": "markdown",
   "id": "48eb35e1-ebe8-459f-a8b9-44d2d466ce00",
   "metadata": {},
   "source": [
    "# Next steps:\n",
    "- in all four capitals, drop columns where all values are NULL\n",
    "- interpolate the remaining NULL values\n",
    "- look at correlations\n",
    "- compute PCA"
   ]
  },
  {
   "cell_type": "markdown",
   "id": "6d6977d4-a78e-4e47-8b33-7f2fc603ec87",
   "metadata": {},
   "source": [
    "### Step 3: Find indicators that can be compared because they were measured in the same year"
   ]
  },
  {
   "cell_type": "code",
   "execution_count": null,
   "id": "30dce6f9-7474-4462-8fc8-5232cda84fea",
   "metadata": {},
   "outputs": [],
   "source": [
    "impossible = []\n",
    "bad = []\n",
    "medium = []\n",
    "good = []\n",
    "great = []\n",
    "\n",
    "combis = list(combinations(wise_ch_ind__nonconst.keys(),2))\n",
    "n_combis = len(combis)\n",
    "for ind1, ind2 in combis:\n",
    "    years_1 = set(wise_ch_ind__nonconst[ind1][\"Year\"])\n",
    "    years_2 = set(wise_ch_ind__nonconst[ind2][\"Year\"])\n",
    "    common_years = years_1.intersection(years_2)\n",
    "    if len(common_years)==0:\n",
    "        impossible.append([ind1, ind2])\n",
    "    elif len(common_years) <= 5:\n",
    "        bad.append([ind1, ind2, len(common_years)])\n",
    "    elif len(common_years) <= 10:\n",
    "        medium.append([ind1, ind2, len(common_years)])\n",
    "    elif len(common_years) <= 30:\n",
    "        good.append([ind1, ind2, len(common_years)])\n",
    "    else:\n",
    "        great.append([ind1, ind2, len(common_years)])\n",
    "\n",
    "pd.DataFrame.from_dict({\"impossible\": [len(impossible), np.round(100*len(impossible)/n_combis,2)],\n",
    "                        \"bad\": [len(bad), np.round(100*len(bad)/n_combis,2)],\n",
    "                        \"medium\": [len(medium), np.round(100*len(medium)/n_combis,2)],\n",
    "                        \"good\": [len(good), np.round(100*len(good)/n_combis,2)],\n",
    "                        \"great\": [len(great), np.round(100*len(great)/n_combis,2)]\n",
    "                       })\\\n",
    "            .transpose()\\\n",
    "            .rename({0: \"count\", 1: \"%\"}, axis=1)\\\n",
    "            .astype({\"count\": int})"
   ]
  },
  {
   "cell_type": "code",
   "execution_count": null,
   "id": "f24a4776-842c-49f8-81a0-219989e13fce",
   "metadata": {},
   "outputs": [],
   "source": [
    "sorted_years_list = sorted([(ind, set(df[\"Year\"].values), len(df[\"Year\"])) for (ind, df) in wise_ch_ind__nonconst.items()], key=lambda x: x[2])[::-1]"
   ]
  },
  {
   "cell_type": "code",
   "execution_count": null,
   "id": "d50bf859-2c33-490e-bf51-0716886e8932",
   "metadata": {},
   "outputs": [],
   "source": [
    "intersection = sorted_years_list[0][1]\n",
    "size_intersection = [len(sorted_years_list[0][1])]\n",
    "for i in range(1,len(sorted_years_list)):\n",
    "    intersection = intersection.intersection(sorted_years_list[i][1])\n",
    "    size_intersection.append(len(intersection))"
   ]
  },
  {
   "cell_type": "code",
   "execution_count": null,
   "id": "2c644560-5bc8-4061-aad6-3c01866a9cde",
   "metadata": {},
   "outputs": [],
   "source": [
    "plt.plot(size_intersection)\n",
    "plt.axhline(y=30, ls=\"--\", c=\"k\")"
   ]
  },
  {
   "cell_type": "code",
   "execution_count": null,
   "id": "168de614-8905-4846-82d4-56f06099c10f",
   "metadata": {},
   "outputs": [],
   "source": []
  }
 ],
 "metadata": {
  "kernelspec": {
   "display_name": "Python 3 (ipykernel)",
   "language": "python",
   "name": "python3"
  },
  "language_info": {
   "codemirror_mode": {
    "name": "ipython",
    "version": 3
   },
   "file_extension": ".py",
   "mimetype": "text/x-python",
   "name": "python",
   "nbconvert_exporter": "python",
   "pygments_lexer": "ipython3",
   "version": "3.13.3"
  }
 },
 "nbformat": 4,
 "nbformat_minor": 5
}
