{
 "cells": [
  {
   "cell_type": "markdown",
   "id": "d8a85fd5-9650-4b73-bb13-01f78c7241dc",
   "metadata": {},
   "source": [
    "# Country-level Analysis of beyond-GDP Metrics"
   ]
  },
  {
   "cell_type": "code",
   "execution_count": null,
   "id": "a9ea5262-ddc8-4331-8ebd-fd274a9c63a6",
   "metadata": {},
   "outputs": [],
   "source": [
    "# Stdlib imports\n",
    "from pathlib import Path\n",
    "\n",
    "# 3rd party imports\n",
    "import pandas as pd\n",
    "import matplotlib.pyplot as plt\n",
    "import seaborn as sns\n",
    "import numpy as np"
   ]
  },
  {
   "cell_type": "markdown",
   "id": "c183ea2e-0087-4b48-a5f7-42486043ac9d",
   "metadata": {},
   "source": [
    "## WISE data analysis"
   ]
  },
  {
   "cell_type": "code",
   "execution_count": null,
   "id": "a3b71c5b-963c-438b-b7ff-f20f4371c719",
   "metadata": {},
   "outputs": [],
   "source": [
    "# Set up file paths\n",
    "data_root = Path(\"../../data\")\n",
    "wisedb_path = data_root / \"WISE/Data/WISE_Database/\""
   ]
  },
  {
   "cell_type": "code",
   "execution_count": null,
   "id": "59b6a367-5744-40df-af32-972bbe3862eb",
   "metadata": {},
   "outputs": [],
   "source": [
    "# Read the WISE database into memory\n",
    "wise_db = dict()\n",
    "\n",
    "for sheet in [\"Content\", \"Metrics Info\", \"C Data\", \"CG Data\", \"Metrics C&CG\", \"C&CG Code\"]:\n",
    "    wise_db[sheet] = pd.read_excel(wisedb_path / \"WISE_Database.xlsx\", sheet_name=sheet)"
   ]
  },
  {
   "cell_type": "markdown",
   "id": "838a1fa2-29ff-401f-ae94-75e50fc5dc01",
   "metadata": {},
   "source": [
    "### Correlation analysis for Switzerland"
   ]
  },
  {
   "cell_type": "code",
   "execution_count": null,
   "id": "fe8cd401-01df-47ee-9739-700bb6c078b9",
   "metadata": {},
   "outputs": [],
   "source": [
    "# Filter data for Switzerland (ISO3 = \"CHE\")\n",
    "wise_ch = wise_db[\"C Data\"].loc[wise_db[\"C Data\"][\"ISO3\"].values == \"CHE\"]"
   ]
  },
  {
   "cell_type": "code",
   "execution_count": null,
   "id": "6d46085e-6211-4ddf-a1a4-8b1c4b799c27",
   "metadata": {},
   "outputs": [],
   "source": [
    "# Split dataframe into dictionary of dataframes. Each key-value pair belongs to a specific indicator\n",
    "wise_ch_ind = dict()\n",
    "\n",
    "for acr in wise_ch[\"Acronym\"].unique():\n",
    "    wise_ch_ind[acr] = wise_ch.loc[wise_ch[\"Acronym\"]==acr]"
   ]
  },
  {
   "cell_type": "code",
   "execution_count": null,
   "id": "30dce6f9-7474-4462-8fc8-5232cda84fea",
   "metadata": {},
   "outputs": [],
   "source": []
  }
 ],
 "metadata": {
  "kernelspec": {
   "display_name": "Python 3 (ipykernel)",
   "language": "python",
   "name": "python3"
  },
  "language_info": {
   "codemirror_mode": {
    "name": "ipython",
    "version": 3
   },
   "file_extension": ".py",
   "mimetype": "text/x-python",
   "name": "python",
   "nbconvert_exporter": "python",
   "pygments_lexer": "ipython3",
   "version": "3.13.3"
  }
 },
 "nbformat": 4,
 "nbformat_minor": 5
}
