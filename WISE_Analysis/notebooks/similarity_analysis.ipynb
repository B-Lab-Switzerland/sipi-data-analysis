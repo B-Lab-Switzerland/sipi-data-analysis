{
 "cells": [
  {
   "cell_type": "code",
   "execution_count": 1,
   "id": "ca998e32-9c1f-4e9a-85e8-318d8a35b6e2",
   "metadata": {},
   "outputs": [],
   "source": [
    "import pandas as pd\n",
    "import matplotlib.pyplot as plt\n",
    "import numpy as np\n",
    "from sklearn.metrics.pairwise import cosine_similarity"
   ]
  },
  {
   "cell_type": "code",
   "execution_count": 2,
   "id": "3aaa0a44-4a5a-4244-b3de-592c5f874d03",
   "metadata": {},
   "outputs": [],
   "source": [
    "che = pd.read_excel(\"../data/raw/WISE_Database/Data/WISE_Database/WISE_Database_CHE.xlsx\")\n",
    "deu = pd.read_excel(\"../data/raw/WISE_Database/Data/WISE_Database/WISE_Database_DEU.xlsx\")\n",
    "swe = pd.read_excel(\"../data/raw/WISE_Database/Data/WISE_Database/WISE_Database_SWE.xlsx\")\n",
    "usa = pd.read_excel(\"../data/raw/WISE_Database/Data/WISE_Database/WISE_Database_USA.xlsx\")\n",
    "chn = pd.read_excel(\"../data/raw/WISE_Database/Data/WISE_Database/WISE_Database_CHN.xlsx\")"
   ]
  },
  {
   "cell_type": "code",
   "execution_count": 3,
   "id": "489b98c8-3343-456c-9486-e13ff34e44a6",
   "metadata": {},
   "outputs": [],
   "source": [
    "che_medians = che.groupby(\"Acronym\").agg({\"Value\": \"median\"})\n",
    "deu_medians = deu.groupby(\"Acronym\").agg({\"Value\": \"median\"})\n",
    "swe_medians = swe.groupby(\"Acronym\").agg({\"Value\": \"median\"})\n",
    "usa_medians = usa.groupby(\"Acronym\").agg({\"Value\": \"median\"})\n",
    "chn_medians = chn.groupby(\"Acronym\").agg({\"Value\": \"median\"})"
   ]
  },
  {
   "cell_type": "code",
   "execution_count": 4,
   "id": "73eb8b0e-2f83-4018-a47d-d43077b6bdba",
   "metadata": {},
   "outputs": [],
   "source": [
    "common_metrics = set(che_medians.index).intersection(set(deu_medians.index))\\\n",
    ".intersection(set(swe_medians.index))\\\n",
    ".intersection(set(usa_medians.index))\\\n",
    ".intersection(set(chn_medians.index))"
   ]
  },
  {
   "cell_type": "code",
   "execution_count": 5,
   "id": "378aab86-ac55-41b6-8429-8e96553956e2",
   "metadata": {},
   "outputs": [],
   "source": [
    "che_medians_common = che_medians[che_medians.index.isin(common_metrics)]\n",
    "deu_medians_common = deu_medians[deu_medians.index.isin(common_metrics)]\n",
    "swe_medians_common = swe_medians[swe_medians.index.isin(common_metrics)]\n",
    "usa_medians_common = usa_medians[usa_medians.index.isin(common_metrics)]\n",
    "chn_medians_common = chn_medians[chn_medians.index.isin(common_metrics)]"
   ]
  },
  {
   "cell_type": "code",
   "execution_count": 6,
   "id": "6025d451-00b3-4de5-a7dc-4484930a10ac",
   "metadata": {},
   "outputs": [],
   "source": [
    "similarities = dict()\n",
    "similarities[\"CHE-DEU\"] = cosine_similarity(che_medians_common.values.reshape(1,-1), deu_medians_common.values.reshape(1,-1))[0][0]\n",
    "similarities[\"CHE-SWE\"] = cosine_similarity(che_medians_common.values.reshape(1,-1), swe_medians_common.values.reshape(1,-1))[0][0]\n",
    "similarities[\"CHE-USA\"] = cosine_similarity(che_medians_common.values.reshape(1,-1), usa_medians_common.values.reshape(1,-1))[0][0]\n",
    "similarities[\"CHE-CHN\"] = cosine_similarity(che_medians_common.values.reshape(1,-1), chn_medians_common.values.reshape(1,-1))[0][0]"
   ]
  },
  {
   "cell_type": "code",
   "execution_count": 7,
   "id": "fba535a0-c963-48d8-be48-25e3e1b68996",
   "metadata": {},
   "outputs": [
    {
     "data": {
      "text/plain": [
       "CHE-DEU    0.993697\n",
       "CHE-USA    0.992995\n",
       "CHE-SWE    0.987861\n",
       "CHE-CHN    0.981755\n",
       "dtype: float64"
      ]
     },
     "execution_count": 7,
     "metadata": {},
     "output_type": "execute_result"
    }
   ],
   "source": [
    "pd.Series(similarities).sort_values(ascending=False)"
   ]
  },
  {
   "cell_type": "code",
   "execution_count": null,
   "id": "6eee1a1f-52d8-4d63-b3f8-377b0ed97504",
   "metadata": {},
   "outputs": [],
   "source": []
  }
 ],
 "metadata": {
  "kernelspec": {
   "display_name": "Python 3 (ipykernel)",
   "language": "python",
   "name": "python3"
  },
  "language_info": {
   "codemirror_mode": {
    "name": "ipython",
    "version": 3
   },
   "file_extension": ".py",
   "mimetype": "text/x-python",
   "name": "python",
   "nbconvert_exporter": "python",
   "pygments_lexer": "ipython3",
   "version": "3.13.5"
  }
 },
 "nbformat": 4,
 "nbformat_minor": 5
}
