{
 "cells": [
  {
   "cell_type": "markdown",
   "id": "d8a85fd5-9650-4b73-bb13-01f78c7241dc",
   "metadata": {},
   "source": [
    "# WISE Database - Analysis"
   ]
  },
  {
   "cell_type": "code",
   "execution_count": null,
   "id": "a9ea5262-ddc8-4331-8ebd-fd274a9c63a6",
   "metadata": {},
   "outputs": [],
   "source": [
    "# Stdlib imports\n",
    "from pathlib import Path\n",
    "from collections import namedtuple\n",
    "from itertools import combinations\n",
    "from typing import Dict, List\n",
    "\n",
    "# 3rd party imports\n",
    "import pandas as pd\n",
    "import numpy as np\n",
    "import matplotlib.pyplot as plt\n",
    "import seaborn as sns\n",
    "from matplotlib import colormaps as cm\n",
    "\n",
    "# Local imports\n",
    "from pywise import wise_scraper as scraper\n",
    "from pywise import wise_processor as processor\n",
    "from pywise import wise_analysis as analysis"
   ]
  },
  {
   "cell_type": "markdown",
   "id": "98e36517-ef60-43b6-a5d8-d7816fb19690",
   "metadata": {},
   "source": [
    "## Setup"
   ]
  },
  {
   "cell_type": "markdown",
   "id": "34073992-26ec-4cc7-b43c-c459e0492b57",
   "metadata": {},
   "source": [
    "## 1) Load WISE database"
   ]
  },
  {
   "cell_type": "code",
   "execution_count": null,
   "id": "0b7c8751-653a-4525-a5bd-b715afafc3a2",
   "metadata": {},
   "outputs": [],
   "source": [
    "wloader = scraper.WiseLoader()\n",
    "\n",
    "# Specifying the optional argument \"country_iso3\" makes\n",
    "# the code load only data for that country. This has the\n",
    "# effect of significantly reducing the time it takes to\n",
    "# execute the load() method in the next line.\n",
    "raw_data = wloader.load(country_iso3 = \"CHE\")"
   ]
  },
  {
   "cell_type": "markdown",
   "id": "25f97c1b-d630-4828-b231-2d93d284c597",
   "metadata": {},
   "source": [
    "## 2) Process/Transform Data"
   ]
  },
  {
   "cell_type": "code",
   "execution_count": null,
   "id": "2c7c3388-3e01-4ec7-a0b6-6249ecaa4ad7",
   "metadata": {},
   "outputs": [],
   "source": [
    "pipeline = processor.TransformationPipeline(raw_data, wloader.metatable)\n",
    "final_output = pipeline.run()"
   ]
  },
  {
   "cell_type": "code",
   "execution_count": null,
   "id": "b5dbdb72-0ac4-4827-b1f2-a7249a0ac871",
   "metadata": {},
   "outputs": [],
   "source": [
    "results = pipeline.collect_results()"
   ]
  },
  {
   "cell_type": "markdown",
   "id": "d7dffc50-23bb-4ff4-adcd-7f5470bd7b76",
   "metadata": {},
   "source": [
    "## 3) Data Visualization"
   ]
  },
  {
   "cell_type": "code",
   "execution_count": null,
   "id": "ba0060a9-0939-4de4-b512-1a37c4ab5d12",
   "metadata": {},
   "outputs": [],
   "source": [
    "#pipeline.create_inspection_plots(create='all', write=True)"
   ]
  },
  {
   "cell_type": "markdown",
   "id": "c183ea2e-0087-4b48-a5f7-42486043ac9d",
   "metadata": {},
   "source": [
    "## 4) Analysis\n",
    "### 4.1) Data Availability & Coverage Analysis\n",
    "#### 4.1.1) Analysis of capitals\n",
    "Question: How many metrics per capital are there?"
   ]
  },
  {
   "cell_type": "code",
   "execution_count": null,
   "id": "467b8884-bb23-428d-9163-be75b4503770",
   "metadata": {},
   "outputs": [],
   "source": [
    "n_metrics_per_capital = analysis.nMetricsPerCapital(results[\"clean\"])\n",
    "npc = n_metrics_per_capital.analyze()"
   ]
  },
  {
   "cell_type": "code",
   "execution_count": null,
   "id": "d7d2195b-3547-4f61-a211-a8013b6054d7",
   "metadata": {},
   "outputs": [],
   "source": [
    "pipeline.metatable"
   ]
  },
  {
   "cell_type": "code",
   "execution_count": null,
   "id": "29155771-08c6-45cf-9c08-fea40d7755c4",
   "metadata": {},
   "outputs": [],
   "source": []
  }
 ],
 "metadata": {
  "kernelspec": {
   "display_name": "Python 3 (ipykernel)",
   "language": "python",
   "name": "python3"
  },
  "language_info": {
   "codemirror_mode": {
    "name": "ipython",
    "version": 3
   },
   "file_extension": ".py",
   "mimetype": "text/x-python",
   "name": "python",
   "nbconvert_exporter": "python",
   "pygments_lexer": "ipython3",
   "version": "3.13.5"
  }
 },
 "nbformat": 4,
 "nbformat_minor": 5
}
