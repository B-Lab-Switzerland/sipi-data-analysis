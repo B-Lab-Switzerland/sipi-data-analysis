{
 "cells": [
  {
   "cell_type": "markdown",
   "id": "d8a85fd5-9650-4b73-bb13-01f78c7241dc",
   "metadata": {},
   "source": [
    "# WISE Database - Analysis"
   ]
  },
  {
   "cell_type": "code",
   "execution_count": null,
   "id": "a9ea5262-ddc8-4331-8ebd-fd274a9c63a6",
   "metadata": {},
   "outputs": [],
   "source": [
    "# Stdlib imports\n",
    "from pathlib import Path\n",
    "from collections import namedtuple\n",
    "from itertools import combinations\n",
    "from typing import Dict, List\n",
    "\n",
    "# 3rd party imports\n",
    "import pandas as pd\n",
    "import numpy as np\n",
    "import matplotlib.pyplot as plt\n",
    "import seaborn as sns\n",
    "from matplotlib import colormaps as cm\n",
    "\n",
    "# Local imports\n",
    "from pywise import wise_consts as const\n",
    "from pywise import wise_scraper as scraper\n",
    "from pywise import wise_processor as processor\n",
    "from pywise import wise_analysis as analysis\n",
    "from pywise import wise_aux as aux"
   ]
  },
  {
   "cell_type": "markdown",
   "id": "98e36517-ef60-43b6-a5d8-d7816fb19690",
   "metadata": {},
   "source": [
    "## Setup"
   ]
  },
  {
   "cell_type": "markdown",
   "id": "34073992-26ec-4cc7-b43c-c459e0492b57",
   "metadata": {},
   "source": [
    "## 1) Load WISE database"
   ]
  },
  {
   "cell_type": "code",
   "execution_count": null,
   "id": "f1d7c63d-d262-47e1-a407-5da38b13064a",
   "metadata": {},
   "outputs": [],
   "source": [
    "# configure the paths once\n",
    "country_code = \"SWE\"\n",
    "const.configure_paths(iso3=country_code)"
   ]
  },
  {
   "cell_type": "code",
   "execution_count": null,
   "id": "0b7c8751-653a-4525-a5bd-b715afafc3a2",
   "metadata": {},
   "outputs": [],
   "source": [
    "wloader = scraper.WiseLoader()\n",
    "\n",
    "# Specifying the optional argument \"country_iso3\" makes\n",
    "# the code load only data for that country. This has the\n",
    "# effect of significantly reducing the time it takes to\n",
    "# execute the load() method in the next line.\n",
    "raw_data = wloader.load(country_iso3 = country_code)"
   ]
  },
  {
   "cell_type": "markdown",
   "id": "25f97c1b-d630-4828-b231-2d93d284c597",
   "metadata": {},
   "source": [
    "## 2) Process/Transform Data"
   ]
  },
  {
   "cell_type": "code",
   "execution_count": null,
   "id": "2c7c3388-3e01-4ec7-a0b6-6249ecaa4ad7",
   "metadata": {},
   "outputs": [],
   "source": [
    "pipeline = processor.TransformationPipeline(raw_data, wloader.metatable)\n",
    "final_output = pipeline.run()"
   ]
  },
  {
   "cell_type": "code",
   "execution_count": null,
   "id": "b5dbdb72-0ac4-4827-b1f2-a7249a0ac871",
   "metadata": {},
   "outputs": [],
   "source": [
    "results = pipeline.collect_results()"
   ]
  },
  {
   "cell_type": "markdown",
   "id": "d7dffc50-23bb-4ff4-adcd-7f5470bd7b76",
   "metadata": {},
   "source": [
    "## 3) Data Visualization"
   ]
  },
  {
   "cell_type": "code",
   "execution_count": null,
   "id": "ba0060a9-0939-4de4-b512-1a37c4ab5d12",
   "metadata": {},
   "outputs": [],
   "source": [
    "pipeline.create_inspection_plots(create='all', write=True)"
   ]
  },
  {
   "cell_type": "markdown",
   "id": "c183ea2e-0087-4b48-a5f7-42486043ac9d",
   "metadata": {},
   "source": [
    "## 4) Analysis\n",
    "### 4.1) Data Availability & Coverage Analysis\n",
    "#### 4.1.1) Analysis of capitals\n",
    "Question: How many metrics per capital are there?"
   ]
  },
  {
   "cell_type": "code",
   "execution_count": null,
   "id": "467b8884-bb23-428d-9163-be75b4503770",
   "metadata": {},
   "outputs": [],
   "source": [
    "n_metrics_per_capital = analysis.nMetricsPerCapital(results[\"clean\"])\n",
    "npc = n_metrics_per_capital.analyze()"
   ]
  },
  {
   "cell_type": "markdown",
   "id": "deeaf9bd-139e-4f56-b3cc-700a0787ecf1",
   "metadata": {},
   "source": [
    "#### 4.1.2) Analysis of sparse data\n",
    "Question: How many metrics per capital are too sparse (i.e. have less than 10 data points)"
   ]
  },
  {
   "cell_type": "code",
   "execution_count": null,
   "id": "731fbb71-6338-4e48-b3e5-c447f9f5f80e",
   "metadata": {},
   "outputs": [],
   "source": [
    "n_sparse_per_capital = analysis.nSparseMetricsPerCapital(results[\"sparse_cols\"])\n",
    "nspc = n_sparse_per_capital.analyze()"
   ]
  },
  {
   "cell_type": "markdown",
   "id": "f6e9aa0a-e2c9-4825-9eca-11f1bf202124",
   "metadata": {},
   "source": [
    "### 4.3) Analysis of raw data availability\n",
    "Goal: Visually represent how many data points are available for each metric. Add additional information such as when that data is available and what capital the metric belongs to."
   ]
  },
  {
   "cell_type": "code",
   "execution_count": null,
   "id": "fc0c9ebe-102a-4b26-b26a-8596500f0bbf",
   "metadata": {},
   "outputs": [],
   "source": [
    "raw_data_availability = analysis.RawDataAvailability(results[\"raw\"])\n",
    "rda = raw_data_availability.analyze()"
   ]
  },
  {
   "cell_type": "markdown",
   "id": "2a6756e5-55e8-45e2-9925-c7604d558d8a",
   "metadata": {},
   "source": [
    "### 4.4) Correlation Analysis\n",
    "Question: Which metrics are redundant?"
   ]
  },
  {
   "cell_type": "code",
   "execution_count": null,
   "id": "5bec5184-ba3e-4e95-a793-ca12b7b5196a",
   "metadata": {},
   "outputs": [],
   "source": [
    "for iso3, df in final_output.items():\n",
    "    corr_zero_lag = analysis.CorrleationAnalysis(df, iso3, lag=0)\n",
    "    corr_zero_lag.analyze()"
   ]
  },
  {
   "cell_type": "code",
   "execution_count": null,
   "id": "84f9b100-9522-406c-b908-698b3273037d",
   "metadata": {},
   "outputs": [],
   "source": [
    "for iso3, df in final_output.items():\n",
    "    corr_agg = analysis.CorrleationAnalysis(df, iso3, lag=-1)\n",
    "    corr_agg.analyze()"
   ]
  },
  {
   "cell_type": "markdown",
   "id": "80913dae-8cc2-4c8a-8894-725716527e45",
   "metadata": {},
   "source": [
    "### 4.5) Trend & Performance Analysis\n",
    "#### 4.5.1) Analysis of trend statistics per capital\n",
    "Question 1: How well do the individual capitals do in terms of evolving in the right direction?\n",
    "\n",
    "Question 2: How many key indicators are there among the groups of best and worst performing metrics, respectively?"
   ]
  },
  {
   "cell_type": "code",
   "execution_count": null,
   "id": "f365c398-36a1-432c-acc9-30d80811a63e",
   "metadata": {},
   "outputs": [],
   "source": [
    "ta = analysis.PerformanceRanker(results[\"clean\"])\n",
    "ta.analyze()"
   ]
  },
  {
   "cell_type": "code",
   "execution_count": null,
   "id": "a3e0668a-b7af-4823-9a83-d5120c48aca6",
   "metadata": {},
   "outputs": [],
   "source": [
    "ta.output[country_code].groupby(\"capital - primary\").agg(count=pd.NamedAgg(column=\"slope_norm\", \n",
    "                                                                           aggfunc=\"count\"\n",
    "                                                                          ),\n",
    "                                                         q25=pd.NamedAgg(column=\"slope_norm\", \n",
    "                                                                         aggfunc=lambda x: np.percentile(x,25)\n",
    "                                                                        ),\n",
    "                                                         median=pd.NamedAgg(column=\"slope_norm\", \n",
    "                                                                            aggfunc=lambda x: np.median(x)\n",
    "                                                                           ),\n",
    "                                                         q75=pd.NamedAgg(column=\"slope_norm\", \n",
    "                                                                         aggfunc=lambda x: np.percentile(x,75)\n",
    "                                                                        ),\n",
    "                                                         )"
   ]
  },
  {
   "cell_type": "markdown",
   "id": "155c87e2-bf65-4b19-93ea-1e687d716067",
   "metadata": {},
   "source": [
    "#### 4.5.2) Best & Worst Performering Metrics\n",
    "##### 4.5.2.a) Best & Worst Performering Metrics over all\n",
    "Question: Which are the 3 best and worst performing metrics over all capitals?"
   ]
  },
  {
   "cell_type": "code",
   "execution_count": null,
   "id": "f13673f7-456a-4b67-a5fb-df3fd06ba870",
   "metadata": {},
   "outputs": [],
   "source": [
    "ta.additional_results[\"top_performers\"][country_code][\"overall\"]"
   ]
  },
  {
   "cell_type": "code",
   "execution_count": null,
   "id": "73a2fc3e-95e1-4f02-a0a7-d055200021dc",
   "metadata": {},
   "outputs": [],
   "source": [
    "ta.additional_results[\"bottom_performers\"][country_code][\"overall\"]"
   ]
  },
  {
   "cell_type": "markdown",
   "id": "5661bd78-44ad-46a9-9b9c-eaf58754bafe",
   "metadata": {},
   "source": [
    "##### 4.5.2.b) Best & Worst Performering Metrics per capital\n",
    "Question: Which are the 3 best and worst performing metrics within each capital?"
   ]
  },
  {
   "cell_type": "code",
   "execution_count": null,
   "id": "e1a926f4-6e96-4c2a-bc69-47d5f02506d4",
   "metadata": {},
   "outputs": [],
   "source": [
    "aux.pretty_print({cap: ta.additional_results[\"top_performers\"][country_code][cap] for cap in ta.capitallist})"
   ]
  },
  {
   "cell_type": "code",
   "execution_count": null,
   "id": "834e5345-7b1e-4863-8023-d2afad80a45a",
   "metadata": {},
   "outputs": [],
   "source": [
    "aux.pretty_print({cap: ta.additional_results[\"bottom_performers\"][country_code][cap] for cap in ta.capitallist})"
   ]
  }
 ],
 "metadata": {
  "kernelspec": {
   "display_name": "Python 3 (ipykernel)",
   "language": "python",
   "name": "python3"
  },
  "language_info": {
   "codemirror_mode": {
    "name": "ipython",
    "version": 3
   },
   "file_extension": ".py",
   "mimetype": "text/x-python",
   "name": "python",
   "nbconvert_exporter": "python",
   "pygments_lexer": "ipython3",
   "version": "3.13.5"
  }
 },
 "nbformat": 4,
 "nbformat_minor": 5
}
