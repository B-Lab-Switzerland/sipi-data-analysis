{
 "cells": [
  {
   "cell_type": "code",
   "execution_count": 9,
   "id": "a9ea5262-ddc8-4331-8ebd-fd274a9c63a6",
   "metadata": {},
   "outputs": [],
   "source": [
    "import pandas as pd\n",
    "from pathlib import Path\n",
    "from blab_base.conf import blab_root"
   ]
  },
  {
   "cell_type": "code",
   "execution_count": 7,
   "id": "9111ec0e-9eb9-449d-b66f-b6a881f7af2f",
   "metadata": {},
   "outputs": [],
   "source": [
    "data_dir = Path(blab_root) / \"Data\"\n",
    "wise_dir = data_dir / \"CountryLevel\" / \"WISE\" / \"Data\"\n",
    "hdr_dir = data_dir / \"CountryLevel\" / \"UNDP_HDR\""
   ]
  },
  {
   "cell_type": "markdown",
   "id": "c183ea2e-0087-4b48-a5f7-42486043ac9d",
   "metadata": {},
   "source": [
    "## WISE data analysis"
   ]
  },
  {
   "cell_type": "code",
   "execution_count": 15,
   "id": "59b6a367-5744-40df-af32-972bbe3862eb",
   "metadata": {},
   "outputs": [],
   "source": [
    "wise_db_content = pd.read_excel(wise_dir / \"WISE_Database/WISE_Database.xlsx\", sheet_name=\"Content\")\n",
    "wise_db_metrics = pd.read_excel(wise_dir / \"WISE_Database/WISE_Database.xlsx\", sheet_name=\"Metrics Info\")\n",
    "wise_db_country = pd.read_excel(wise_dir / \"WISE_Database/WISE_Database.xlsx\", sheet_name=\"C Data\")\n",
    "wise_db_groupings = pd.read_excel(wise_dir / \"WISE_Database/WISE_Database.xlsx\", sheet_name=\"CG Data\")\n",
    "wise_db_meta = pd.read_excel(wise_dir / \"WISE_Database/WISE_Database.xlsx\", sheet_name=\"Metrics C&CG\")\n",
    "wise_db_countrycodes = pd.read_excel(wise_dir / \"WISE_Database/WISE_Database.xlsx\", sheet_name=\"C&CG Code\")"
   ]
  },
  {
   "cell_type": "code",
   "execution_count": 20,
   "id": "3d9af0c6-d63a-4db1-a1ea-a4440bf701d5",
   "metadata": {},
   "outputs": [
    {
     "data": {
      "text/plain": [
       "Index(['ISO3', 'Acronym', 'Year', 'Value', 'Unit'], dtype='object')"
      ]
     },
     "execution_count": 20,
     "metadata": {},
     "output_type": "execute_result"
    }
   ],
   "source": [
    "wise_db_country.columns"
   ]
  },
  {
   "cell_type": "code",
   "execution_count": 22,
   "id": "04ade842-138a-4063-9e8f-94f5f0f0abbb",
   "metadata": {},
   "outputs": [
    {
     "data": {
      "text/plain": [
       "244"
      ]
     },
     "execution_count": 22,
     "metadata": {},
     "output_type": "execute_result"
    }
   ],
   "source": [
    "wise_db_country[\"Acronym\"].nunique()"
   ]
  },
  {
   "cell_type": "code",
   "execution_count": null,
   "id": "fd8bbac3-1b74-4ec8-a4ff-d0fe48cae73d",
   "metadata": {},
   "outputs": [],
   "source": []
  }
 ],
 "metadata": {
  "kernelspec": {
   "display_name": "Python 3 (ipykernel)",
   "language": "python",
   "name": "python3"
  },
  "language_info": {
   "codemirror_mode": {
    "name": "ipython",
    "version": 3
   },
   "file_extension": ".py",
   "mimetype": "text/x-python",
   "name": "python",
   "nbconvert_exporter": "python",
   "pygments_lexer": "ipython3",
   "version": "3.13.2"
  }
 },
 "nbformat": 4,
 "nbformat_minor": 5
}
